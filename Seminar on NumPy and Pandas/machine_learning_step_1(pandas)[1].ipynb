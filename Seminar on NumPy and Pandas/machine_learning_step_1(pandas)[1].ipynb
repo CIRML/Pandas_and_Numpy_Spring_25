{
 "cells": [
  {
   "cell_type": "markdown",
   "id": "4541f3ae",
   "metadata": {
    "slideshow": {
     "slide_type": "slide"
    }
   },
   "source": [
    "<div style=\"background: linear-gradient(135deg, #16a085, #1abc9c); padding: 20px; border-radius: 12px; font-family: 'Arial', sans-serif; box-shadow: 0 4px 6px rgba(0, 0, 0, 0.1); text-align: center; margin-bottom: 20px;\">\n",
    "    <strong style=\"color: white; font-size: 35px; font-weight: bold; text-shadow: 2px 2px 4px rgba(0, 0, 0, 0.2); display: block;\">\n",
    "        Pandas Library\n",
    "    </strong>\n",
    "</div>"
   ]
  },
  {
   "cell_type": "markdown",
   "id": "fa3dfd9b",
   "metadata": {
    "slideshow": {
     "slide_type": "subslide"
    }
   },
   "source": [
    "<div style=\"background: #f9f9f9; padding: 20px; border-radius: 8px; font-family: 'Verdana', sans-serif; \n",
    "            box-shadow: 0 2px 4px rgba(0, 0, 0, 0.1); margin: 0 auto;\">\n",
    "    <strong style=\"display: block; text-align: center; font-size: 24px; color: #2c3e50; padding: 12px; \n",
    "                   border-bottom: 2px solid #2c3e50; margin-bottom: 20px;\">\n",
    "        Table of Contents\n",
    "    </strong>\n",
    "    <div style=\"display: flex; flex-wrap: wrap; gap: 20px;\">\n",
    "        <!-- Left Column -->\n",
    "        <div style=\"flex: 1; min-width: 520px;\">\n",
    "            <ul style=\"list-style-type: none; padding: 0; margin: 0;\">\n",
    "                <li style=\"margin: 10px 0; padding: 10px; border-left: 4px solid #1abc9c; background: #fff; border-radius: 4px;\">\n",
    "                    <a href=\"#1.-How-do-i-read-tabular-data-in-pandas\" style=\"color: #2c3e50; text-decoration: none; display: block;\">\n",
    "                         How do I read tabular data in pandas\n",
    "                    </a>\n",
    "                </li>\n",
    "                <li style=\"margin: 10px 0; padding: 10px; border-left: 4px solid #9b59b6; background: #fff; border-radius: 4px;\">\n",
    "                    <a href=\"#3.-Create-new-series-in-pandas-dataframe\" style=\"color: #2c3e50; text-decoration: none; display: block;\">\n",
    "                         Create new series in pandas dataframe\n",
    "                    </a>\n",
    "                </li>\n",
    "                <li style=\"margin: 10px 0; padding: 10px; border-left: 4px solid #e74c3c; background: #fff; border-radius: 4px;\">\n",
    "                    <a href=\"#4.-Rename-columns-name-in-pandas\" style=\"color: #2c3e50; text-decoration: none; display: block;\">\n",
    "                         Rename columns name in pandas\n",
    "                    </a>\n",
    "                </li>\n",
    "            </ul>\n",
    "        </div>\n",
    "    </div>\n",
    "</div>\n"
   ]
  },
  {
   "cell_type": "markdown",
   "id": "17039282",
   "metadata": {
    "slideshow": {
     "slide_type": "subslide"
    }
   },
   "source": [
    "<div style=\"display: flex; flex-wrap: wrap; gap: 20px;\">\n",
    "    <div style=\"flex: 1; min-width: 520px;\">\n",
    "        <ul style=\"list-style-type: none; padding: 0; margin: 0;\">\n",
    "            <li style=\"margin: 10px 0; padding: 10px; border-left: 4px solid #2ecc71; background: #fff; border-radius: 4px;\">\n",
    "                <a href=\"#6.-Sort-dataframe-or-series\" style=\"color: #2c3e50; text-decoration: none; display: block;\">\n",
    "                     Sort dataframe or series\n",
    "                </a>\n",
    "            </li>\n",
    "            <li style=\"margin: 10px 0; padding: 10px; border-left: 4px solid #3498db; background: #fff; border-radius: 4px;\">\n",
    "                <a href=\"#7.-filter-pandas-dataframe-by-columns-values\" style=\"color: #2c3e50; text-decoration: none; display: block;\">\n",
    "                     Filter pandas dataframe by column values\n",
    "                </a>\n",
    "            </li>\n",
    "            <li style=\"margin: 10px 0; padding: 10px; border-left: 4px solid #e67e22; background: #fff; border-radius: 4px;\">\n",
    "                <a href=\"#8.-Multiple-filters-on-pandas-dataframe\" style=\"color: #2c3e50; text-decoration: none; display: block;\">\n",
    "                     Multiple filters on pandas dataframe\n",
    "                </a>\n",
    "            </li>\n",
    "            <li style=\"margin: 10px 0; padding: 10px; border-left: 4px solid #7f8c8d; background: #fff; border-radius: 4px;\">\n",
    "                <a href=\"#13.-Use-string(str)-methods-in-pandas\" style=\"color: #2c3e50; text-decoration: none; display: block;\">\n",
    "                     Use string (str) methods in pandas\n",
    "                </a>\n",
    "            </li>\n",
    "        </ul>\n",
    "    </div>\n",
    "</div>\n"
   ]
  },
  {
   "cell_type": "markdown",
   "id": "d4c8989f",
   "metadata": {
    "slideshow": {
     "slide_type": "subslide"
    }
   },
   "source": [
    "<div style=\"display: flex; flex-wrap: wrap; gap: 20px;\">\n",
    "    <div style=\"flex: 1; min-width: 520px;\">\n",
    "        <ul style=\"list-style-type: none; padding: 0; margin: 0;\">\n",
    "            <li style=\"margin: 10px 0; padding: 10px; border-left: 4px solid #2c3e50; background: #fff; border-radius: 4px;\">\n",
    "                <a href=\"#14.-Change-the-data-type-of-pandas-series\" style=\"color: #2c3e50; text-decoration: none; display: block;\">\n",
    "                     Change the data type of pandas series\n",
    "                </a>\n",
    "            </li>\n",
    "            <li style=\"margin: 10px 0; padding: 10px; border-left: 4px solid #ff5733; background: #fff; border-radius: 4px;\">\n",
    "                <a href=\"#15.-Use-groupby-in-pandas\" style=\"color: #2c3e50; text-decoration: none; display: block;\">\n",
    "                     Use groupby in pandas\n",
    "                </a>\n",
    "            </li>\n",
    "            <li style=\"margin: 10px 0; padding: 10px; border-left: 4px solid #3f51b5; background: #fff; border-radius: 4px;\">\n",
    "                <a href=\"#17.-Handle-missing-values-in-pandas\" style=\"color: #2c3e50; text-decoration: none; display: block;\">\n",
    "                     Handle missing values in pandas\n",
    "                </a>\n",
    "            </li>\n",
    "            <li style=\"margin: 10px 0; padding: 10px; border-left: 4px solid #e74c3c; background: #fff; border-radius: 4px;\">\n",
    "                <a href=\"#24.-How-i-work-with-date-and-time\" style=\"color: #2c3e50; text-decoration: none; display: block;\">\n",
    "                     How I work with date and time\n",
    "                </a>\n",
    "            </li>\n",
    "            <li style=\"margin: 10px 0; padding: 10px; border-left: 4px solid #c0392b; background: #fff; border-radius: 4px;\">\n",
    "                <a href=\"#30.-Check-for-equality\" style=\"color: #2c3e50; text-decoration: none; display: block;\">\n",
    "                     Check for equality\n",
    "                </a>\n",
    "            </li>\n",
    "        </ul>\n",
    "    </div>\n",
    "</div>\n"
   ]
  },
  {
   "cell_type": "markdown",
   "id": "9a3598d9",
   "metadata": {
    "slideshow": {
     "slide_type": "slide"
    }
   },
   "source": [
    "<ol style=\"color: #2c3e50; font-family: 'Arial', sans-serif; line-height: 1.8; padding: 10px;\">\n",
    "    <strong style=\"color: #8e44ad; background-color: #f4e7fa; padding: 12px; border-radius: 8px; display: block; margin-bottom: 10px;\"> How do i read tabular data in pandas</strong>\n",
    "    </li>\n",
    "</ol>"
   ]
  },
  {
   "cell_type": "code",
   "execution_count": 1,
   "id": "fdb56f6b-c0f5-4516-a684-18008243638b",
   "metadata": {
    "slideshow": {
     "slide_type": "fragment"
    }
   },
   "outputs": [],
   "source": [
    "import pandas as pd"
   ]
  },
  {
   "cell_type": "code",
   "execution_count": 8,
   "id": "02068f5c",
   "metadata": {},
   "outputs": [
    {
     "data": {
      "text/html": [
       "<div>\n",
       "<style scoped>\n",
       "    .dataframe tbody tr th:only-of-type {\n",
       "        vertical-align: middle;\n",
       "    }\n",
       "\n",
       "    .dataframe tbody tr th {\n",
       "        vertical-align: top;\n",
       "    }\n",
       "\n",
       "    .dataframe thead th {\n",
       "        text-align: right;\n",
       "    }\n",
       "</style>\n",
       "<table border=\"1\" class=\"dataframe\">\n",
       "  <thead>\n",
       "    <tr style=\"text-align: right;\">\n",
       "      <th></th>\n",
       "      <th>star_rating,title,content_rating,genre,duration,actors_list</th>\n",
       "    </tr>\n",
       "  </thead>\n",
       "  <tbody>\n",
       "    <tr>\n",
       "      <th>0</th>\n",
       "      <td>9.3,The Shawshank Redemption,R,Crime,142,\"[u'T...</td>\n",
       "    </tr>\n",
       "    <tr>\n",
       "      <th>1</th>\n",
       "      <td>9.2,The Godfather,R,Crime,175,\"[u'Marlon Brand...</td>\n",
       "    </tr>\n",
       "    <tr>\n",
       "      <th>2</th>\n",
       "      <td>9.1,The Godfather: Part II,R,Crime,200,\"[u'Al ...</td>\n",
       "    </tr>\n",
       "    <tr>\n",
       "      <th>3</th>\n",
       "      <td>9,The Dark Knight,PG-13,Action,152,\"[u'Christi...</td>\n",
       "    </tr>\n",
       "    <tr>\n",
       "      <th>4</th>\n",
       "      <td>8.9,Pulp Fiction,R,Crime,154,\"[u'John Travolta...</td>\n",
       "    </tr>\n",
       "    <tr>\n",
       "      <th>...</th>\n",
       "      <td>...</td>\n",
       "    </tr>\n",
       "    <tr>\n",
       "      <th>974</th>\n",
       "      <td>7.4,Tootsie,PG,Comedy,116,\"[u'Dustin Hoffman',...</td>\n",
       "    </tr>\n",
       "    <tr>\n",
       "      <th>975</th>\n",
       "      <td>7.4,Back to the Future Part III,PG,Adventure,1...</td>\n",
       "    </tr>\n",
       "    <tr>\n",
       "      <th>976</th>\n",
       "      <td>7.4,Master and Commander: The Far Side of the ...</td>\n",
       "    </tr>\n",
       "    <tr>\n",
       "      <th>977</th>\n",
       "      <td>7.4,Poltergeist,PG,Horror,114,\"[u'JoBeth Willi...</td>\n",
       "    </tr>\n",
       "    <tr>\n",
       "      <th>978</th>\n",
       "      <td>7.4,Wall Street,R,Crime,126,\"[u'Charlie Sheen'...</td>\n",
       "    </tr>\n",
       "  </tbody>\n",
       "</table>\n",
       "<p>979 rows × 1 columns</p>\n",
       "</div>"
      ],
      "text/plain": [
       "    star_rating,title,content_rating,genre,duration,actors_list\n",
       "0    9.3,The Shawshank Redemption,R,Crime,142,\"[u'T...         \n",
       "1    9.2,The Godfather,R,Crime,175,\"[u'Marlon Brand...         \n",
       "2    9.1,The Godfather: Part II,R,Crime,200,\"[u'Al ...         \n",
       "3    9,The Dark Knight,PG-13,Action,152,\"[u'Christi...         \n",
       "4    8.9,Pulp Fiction,R,Crime,154,\"[u'John Travolta...         \n",
       "..                                                 ...         \n",
       "974  7.4,Tootsie,PG,Comedy,116,\"[u'Dustin Hoffman',...         \n",
       "975  7.4,Back to the Future Part III,PG,Adventure,1...         \n",
       "976  7.4,Master and Commander: The Far Side of the ...         \n",
       "977  7.4,Poltergeist,PG,Horror,114,\"[u'JoBeth Willi...         \n",
       "978  7.4,Wall Street,R,Crime,126,\"[u'Charlie Sheen'...         \n",
       "\n",
       "[979 rows x 1 columns]"
      ]
     },
     "execution_count": 8,
     "metadata": {},
     "output_type": "execute_result"
    }
   ],
   "source": [
    "pd.read_table(r'C:\\Users\\HP\\Downloads\\Compressed\\imdb_1000.csv')"
   ]
  },
  {
   "cell_type": "code",
   "execution_count": 9,
   "id": "ecac0c48",
   "metadata": {
    "slideshow": {
     "slide_type": "slide"
    }
   },
   "outputs": [
    {
     "data": {
      "text/html": [
       "<div>\n",
       "<style scoped>\n",
       "    .dataframe tbody tr th:only-of-type {\n",
       "        vertical-align: middle;\n",
       "    }\n",
       "\n",
       "    .dataframe tbody tr th {\n",
       "        vertical-align: top;\n",
       "    }\n",
       "\n",
       "    .dataframe thead th {\n",
       "        text-align: right;\n",
       "    }\n",
       "</style>\n",
       "<table border=\"1\" class=\"dataframe\">\n",
       "  <thead>\n",
       "    <tr style=\"text-align: right;\">\n",
       "      <th></th>\n",
       "      <th>star_rating</th>\n",
       "      <th>title</th>\n",
       "      <th>content_rating</th>\n",
       "      <th>genre</th>\n",
       "      <th>duration</th>\n",
       "      <th>actors_list</th>\n",
       "    </tr>\n",
       "  </thead>\n",
       "  <tbody>\n",
       "    <tr>\n",
       "      <th>0</th>\n",
       "      <td>9.3</td>\n",
       "      <td>The Shawshank Redemption</td>\n",
       "      <td>R</td>\n",
       "      <td>Crime</td>\n",
       "      <td>142</td>\n",
       "      <td>[u'Tim Robbins', u'Morgan Freeman', u'Bob Gunt...</td>\n",
       "    </tr>\n",
       "    <tr>\n",
       "      <th>1</th>\n",
       "      <td>9.2</td>\n",
       "      <td>The Godfather</td>\n",
       "      <td>R</td>\n",
       "      <td>Crime</td>\n",
       "      <td>175</td>\n",
       "      <td>[u'Marlon Brando', u'Al Pacino', u'James Caan']</td>\n",
       "    </tr>\n",
       "    <tr>\n",
       "      <th>2</th>\n",
       "      <td>9.1</td>\n",
       "      <td>The Godfather: Part II</td>\n",
       "      <td>R</td>\n",
       "      <td>Crime</td>\n",
       "      <td>200</td>\n",
       "      <td>[u'Al Pacino', u'Robert De Niro', u'Robert Duv...</td>\n",
       "    </tr>\n",
       "    <tr>\n",
       "      <th>3</th>\n",
       "      <td>9.0</td>\n",
       "      <td>The Dark Knight</td>\n",
       "      <td>PG-13</td>\n",
       "      <td>Action</td>\n",
       "      <td>152</td>\n",
       "      <td>[u'Christian Bale', u'Heath Ledger', u'Aaron E...</td>\n",
       "    </tr>\n",
       "    <tr>\n",
       "      <th>4</th>\n",
       "      <td>8.9</td>\n",
       "      <td>Pulp Fiction</td>\n",
       "      <td>R</td>\n",
       "      <td>Crime</td>\n",
       "      <td>154</td>\n",
       "      <td>[u'John Travolta', u'Uma Thurman', u'Samuel L....</td>\n",
       "    </tr>\n",
       "    <tr>\n",
       "      <th>...</th>\n",
       "      <td>...</td>\n",
       "      <td>...</td>\n",
       "      <td>...</td>\n",
       "      <td>...</td>\n",
       "      <td>...</td>\n",
       "      <td>...</td>\n",
       "    </tr>\n",
       "    <tr>\n",
       "      <th>974</th>\n",
       "      <td>7.4</td>\n",
       "      <td>Tootsie</td>\n",
       "      <td>PG</td>\n",
       "      <td>Comedy</td>\n",
       "      <td>116</td>\n",
       "      <td>[u'Dustin Hoffman', u'Jessica Lange', u'Teri G...</td>\n",
       "    </tr>\n",
       "    <tr>\n",
       "      <th>975</th>\n",
       "      <td>7.4</td>\n",
       "      <td>Back to the Future Part III</td>\n",
       "      <td>PG</td>\n",
       "      <td>Adventure</td>\n",
       "      <td>118</td>\n",
       "      <td>[u'Michael J. Fox', u'Christopher Lloyd', u'Ma...</td>\n",
       "    </tr>\n",
       "    <tr>\n",
       "      <th>976</th>\n",
       "      <td>7.4</td>\n",
       "      <td>Master and Commander: The Far Side of the World</td>\n",
       "      <td>PG-13</td>\n",
       "      <td>Action</td>\n",
       "      <td>138</td>\n",
       "      <td>[u'Russell Crowe', u'Paul Bettany', u'Billy Bo...</td>\n",
       "    </tr>\n",
       "    <tr>\n",
       "      <th>977</th>\n",
       "      <td>7.4</td>\n",
       "      <td>Poltergeist</td>\n",
       "      <td>PG</td>\n",
       "      <td>Horror</td>\n",
       "      <td>114</td>\n",
       "      <td>[u'JoBeth Williams', u\"Heather O'Rourke\", u'Cr...</td>\n",
       "    </tr>\n",
       "    <tr>\n",
       "      <th>978</th>\n",
       "      <td>7.4</td>\n",
       "      <td>Wall Street</td>\n",
       "      <td>R</td>\n",
       "      <td>Crime</td>\n",
       "      <td>126</td>\n",
       "      <td>[u'Charlie Sheen', u'Michael Douglas', u'Tamar...</td>\n",
       "    </tr>\n",
       "  </tbody>\n",
       "</table>\n",
       "<p>979 rows × 6 columns</p>\n",
       "</div>"
      ],
      "text/plain": [
       "     star_rating                                            title  \\\n",
       "0            9.3                         The Shawshank Redemption   \n",
       "1            9.2                                    The Godfather   \n",
       "2            9.1                           The Godfather: Part II   \n",
       "3            9.0                                  The Dark Knight   \n",
       "4            8.9                                     Pulp Fiction   \n",
       "..           ...                                              ...   \n",
       "974          7.4                                          Tootsie   \n",
       "975          7.4                      Back to the Future Part III   \n",
       "976          7.4  Master and Commander: The Far Side of the World   \n",
       "977          7.4                                      Poltergeist   \n",
       "978          7.4                                      Wall Street   \n",
       "\n",
       "    content_rating      genre  duration  \\\n",
       "0                R      Crime       142   \n",
       "1                R      Crime       175   \n",
       "2                R      Crime       200   \n",
       "3            PG-13     Action       152   \n",
       "4                R      Crime       154   \n",
       "..             ...        ...       ...   \n",
       "974             PG     Comedy       116   \n",
       "975             PG  Adventure       118   \n",
       "976          PG-13     Action       138   \n",
       "977             PG     Horror       114   \n",
       "978              R      Crime       126   \n",
       "\n",
       "                                           actors_list  \n",
       "0    [u'Tim Robbins', u'Morgan Freeman', u'Bob Gunt...  \n",
       "1      [u'Marlon Brando', u'Al Pacino', u'James Caan']  \n",
       "2    [u'Al Pacino', u'Robert De Niro', u'Robert Duv...  \n",
       "3    [u'Christian Bale', u'Heath Ledger', u'Aaron E...  \n",
       "4    [u'John Travolta', u'Uma Thurman', u'Samuel L....  \n",
       "..                                                 ...  \n",
       "974  [u'Dustin Hoffman', u'Jessica Lange', u'Teri G...  \n",
       "975  [u'Michael J. Fox', u'Christopher Lloyd', u'Ma...  \n",
       "976  [u'Russell Crowe', u'Paul Bettany', u'Billy Bo...  \n",
       "977  [u'JoBeth Williams', u\"Heather O'Rourke\", u'Cr...  \n",
       "978  [u'Charlie Sheen', u'Michael Douglas', u'Tamar...  \n",
       "\n",
       "[979 rows x 6 columns]"
      ]
     },
     "execution_count": 9,
     "metadata": {},
     "output_type": "execute_result"
    }
   ],
   "source": [
    "pd.read_table(r'C:\\Users\\HP\\Downloads\\Compressed\\imdb_1000.csv', sep = ',')"
   ]
  },
  {
   "cell_type": "code",
   "execution_count": 11,
   "id": "faff0516-8072-4f67-ab1c-324948371626",
   "metadata": {
    "slideshow": {
     "slide_type": "slide"
    }
   },
   "outputs": [
    {
     "data": {
      "text/html": [
       "<div>\n",
       "<style scoped>\n",
       "    .dataframe tbody tr th:only-of-type {\n",
       "        vertical-align: middle;\n",
       "    }\n",
       "\n",
       "    .dataframe tbody tr th {\n",
       "        vertical-align: top;\n",
       "    }\n",
       "\n",
       "    .dataframe thead th {\n",
       "        text-align: right;\n",
       "    }\n",
       "</style>\n",
       "<table border=\"1\" class=\"dataframe\">\n",
       "  <thead>\n",
       "    <tr style=\"text-align: right;\">\n",
       "      <th></th>\n",
       "      <th>star</th>\n",
       "      <th>Title</th>\n",
       "      <th>content</th>\n",
       "      <th>Genre</th>\n",
       "      <th>Duration</th>\n",
       "      <th>Actors</th>\n",
       "    </tr>\n",
       "  </thead>\n",
       "  <tbody>\n",
       "    <tr>\n",
       "      <th>0</th>\n",
       "      <td>star_rating</td>\n",
       "      <td>title</td>\n",
       "      <td>content_rating</td>\n",
       "      <td>genre</td>\n",
       "      <td>duration</td>\n",
       "      <td>actors_list</td>\n",
       "    </tr>\n",
       "    <tr>\n",
       "      <th>1</th>\n",
       "      <td>9.3</td>\n",
       "      <td>The Shawshank Redemption</td>\n",
       "      <td>R</td>\n",
       "      <td>Crime</td>\n",
       "      <td>142</td>\n",
       "      <td>[u'Tim Robbins', u'Morgan Freeman', u'Bob Gunt...</td>\n",
       "    </tr>\n",
       "    <tr>\n",
       "      <th>2</th>\n",
       "      <td>9.2</td>\n",
       "      <td>The Godfather</td>\n",
       "      <td>R</td>\n",
       "      <td>Crime</td>\n",
       "      <td>175</td>\n",
       "      <td>[u'Marlon Brando', u'Al Pacino', u'James Caan']</td>\n",
       "    </tr>\n",
       "    <tr>\n",
       "      <th>3</th>\n",
       "      <td>9.1</td>\n",
       "      <td>The Godfather: Part II</td>\n",
       "      <td>R</td>\n",
       "      <td>Crime</td>\n",
       "      <td>200</td>\n",
       "      <td>[u'Al Pacino', u'Robert De Niro', u'Robert Duv...</td>\n",
       "    </tr>\n",
       "    <tr>\n",
       "      <th>4</th>\n",
       "      <td>9</td>\n",
       "      <td>The Dark Knight</td>\n",
       "      <td>PG-13</td>\n",
       "      <td>Action</td>\n",
       "      <td>152</td>\n",
       "      <td>[u'Christian Bale', u'Heath Ledger', u'Aaron E...</td>\n",
       "    </tr>\n",
       "    <tr>\n",
       "      <th>...</th>\n",
       "      <td>...</td>\n",
       "      <td>...</td>\n",
       "      <td>...</td>\n",
       "      <td>...</td>\n",
       "      <td>...</td>\n",
       "      <td>...</td>\n",
       "    </tr>\n",
       "    <tr>\n",
       "      <th>975</th>\n",
       "      <td>7.4</td>\n",
       "      <td>Tootsie</td>\n",
       "      <td>PG</td>\n",
       "      <td>Comedy</td>\n",
       "      <td>116</td>\n",
       "      <td>[u'Dustin Hoffman', u'Jessica Lange', u'Teri G...</td>\n",
       "    </tr>\n",
       "    <tr>\n",
       "      <th>976</th>\n",
       "      <td>7.4</td>\n",
       "      <td>Back to the Future Part III</td>\n",
       "      <td>PG</td>\n",
       "      <td>Adventure</td>\n",
       "      <td>118</td>\n",
       "      <td>[u'Michael J. Fox', u'Christopher Lloyd', u'Ma...</td>\n",
       "    </tr>\n",
       "    <tr>\n",
       "      <th>977</th>\n",
       "      <td>7.4</td>\n",
       "      <td>Master and Commander: The Far Side of the World</td>\n",
       "      <td>PG-13</td>\n",
       "      <td>Action</td>\n",
       "      <td>138</td>\n",
       "      <td>[u'Russell Crowe', u'Paul Bettany', u'Billy Bo...</td>\n",
       "    </tr>\n",
       "    <tr>\n",
       "      <th>978</th>\n",
       "      <td>7.4</td>\n",
       "      <td>Poltergeist</td>\n",
       "      <td>PG</td>\n",
       "      <td>Horror</td>\n",
       "      <td>114</td>\n",
       "      <td>[u'JoBeth Williams', u\"Heather O'Rourke\", u'Cr...</td>\n",
       "    </tr>\n",
       "    <tr>\n",
       "      <th>979</th>\n",
       "      <td>7.4</td>\n",
       "      <td>Wall Street</td>\n",
       "      <td>R</td>\n",
       "      <td>Crime</td>\n",
       "      <td>126</td>\n",
       "      <td>[u'Charlie Sheen', u'Michael Douglas', u'Tamar...</td>\n",
       "    </tr>\n",
       "  </tbody>\n",
       "</table>\n",
       "<p>980 rows × 6 columns</p>\n",
       "</div>"
      ],
      "text/plain": [
       "            star                                            Title  \\\n",
       "0    star_rating                                            title   \n",
       "1            9.3                         The Shawshank Redemption   \n",
       "2            9.2                                    The Godfather   \n",
       "3            9.1                           The Godfather: Part II   \n",
       "4              9                                  The Dark Knight   \n",
       "..           ...                                              ...   \n",
       "975          7.4                                          Tootsie   \n",
       "976          7.4                      Back to the Future Part III   \n",
       "977          7.4  Master and Commander: The Far Side of the World   \n",
       "978          7.4                                      Poltergeist   \n",
       "979          7.4                                      Wall Street   \n",
       "\n",
       "            content      Genre  Duration  \\\n",
       "0    content_rating      genre  duration   \n",
       "1                 R      Crime       142   \n",
       "2                 R      Crime       175   \n",
       "3                 R      Crime       200   \n",
       "4             PG-13     Action       152   \n",
       "..              ...        ...       ...   \n",
       "975              PG     Comedy       116   \n",
       "976              PG  Adventure       118   \n",
       "977           PG-13     Action       138   \n",
       "978              PG     Horror       114   \n",
       "979               R      Crime       126   \n",
       "\n",
       "                                                Actors  \n",
       "0                                          actors_list  \n",
       "1    [u'Tim Robbins', u'Morgan Freeman', u'Bob Gunt...  \n",
       "2      [u'Marlon Brando', u'Al Pacino', u'James Caan']  \n",
       "3    [u'Al Pacino', u'Robert De Niro', u'Robert Duv...  \n",
       "4    [u'Christian Bale', u'Heath Ledger', u'Aaron E...  \n",
       "..                                                 ...  \n",
       "975  [u'Dustin Hoffman', u'Jessica Lange', u'Teri G...  \n",
       "976  [u'Michael J. Fox', u'Christopher Lloyd', u'Ma...  \n",
       "977  [u'Russell Crowe', u'Paul Bettany', u'Billy Bo...  \n",
       "978  [u'JoBeth Williams', u\"Heather O'Rourke\", u'Cr...  \n",
       "979  [u'Charlie Sheen', u'Michael Douglas', u'Tamar...  \n",
       "\n",
       "[980 rows x 6 columns]"
      ]
     },
     "execution_count": 11,
     "metadata": {},
     "output_type": "execute_result"
    }
   ],
   "source": [
    "users_cols = ['star' , 'Title', 'content', 'Genre', 'Duration', 'Actors']\n",
    "pd.read_table(r'C:\\Users\\HP\\Downloads\\Compressed\\imdb_1000.csv',sep = ',', names = users_cols)"
   ]
  },
  {
   "cell_type": "markdown",
   "id": "1ddbc39e-a581-4257-9e74-a8a55a689d1f",
   "metadata": {
    "slideshow": {
     "slide_type": "slide"
    }
   },
   "source": [
    "<ol style=\"color: #2c3e50; font-family: 'Arial', sans-serif; line-height: 1.8; padding: 10px;\">\n",
    "    <strong style=\"color: #8e44ad; background-color: #f4e7fa; padding: 12px; border-radius: 8px; display: block; margin-bottom: 10px;\">Create new series in pandas dataframe</strong>\n",
    "    </li>\n",
    "</ol>"
   ]
  },
  {
   "cell_type": "code",
   "execution_count": 25,
   "id": "aa8c9f82-2ae0-4b10-ae0c-67e0bdee6ed2",
   "metadata": {
    "slideshow": {
     "slide_type": "fragment"
    }
   },
   "outputs": [
    {
     "data": {
      "text/plain": [
       "'abcd'"
      ]
     },
     "execution_count": 25,
     "metadata": {},
     "output_type": "execute_result"
    }
   ],
   "source": [
    "#EXample\n",
    "'ab' + 'cd'"
   ]
  },
  {
   "cell_type": "code",
   "execution_count": 115,
   "id": "64ee927b",
   "metadata": {
    "slideshow": {
     "slide_type": "fragment"
    }
   },
   "outputs": [],
   "source": [
    "df  = pd.read_csv(r'C:\\Users\\HP\\OneDrive\\Seminar\\Building_2.csv')"
   ]
  },
  {
   "cell_type": "code",
   "execution_count": 116,
   "id": "d2c7b4df",
   "metadata": {
    "slideshow": {
     "slide_type": "slide"
    }
   },
   "outputs": [
    {
     "data": {
      "text/html": [
       "<div>\n",
       "<style scoped>\n",
       "    .dataframe tbody tr th:only-of-type {\n",
       "        vertical-align: middle;\n",
       "    }\n",
       "\n",
       "    .dataframe tbody tr th {\n",
       "        vertical-align: top;\n",
       "    }\n",
       "\n",
       "    .dataframe thead th {\n",
       "        text-align: right;\n",
       "    }\n",
       "</style>\n",
       "<table border=\"1\" class=\"dataframe\">\n",
       "  <thead>\n",
       "    <tr style=\"text-align: right;\">\n",
       "      <th></th>\n",
       "      <th>month</th>\n",
       "      <th>hour</th>\n",
       "      <th>day_type</th>\n",
       "      <th>daylight_savings_status</th>\n",
       "      <th>indoor_dry_bulb_temperature</th>\n",
       "      <th>average_unmet_cooling_setpoint_difference</th>\n",
       "      <th>indoor_relative_humidity</th>\n",
       "      <th>non_shiftable_load</th>\n",
       "      <th>dhw_demand</th>\n",
       "      <th>cooling_demand</th>\n",
       "      <th>heating_demand</th>\n",
       "      <th>solar_generation</th>\n",
       "    </tr>\n",
       "  </thead>\n",
       "  <tbody>\n",
       "    <tr>\n",
       "      <th>0</th>\n",
       "      <td>7</td>\n",
       "      <td>24</td>\n",
       "      <td>7</td>\n",
       "      <td>0</td>\n",
       "      <td>NaN</td>\n",
       "      <td>NaN</td>\n",
       "      <td>NaN</td>\n",
       "      <td>2.188750</td>\n",
       "      <td>0.0</td>\n",
       "      <td>0.0</td>\n",
       "      <td>0.0</td>\n",
       "      <td>0.0</td>\n",
       "    </tr>\n",
       "    <tr>\n",
       "      <th>1</th>\n",
       "      <td>8</td>\n",
       "      <td>1</td>\n",
       "      <td>1</td>\n",
       "      <td>0</td>\n",
       "      <td>NaN</td>\n",
       "      <td>NaN</td>\n",
       "      <td>NaN</td>\n",
       "      <td>1.370667</td>\n",
       "      <td>0.0</td>\n",
       "      <td>0.0</td>\n",
       "      <td>0.0</td>\n",
       "      <td>0.0</td>\n",
       "    </tr>\n",
       "    <tr>\n",
       "      <th>2</th>\n",
       "      <td>8</td>\n",
       "      <td>2</td>\n",
       "      <td>1</td>\n",
       "      <td>0</td>\n",
       "      <td>NaN</td>\n",
       "      <td>NaN</td>\n",
       "      <td>NaN</td>\n",
       "      <td>1.101250</td>\n",
       "      <td>0.0</td>\n",
       "      <td>0.0</td>\n",
       "      <td>0.0</td>\n",
       "      <td>0.0</td>\n",
       "    </tr>\n",
       "    <tr>\n",
       "      <th>3</th>\n",
       "      <td>8</td>\n",
       "      <td>3</td>\n",
       "      <td>1</td>\n",
       "      <td>0</td>\n",
       "      <td>NaN</td>\n",
       "      <td>NaN</td>\n",
       "      <td>NaN</td>\n",
       "      <td>0.543217</td>\n",
       "      <td>0.0</td>\n",
       "      <td>0.0</td>\n",
       "      <td>0.0</td>\n",
       "      <td>0.0</td>\n",
       "    </tr>\n",
       "    <tr>\n",
       "      <th>4</th>\n",
       "      <td>8</td>\n",
       "      <td>4</td>\n",
       "      <td>1</td>\n",
       "      <td>0</td>\n",
       "      <td>NaN</td>\n",
       "      <td>NaN</td>\n",
       "      <td>NaN</td>\n",
       "      <td>0.542833</td>\n",
       "      <td>0.0</td>\n",
       "      <td>0.0</td>\n",
       "      <td>0.0</td>\n",
       "      <td>0.0</td>\n",
       "    </tr>\n",
       "  </tbody>\n",
       "</table>\n",
       "</div>"
      ],
      "text/plain": [
       "   month  hour  day_type  daylight_savings_status  \\\n",
       "0      7    24         7                        0   \n",
       "1      8     1         1                        0   \n",
       "2      8     2         1                        0   \n",
       "3      8     3         1                        0   \n",
       "4      8     4         1                        0   \n",
       "\n",
       "   indoor_dry_bulb_temperature  average_unmet_cooling_setpoint_difference  \\\n",
       "0                          NaN                                        NaN   \n",
       "1                          NaN                                        NaN   \n",
       "2                          NaN                                        NaN   \n",
       "3                          NaN                                        NaN   \n",
       "4                          NaN                                        NaN   \n",
       "\n",
       "   indoor_relative_humidity  non_shiftable_load  dhw_demand  cooling_demand  \\\n",
       "0                       NaN            2.188750         0.0             0.0   \n",
       "1                       NaN            1.370667         0.0             0.0   \n",
       "2                       NaN            1.101250         0.0             0.0   \n",
       "3                       NaN            0.543217         0.0             0.0   \n",
       "4                       NaN            0.542833         0.0             0.0   \n",
       "\n",
       "   heating_demand  solar_generation  \n",
       "0             0.0               0.0  \n",
       "1             0.0               0.0  \n",
       "2             0.0               0.0  \n",
       "3             0.0               0.0  \n",
       "4             0.0               0.0  "
      ]
     },
     "execution_count": 116,
     "metadata": {},
     "output_type": "execute_result"
    }
   ],
   "source": [
    "df.head()"
   ]
  },
  {
   "cell_type": "code",
   "execution_count": 73,
   "id": "4c64860d",
   "metadata": {
    "slideshow": {
     "slide_type": "slide"
    }
   },
   "outputs": [
    {
     "data": {
      "text/plain": [
       "month                                          int64\n",
       "hour                                           int64\n",
       "day_type                                       int64\n",
       "daylight_savings_status                        int64\n",
       "indoor_dry_bulb_temperature                  float64\n",
       "average_unmet_cooling_setpoint_difference    float64\n",
       "indoor_relative_humidity                     float64\n",
       "non_shiftable_load                           float64\n",
       "dhw_demand                                   float64\n",
       "cooling_demand                               float64\n",
       "heating_demand                               float64\n",
       "solar_generation                             float64\n",
       "dtype: object"
      ]
     },
     "execution_count": 73,
     "metadata": {},
     "output_type": "execute_result"
    }
   ],
   "source": [
    "df.dtypes"
   ]
  },
  {
   "cell_type": "code",
   "execution_count": 74,
   "id": "54b7daab-62e6-49f3-978e-b42796bbc303",
   "metadata": {
    "slideshow": {
     "slide_type": "slide"
    }
   },
   "outputs": [
    {
     "data": {
      "text/plain": [
       "0       31\n",
       "1        9\n",
       "2       10\n",
       "3       11\n",
       "4       12\n",
       "        ..\n",
       "8755    26\n",
       "8756    27\n",
       "8757    28\n",
       "8758    29\n",
       "8759    30\n",
       "Length: 8760, dtype: int64"
      ]
     },
     "execution_count": 74,
     "metadata": {},
     "output_type": "execute_result"
    }
   ],
   "source": [
    "df.month + df.hour"
   ]
  },
  {
   "cell_type": "code",
   "execution_count": 75,
   "id": "3d1307a5",
   "metadata": {
    "slideshow": {
     "slide_type": "slide"
    }
   },
   "outputs": [],
   "source": [
    "df['month\\hour'] = df.month + df.hour"
   ]
  },
  {
   "cell_type": "code",
   "execution_count": 76,
   "id": "cc7e4097",
   "metadata": {
    "slideshow": {
     "slide_type": "fragment"
    }
   },
   "outputs": [
    {
     "data": {
      "text/html": [
       "<div>\n",
       "<style scoped>\n",
       "    .dataframe tbody tr th:only-of-type {\n",
       "        vertical-align: middle;\n",
       "    }\n",
       "\n",
       "    .dataframe tbody tr th {\n",
       "        vertical-align: top;\n",
       "    }\n",
       "\n",
       "    .dataframe thead th {\n",
       "        text-align: right;\n",
       "    }\n",
       "</style>\n",
       "<table border=\"1\" class=\"dataframe\">\n",
       "  <thead>\n",
       "    <tr style=\"text-align: right;\">\n",
       "      <th></th>\n",
       "      <th>month</th>\n",
       "      <th>hour</th>\n",
       "      <th>day_type</th>\n",
       "      <th>daylight_savings_status</th>\n",
       "      <th>indoor_dry_bulb_temperature</th>\n",
       "      <th>average_unmet_cooling_setpoint_difference</th>\n",
       "      <th>indoor_relative_humidity</th>\n",
       "      <th>non_shiftable_load</th>\n",
       "      <th>dhw_demand</th>\n",
       "      <th>cooling_demand</th>\n",
       "      <th>heating_demand</th>\n",
       "      <th>solar_generation</th>\n",
       "      <th>month\\hour</th>\n",
       "    </tr>\n",
       "  </thead>\n",
       "  <tbody>\n",
       "    <tr>\n",
       "      <th>0</th>\n",
       "      <td>7</td>\n",
       "      <td>24</td>\n",
       "      <td>7</td>\n",
       "      <td>0</td>\n",
       "      <td>NaN</td>\n",
       "      <td>NaN</td>\n",
       "      <td>NaN</td>\n",
       "      <td>2.188750</td>\n",
       "      <td>0.0</td>\n",
       "      <td>0.0</td>\n",
       "      <td>0.0</td>\n",
       "      <td>0.0</td>\n",
       "      <td>31</td>\n",
       "    </tr>\n",
       "    <tr>\n",
       "      <th>1</th>\n",
       "      <td>8</td>\n",
       "      <td>1</td>\n",
       "      <td>1</td>\n",
       "      <td>0</td>\n",
       "      <td>NaN</td>\n",
       "      <td>NaN</td>\n",
       "      <td>NaN</td>\n",
       "      <td>1.370667</td>\n",
       "      <td>0.0</td>\n",
       "      <td>0.0</td>\n",
       "      <td>0.0</td>\n",
       "      <td>0.0</td>\n",
       "      <td>9</td>\n",
       "    </tr>\n",
       "    <tr>\n",
       "      <th>2</th>\n",
       "      <td>8</td>\n",
       "      <td>2</td>\n",
       "      <td>1</td>\n",
       "      <td>0</td>\n",
       "      <td>NaN</td>\n",
       "      <td>NaN</td>\n",
       "      <td>NaN</td>\n",
       "      <td>1.101250</td>\n",
       "      <td>0.0</td>\n",
       "      <td>0.0</td>\n",
       "      <td>0.0</td>\n",
       "      <td>0.0</td>\n",
       "      <td>10</td>\n",
       "    </tr>\n",
       "    <tr>\n",
       "      <th>3</th>\n",
       "      <td>8</td>\n",
       "      <td>3</td>\n",
       "      <td>1</td>\n",
       "      <td>0</td>\n",
       "      <td>NaN</td>\n",
       "      <td>NaN</td>\n",
       "      <td>NaN</td>\n",
       "      <td>0.543217</td>\n",
       "      <td>0.0</td>\n",
       "      <td>0.0</td>\n",
       "      <td>0.0</td>\n",
       "      <td>0.0</td>\n",
       "      <td>11</td>\n",
       "    </tr>\n",
       "    <tr>\n",
       "      <th>4</th>\n",
       "      <td>8</td>\n",
       "      <td>4</td>\n",
       "      <td>1</td>\n",
       "      <td>0</td>\n",
       "      <td>NaN</td>\n",
       "      <td>NaN</td>\n",
       "      <td>NaN</td>\n",
       "      <td>0.542833</td>\n",
       "      <td>0.0</td>\n",
       "      <td>0.0</td>\n",
       "      <td>0.0</td>\n",
       "      <td>0.0</td>\n",
       "      <td>12</td>\n",
       "    </tr>\n",
       "  </tbody>\n",
       "</table>\n",
       "</div>"
      ],
      "text/plain": [
       "   month  hour  day_type  daylight_savings_status  \\\n",
       "0      7    24         7                        0   \n",
       "1      8     1         1                        0   \n",
       "2      8     2         1                        0   \n",
       "3      8     3         1                        0   \n",
       "4      8     4         1                        0   \n",
       "\n",
       "   indoor_dry_bulb_temperature  average_unmet_cooling_setpoint_difference  \\\n",
       "0                          NaN                                        NaN   \n",
       "1                          NaN                                        NaN   \n",
       "2                          NaN                                        NaN   \n",
       "3                          NaN                                        NaN   \n",
       "4                          NaN                                        NaN   \n",
       "\n",
       "   indoor_relative_humidity  non_shiftable_load  dhw_demand  cooling_demand  \\\n",
       "0                       NaN            2.188750         0.0             0.0   \n",
       "1                       NaN            1.370667         0.0             0.0   \n",
       "2                       NaN            1.101250         0.0             0.0   \n",
       "3                       NaN            0.543217         0.0             0.0   \n",
       "4                       NaN            0.542833         0.0             0.0   \n",
       "\n",
       "   heating_demand  solar_generation  month\\hour  \n",
       "0             0.0               0.0          31  \n",
       "1             0.0               0.0           9  \n",
       "2             0.0               0.0          10  \n",
       "3             0.0               0.0          11  \n",
       "4             0.0               0.0          12  "
      ]
     },
     "execution_count": 76,
     "metadata": {},
     "output_type": "execute_result"
    }
   ],
   "source": [
    "df.head()"
   ]
  },
  {
   "cell_type": "markdown",
   "id": "dcea8267-b83e-4393-8943-63d45825e7fd",
   "metadata": {
    "slideshow": {
     "slide_type": "slide"
    }
   },
   "source": [
    "<ol style=\"color: #2c3e50; font-family: 'Arial', sans-serif; line-height: 1.8; padding: 10px;\">\n",
    "    <strong style=\"color: #8e44ad; background-color: #f4e7fa; padding: 12px; border-radius: 8px; display: block; margin-bottom: 10px;\"> Rename columns name in pandas</strong>\n",
    "    </li>\n",
    "</ol>"
   ]
  },
  {
   "cell_type": "code",
   "execution_count": 77,
   "id": "79694e81-b0a5-4154-bf4b-8a06f4c3dbfe",
   "metadata": {
    "slideshow": {
     "slide_type": "fragment"
    }
   },
   "outputs": [
    {
     "data": {
      "text/html": [
       "<div>\n",
       "<style scoped>\n",
       "    .dataframe tbody tr th:only-of-type {\n",
       "        vertical-align: middle;\n",
       "    }\n",
       "\n",
       "    .dataframe tbody tr th {\n",
       "        vertical-align: top;\n",
       "    }\n",
       "\n",
       "    .dataframe thead th {\n",
       "        text-align: right;\n",
       "    }\n",
       "</style>\n",
       "<table border=\"1\" class=\"dataframe\">\n",
       "  <thead>\n",
       "    <tr style=\"text-align: right;\">\n",
       "      <th></th>\n",
       "      <th>month</th>\n",
       "      <th>hour</th>\n",
       "      <th>day_type</th>\n",
       "      <th>daylight_savings_status</th>\n",
       "      <th>indoor_dry_bulb_temperature</th>\n",
       "      <th>average_unmet_cooling_setpoint_difference</th>\n",
       "      <th>indoor_relative_humidity</th>\n",
       "      <th>non_shiftable_load</th>\n",
       "      <th>dhw_demand</th>\n",
       "      <th>cooling_demand</th>\n",
       "      <th>heating_demand</th>\n",
       "      <th>solar_generation</th>\n",
       "      <th>month\\hour</th>\n",
       "    </tr>\n",
       "  </thead>\n",
       "  <tbody>\n",
       "    <tr>\n",
       "      <th>0</th>\n",
       "      <td>7</td>\n",
       "      <td>24</td>\n",
       "      <td>7</td>\n",
       "      <td>0</td>\n",
       "      <td>NaN</td>\n",
       "      <td>NaN</td>\n",
       "      <td>NaN</td>\n",
       "      <td>2.188750</td>\n",
       "      <td>0.0</td>\n",
       "      <td>0.0</td>\n",
       "      <td>0.0</td>\n",
       "      <td>0.0</td>\n",
       "      <td>31</td>\n",
       "    </tr>\n",
       "    <tr>\n",
       "      <th>1</th>\n",
       "      <td>8</td>\n",
       "      <td>1</td>\n",
       "      <td>1</td>\n",
       "      <td>0</td>\n",
       "      <td>NaN</td>\n",
       "      <td>NaN</td>\n",
       "      <td>NaN</td>\n",
       "      <td>1.370667</td>\n",
       "      <td>0.0</td>\n",
       "      <td>0.0</td>\n",
       "      <td>0.0</td>\n",
       "      <td>0.0</td>\n",
       "      <td>9</td>\n",
       "    </tr>\n",
       "    <tr>\n",
       "      <th>2</th>\n",
       "      <td>8</td>\n",
       "      <td>2</td>\n",
       "      <td>1</td>\n",
       "      <td>0</td>\n",
       "      <td>NaN</td>\n",
       "      <td>NaN</td>\n",
       "      <td>NaN</td>\n",
       "      <td>1.101250</td>\n",
       "      <td>0.0</td>\n",
       "      <td>0.0</td>\n",
       "      <td>0.0</td>\n",
       "      <td>0.0</td>\n",
       "      <td>10</td>\n",
       "    </tr>\n",
       "    <tr>\n",
       "      <th>3</th>\n",
       "      <td>8</td>\n",
       "      <td>3</td>\n",
       "      <td>1</td>\n",
       "      <td>0</td>\n",
       "      <td>NaN</td>\n",
       "      <td>NaN</td>\n",
       "      <td>NaN</td>\n",
       "      <td>0.543217</td>\n",
       "      <td>0.0</td>\n",
       "      <td>0.0</td>\n",
       "      <td>0.0</td>\n",
       "      <td>0.0</td>\n",
       "      <td>11</td>\n",
       "    </tr>\n",
       "    <tr>\n",
       "      <th>4</th>\n",
       "      <td>8</td>\n",
       "      <td>4</td>\n",
       "      <td>1</td>\n",
       "      <td>0</td>\n",
       "      <td>NaN</td>\n",
       "      <td>NaN</td>\n",
       "      <td>NaN</td>\n",
       "      <td>0.542833</td>\n",
       "      <td>0.0</td>\n",
       "      <td>0.0</td>\n",
       "      <td>0.0</td>\n",
       "      <td>0.0</td>\n",
       "      <td>12</td>\n",
       "    </tr>\n",
       "  </tbody>\n",
       "</table>\n",
       "</div>"
      ],
      "text/plain": [
       "   month  hour  day_type  daylight_savings_status  \\\n",
       "0      7    24         7                        0   \n",
       "1      8     1         1                        0   \n",
       "2      8     2         1                        0   \n",
       "3      8     3         1                        0   \n",
       "4      8     4         1                        0   \n",
       "\n",
       "   indoor_dry_bulb_temperature  average_unmet_cooling_setpoint_difference  \\\n",
       "0                          NaN                                        NaN   \n",
       "1                          NaN                                        NaN   \n",
       "2                          NaN                                        NaN   \n",
       "3                          NaN                                        NaN   \n",
       "4                          NaN                                        NaN   \n",
       "\n",
       "   indoor_relative_humidity  non_shiftable_load  dhw_demand  cooling_demand  \\\n",
       "0                       NaN            2.188750         0.0             0.0   \n",
       "1                       NaN            1.370667         0.0             0.0   \n",
       "2                       NaN            1.101250         0.0             0.0   \n",
       "3                       NaN            0.543217         0.0             0.0   \n",
       "4                       NaN            0.542833         0.0             0.0   \n",
       "\n",
       "   heating_demand  solar_generation  month\\hour  \n",
       "0             0.0               0.0          31  \n",
       "1             0.0               0.0           9  \n",
       "2             0.0               0.0          10  \n",
       "3             0.0               0.0          11  \n",
       "4             0.0               0.0          12  "
      ]
     },
     "execution_count": 77,
     "metadata": {},
     "output_type": "execute_result"
    }
   ],
   "source": [
    "df.head()"
   ]
  },
  {
   "cell_type": "code",
   "execution_count": 78,
   "id": "0a0dd6f7-ed8b-4dbd-8ae5-a34a3969df5b",
   "metadata": {
    "slideshow": {
     "slide_type": "slide"
    }
   },
   "outputs": [
    {
     "data": {
      "text/plain": [
       "Index(['month', 'hour', 'day_type', 'daylight_savings_status',\n",
       "       'indoor_dry_bulb_temperature',\n",
       "       'average_unmet_cooling_setpoint_difference', 'indoor_relative_humidity',\n",
       "       'non_shiftable_load', 'dhw_demand', 'cooling_demand', 'heating_demand',\n",
       "       'solar_generation', 'month\\hour'],\n",
       "      dtype='object')"
      ]
     },
     "execution_count": 78,
     "metadata": {},
     "output_type": "execute_result"
    }
   ],
   "source": [
    "df.columns"
   ]
  },
  {
   "cell_type": "code",
   "execution_count": 79,
   "id": "c755137c-21b7-4b0f-a62d-609d86c94164",
   "metadata": {
    "slideshow": {
     "slide_type": "fragment"
    }
   },
   "outputs": [],
   "source": [
    "df.rename(columns = {'indoor_dry_bulb_temperature':'indoor_temperature' , 'solar_generation':'solar'}, inplace = True)"
   ]
  },
  {
   "cell_type": "code",
   "execution_count": 80,
   "id": "075f2e12-19d4-4d80-9fa0-1a4f0c13953a",
   "metadata": {
    "slideshow": {
     "slide_type": "slide"
    }
   },
   "outputs": [
    {
     "data": {
      "text/plain": [
       "Index(['month', 'hour', 'day_type', 'daylight_savings_status',\n",
       "       'indoor_temperature', 'average_unmet_cooling_setpoint_difference',\n",
       "       'indoor_relative_humidity', 'non_shiftable_load', 'dhw_demand',\n",
       "       'cooling_demand', 'heating_demand', 'solar', 'month\\hour'],\n",
       "      dtype='object')"
      ]
     },
     "execution_count": 80,
     "metadata": {},
     "output_type": "execute_result"
    }
   ],
   "source": [
    "df.columns"
   ]
  },
  {
   "cell_type": "code",
   "execution_count": 84,
   "id": "9ebddc7c-b0be-41e1-801e-96bf45099fec",
   "metadata": {
    "slideshow": {
     "slide_type": "fragment"
    }
   },
   "outputs": [
    {
     "data": {
      "text/html": [
       "<div>\n",
       "<style scoped>\n",
       "    .dataframe tbody tr th:only-of-type {\n",
       "        vertical-align: middle;\n",
       "    }\n",
       "\n",
       "    .dataframe tbody tr th {\n",
       "        vertical-align: top;\n",
       "    }\n",
       "\n",
       "    .dataframe thead th {\n",
       "        text-align: right;\n",
       "    }\n",
       "</style>\n",
       "<table border=\"1\" class=\"dataframe\">\n",
       "  <thead>\n",
       "    <tr style=\"text-align: right;\">\n",
       "      <th></th>\n",
       "      <th>month</th>\n",
       "      <th>hour</th>\n",
       "      <th>day_type</th>\n",
       "      <th>daylight_savings_status</th>\n",
       "      <th>indoor_temperature</th>\n",
       "      <th>average_unmet_cooling_setpoint_difference</th>\n",
       "      <th>indoor_relative_humidity</th>\n",
       "      <th>non_shiftable_load</th>\n",
       "      <th>dhw_demand</th>\n",
       "      <th>cooling_demand</th>\n",
       "      <th>heating_demand</th>\n",
       "      <th>solar</th>\n",
       "      <th>month\\hour</th>\n",
       "    </tr>\n",
       "  </thead>\n",
       "  <tbody>\n",
       "    <tr>\n",
       "      <th>0</th>\n",
       "      <td>7</td>\n",
       "      <td>24</td>\n",
       "      <td>7</td>\n",
       "      <td>0</td>\n",
       "      <td>NaN</td>\n",
       "      <td>NaN</td>\n",
       "      <td>NaN</td>\n",
       "      <td>2.188750</td>\n",
       "      <td>0.0</td>\n",
       "      <td>0.0</td>\n",
       "      <td>0.0</td>\n",
       "      <td>0.0</td>\n",
       "      <td>31</td>\n",
       "    </tr>\n",
       "    <tr>\n",
       "      <th>1</th>\n",
       "      <td>8</td>\n",
       "      <td>1</td>\n",
       "      <td>1</td>\n",
       "      <td>0</td>\n",
       "      <td>NaN</td>\n",
       "      <td>NaN</td>\n",
       "      <td>NaN</td>\n",
       "      <td>1.370667</td>\n",
       "      <td>0.0</td>\n",
       "      <td>0.0</td>\n",
       "      <td>0.0</td>\n",
       "      <td>0.0</td>\n",
       "      <td>9</td>\n",
       "    </tr>\n",
       "    <tr>\n",
       "      <th>2</th>\n",
       "      <td>8</td>\n",
       "      <td>2</td>\n",
       "      <td>1</td>\n",
       "      <td>0</td>\n",
       "      <td>NaN</td>\n",
       "      <td>NaN</td>\n",
       "      <td>NaN</td>\n",
       "      <td>1.101250</td>\n",
       "      <td>0.0</td>\n",
       "      <td>0.0</td>\n",
       "      <td>0.0</td>\n",
       "      <td>0.0</td>\n",
       "      <td>10</td>\n",
       "    </tr>\n",
       "    <tr>\n",
       "      <th>3</th>\n",
       "      <td>8</td>\n",
       "      <td>3</td>\n",
       "      <td>1</td>\n",
       "      <td>0</td>\n",
       "      <td>NaN</td>\n",
       "      <td>NaN</td>\n",
       "      <td>NaN</td>\n",
       "      <td>0.543217</td>\n",
       "      <td>0.0</td>\n",
       "      <td>0.0</td>\n",
       "      <td>0.0</td>\n",
       "      <td>0.0</td>\n",
       "      <td>11</td>\n",
       "    </tr>\n",
       "    <tr>\n",
       "      <th>4</th>\n",
       "      <td>8</td>\n",
       "      <td>4</td>\n",
       "      <td>1</td>\n",
       "      <td>0</td>\n",
       "      <td>NaN</td>\n",
       "      <td>NaN</td>\n",
       "      <td>NaN</td>\n",
       "      <td>0.542833</td>\n",
       "      <td>0.0</td>\n",
       "      <td>0.0</td>\n",
       "      <td>0.0</td>\n",
       "      <td>0.0</td>\n",
       "      <td>12</td>\n",
       "    </tr>\n",
       "  </tbody>\n",
       "</table>\n",
       "</div>"
      ],
      "text/plain": [
       "   month  hour  day_type  daylight_savings_status  indoor_temperature  \\\n",
       "0      7    24         7                        0                 NaN   \n",
       "1      8     1         1                        0                 NaN   \n",
       "2      8     2         1                        0                 NaN   \n",
       "3      8     3         1                        0                 NaN   \n",
       "4      8     4         1                        0                 NaN   \n",
       "\n",
       "   average_unmet_cooling_setpoint_difference  indoor_relative_humidity  \\\n",
       "0                                        NaN                       NaN   \n",
       "1                                        NaN                       NaN   \n",
       "2                                        NaN                       NaN   \n",
       "3                                        NaN                       NaN   \n",
       "4                                        NaN                       NaN   \n",
       "\n",
       "   non_shiftable_load  dhw_demand  cooling_demand  heating_demand  solar  \\\n",
       "0            2.188750         0.0             0.0             0.0    0.0   \n",
       "1            1.370667         0.0             0.0             0.0    0.0   \n",
       "2            1.101250         0.0             0.0             0.0    0.0   \n",
       "3            0.543217         0.0             0.0             0.0    0.0   \n",
       "4            0.542833         0.0             0.0             0.0    0.0   \n",
       "\n",
       "   month\\hour  \n",
       "0          31  \n",
       "1           9  \n",
       "2          10  \n",
       "3          11  \n",
       "4          12  "
      ]
     },
     "execution_count": 84,
     "metadata": {},
     "output_type": "execute_result"
    }
   ],
   "source": [
    "df.head()"
   ]
  },
  {
   "cell_type": "code",
   "execution_count": 85,
   "id": "d3082c58-c0af-4904-ba72-0754e19fe30f",
   "metadata": {
    "slideshow": {
     "slide_type": "slide"
    }
   },
   "outputs": [
    {
     "data": {
      "text/plain": [
       "Index(['month', 'hour', 'day_type', 'daylight_savings_status',\n",
       "       'indoor_temperature', 'average_unmet_cooling_setpoint_difference',\n",
       "       'indoor_relative_humidity', 'non_shiftable_load', 'dhw_demand',\n",
       "       'cooling_demand', 'heating_demand', 'solar', 'month\\hour'],\n",
       "      dtype='object')"
      ]
     },
     "execution_count": 85,
     "metadata": {},
     "output_type": "execute_result"
    }
   ],
   "source": [
    "df.columns"
   ]
  },
  {
   "cell_type": "code",
   "execution_count": 87,
   "id": "27a5953e-5b61-44a6-a21b-9d3cfa255136",
   "metadata": {
    "slideshow": {
     "slide_type": "fragment"
    }
   },
   "outputs": [],
   "source": [
    "df.columns = df.columns.str.replace('_', ' ')"
   ]
  },
  {
   "cell_type": "code",
   "execution_count": 89,
   "id": "94f8e974-ee5f-4ac0-86f8-d41b9808a446",
   "metadata": {
    "slideshow": {
     "slide_type": "fragment"
    }
   },
   "outputs": [
    {
     "data": {
      "text/plain": [
       "Index(['month', 'hour', 'day type', 'daylight savings status',\n",
       "       'indoor temperature', 'average unmet cooling setpoint difference',\n",
       "       'indoor relative humidity', 'non shiftable load', 'dhw demand',\n",
       "       'cooling demand', 'heating demand', 'solar', 'month\\hour'],\n",
       "      dtype='object')"
      ]
     },
     "execution_count": 89,
     "metadata": {},
     "output_type": "execute_result"
    }
   ],
   "source": [
    "df.columns"
   ]
  },
  {
   "cell_type": "markdown",
   "id": "dd487207-f080-4ac4-aec4-b7e730e68014",
   "metadata": {
    "slideshow": {
     "slide_type": "slide"
    }
   },
   "source": [
    "<ol style=\"color: #2c3e50; font-family: 'Arial', sans-serif; line-height: 1.8; padding: 10px;\">\n",
    "    <strong style=\"color: #8e44ad; background-color: #f4e7fa; padding: 12px; border-radius: 8px; display: block; margin-bottom: 10px;\">Sort dataframe or series</strong>\n",
    "    </li>\n",
    "</ol>"
   ]
  },
  {
   "cell_type": "code",
   "execution_count": 16,
   "id": "6e56cad2",
   "metadata": {
    "slideshow": {
     "slide_type": "fragment"
    }
   },
   "outputs": [
    {
     "data": {
      "text/html": [
       "<div>\n",
       "<style scoped>\n",
       "    .dataframe tbody tr th:only-of-type {\n",
       "        vertical-align: middle;\n",
       "    }\n",
       "\n",
       "    .dataframe tbody tr th {\n",
       "        vertical-align: top;\n",
       "    }\n",
       "\n",
       "    .dataframe thead th {\n",
       "        text-align: right;\n",
       "    }\n",
       "</style>\n",
       "<table border=\"1\" class=\"dataframe\">\n",
       "  <thead>\n",
       "    <tr style=\"text-align: right;\">\n",
       "      <th></th>\n",
       "      <th>month</th>\n",
       "      <th>hour</th>\n",
       "      <th>day_type</th>\n",
       "      <th>daylight_savings_status</th>\n",
       "      <th>indoor_dry_bulb_temperature</th>\n",
       "      <th>average_unmet_cooling_setpoint_difference</th>\n",
       "      <th>indoor_relative_humidity</th>\n",
       "      <th>non_shiftable_load</th>\n",
       "      <th>dhw_demand</th>\n",
       "      <th>cooling_demand</th>\n",
       "      <th>heating_demand</th>\n",
       "      <th>solar_generation</th>\n",
       "    </tr>\n",
       "  </thead>\n",
       "  <tbody>\n",
       "    <tr>\n",
       "      <th>0</th>\n",
       "      <td>7</td>\n",
       "      <td>24</td>\n",
       "      <td>7</td>\n",
       "      <td>0</td>\n",
       "      <td>NaN</td>\n",
       "      <td>NaN</td>\n",
       "      <td>NaN</td>\n",
       "      <td>2.188750</td>\n",
       "      <td>0.0</td>\n",
       "      <td>0.0</td>\n",
       "      <td>0.0</td>\n",
       "      <td>0.0</td>\n",
       "    </tr>\n",
       "    <tr>\n",
       "      <th>1</th>\n",
       "      <td>8</td>\n",
       "      <td>1</td>\n",
       "      <td>1</td>\n",
       "      <td>0</td>\n",
       "      <td>NaN</td>\n",
       "      <td>NaN</td>\n",
       "      <td>NaN</td>\n",
       "      <td>1.370667</td>\n",
       "      <td>0.0</td>\n",
       "      <td>0.0</td>\n",
       "      <td>0.0</td>\n",
       "      <td>0.0</td>\n",
       "    </tr>\n",
       "    <tr>\n",
       "      <th>2</th>\n",
       "      <td>8</td>\n",
       "      <td>2</td>\n",
       "      <td>1</td>\n",
       "      <td>0</td>\n",
       "      <td>NaN</td>\n",
       "      <td>NaN</td>\n",
       "      <td>NaN</td>\n",
       "      <td>1.101250</td>\n",
       "      <td>0.0</td>\n",
       "      <td>0.0</td>\n",
       "      <td>0.0</td>\n",
       "      <td>0.0</td>\n",
       "    </tr>\n",
       "    <tr>\n",
       "      <th>3</th>\n",
       "      <td>8</td>\n",
       "      <td>3</td>\n",
       "      <td>1</td>\n",
       "      <td>0</td>\n",
       "      <td>NaN</td>\n",
       "      <td>NaN</td>\n",
       "      <td>NaN</td>\n",
       "      <td>0.543217</td>\n",
       "      <td>0.0</td>\n",
       "      <td>0.0</td>\n",
       "      <td>0.0</td>\n",
       "      <td>0.0</td>\n",
       "    </tr>\n",
       "    <tr>\n",
       "      <th>4</th>\n",
       "      <td>8</td>\n",
       "      <td>4</td>\n",
       "      <td>1</td>\n",
       "      <td>0</td>\n",
       "      <td>NaN</td>\n",
       "      <td>NaN</td>\n",
       "      <td>NaN</td>\n",
       "      <td>0.542833</td>\n",
       "      <td>0.0</td>\n",
       "      <td>0.0</td>\n",
       "      <td>0.0</td>\n",
       "      <td>0.0</td>\n",
       "    </tr>\n",
       "  </tbody>\n",
       "</table>\n",
       "</div>"
      ],
      "text/plain": [
       "   month  hour  day_type  daylight_savings_status  \\\n",
       "0      7    24         7                        0   \n",
       "1      8     1         1                        0   \n",
       "2      8     2         1                        0   \n",
       "3      8     3         1                        0   \n",
       "4      8     4         1                        0   \n",
       "\n",
       "   indoor_dry_bulb_temperature  average_unmet_cooling_setpoint_difference  \\\n",
       "0                          NaN                                        NaN   \n",
       "1                          NaN                                        NaN   \n",
       "2                          NaN                                        NaN   \n",
       "3                          NaN                                        NaN   \n",
       "4                          NaN                                        NaN   \n",
       "\n",
       "   indoor_relative_humidity  non_shiftable_load  dhw_demand  cooling_demand  \\\n",
       "0                       NaN            2.188750         0.0             0.0   \n",
       "1                       NaN            1.370667         0.0             0.0   \n",
       "2                       NaN            1.101250         0.0             0.0   \n",
       "3                       NaN            0.543217         0.0             0.0   \n",
       "4                       NaN            0.542833         0.0             0.0   \n",
       "\n",
       "   heating_demand  solar_generation  \n",
       "0             0.0               0.0  \n",
       "1             0.0               0.0  \n",
       "2             0.0               0.0  \n",
       "3             0.0               0.0  \n",
       "4             0.0               0.0  "
      ]
     },
     "execution_count": 16,
     "metadata": {},
     "output_type": "execute_result"
    }
   ],
   "source": [
    "df.head()"
   ]
  },
  {
   "cell_type": "code",
   "execution_count": 18,
   "id": "adec73f8",
   "metadata": {
    "slideshow": {
     "slide_type": "slide"
    }
   },
   "outputs": [
    {
     "data": {
      "text/plain": [
       "4379     1\n",
       "4136     1\n",
       "4137     1\n",
       "4138     1\n",
       "4139     1\n",
       "        ..\n",
       "3180    12\n",
       "3181    12\n",
       "3182    12\n",
       "3173    12\n",
       "3672    12\n",
       "Name: month, Length: 8760, dtype: int64"
      ]
     },
     "execution_count": 18,
     "metadata": {},
     "output_type": "execute_result"
    }
   ],
   "source": [
    "df.month.sort_values()"
   ]
  },
  {
   "cell_type": "code",
   "execution_count": 19,
   "id": "58c73a52",
   "metadata": {
    "slideshow": {
     "slide_type": "slide"
    }
   },
   "outputs": [
    {
     "data": {
      "text/html": [
       "<div>\n",
       "<style scoped>\n",
       "    .dataframe tbody tr th:only-of-type {\n",
       "        vertical-align: middle;\n",
       "    }\n",
       "\n",
       "    .dataframe tbody tr th {\n",
       "        vertical-align: top;\n",
       "    }\n",
       "\n",
       "    .dataframe thead th {\n",
       "        text-align: right;\n",
       "    }\n",
       "</style>\n",
       "<table border=\"1\" class=\"dataframe\">\n",
       "  <thead>\n",
       "    <tr style=\"text-align: right;\">\n",
       "      <th></th>\n",
       "      <th>month</th>\n",
       "      <th>hour</th>\n",
       "      <th>day_type</th>\n",
       "      <th>daylight_savings_status</th>\n",
       "      <th>indoor_dry_bulb_temperature</th>\n",
       "      <th>average_unmet_cooling_setpoint_difference</th>\n",
       "      <th>indoor_relative_humidity</th>\n",
       "      <th>non_shiftable_load</th>\n",
       "      <th>dhw_demand</th>\n",
       "      <th>cooling_demand</th>\n",
       "      <th>heating_demand</th>\n",
       "      <th>solar_generation</th>\n",
       "    </tr>\n",
       "  </thead>\n",
       "  <tbody>\n",
       "    <tr>\n",
       "      <th>4379</th>\n",
       "      <td>1</td>\n",
       "      <td>11</td>\n",
       "      <td>1</td>\n",
       "      <td>0</td>\n",
       "      <td>NaN</td>\n",
       "      <td>NaN</td>\n",
       "      <td>NaN</td>\n",
       "      <td>0.320517</td>\n",
       "      <td>0.0</td>\n",
       "      <td>0.0</td>\n",
       "      <td>0.0</td>\n",
       "      <td>471.129180</td>\n",
       "    </tr>\n",
       "    <tr>\n",
       "      <th>4136</th>\n",
       "      <td>1</td>\n",
       "      <td>8</td>\n",
       "      <td>5</td>\n",
       "      <td>0</td>\n",
       "      <td>NaN</td>\n",
       "      <td>NaN</td>\n",
       "      <td>NaN</td>\n",
       "      <td>1.450733</td>\n",
       "      <td>0.0</td>\n",
       "      <td>0.0</td>\n",
       "      <td>0.0</td>\n",
       "      <td>23.150000</td>\n",
       "    </tr>\n",
       "    <tr>\n",
       "      <th>4137</th>\n",
       "      <td>1</td>\n",
       "      <td>9</td>\n",
       "      <td>5</td>\n",
       "      <td>0</td>\n",
       "      <td>NaN</td>\n",
       "      <td>NaN</td>\n",
       "      <td>NaN</td>\n",
       "      <td>1.026167</td>\n",
       "      <td>0.0</td>\n",
       "      <td>0.0</td>\n",
       "      <td>0.0</td>\n",
       "      <td>30.058332</td>\n",
       "    </tr>\n",
       "    <tr>\n",
       "      <th>4138</th>\n",
       "      <td>1</td>\n",
       "      <td>10</td>\n",
       "      <td>5</td>\n",
       "      <td>0</td>\n",
       "      <td>NaN</td>\n",
       "      <td>NaN</td>\n",
       "      <td>NaN</td>\n",
       "      <td>1.153450</td>\n",
       "      <td>0.0</td>\n",
       "      <td>0.0</td>\n",
       "      <td>0.0</td>\n",
       "      <td>83.033330</td>\n",
       "    </tr>\n",
       "    <tr>\n",
       "      <th>4139</th>\n",
       "      <td>1</td>\n",
       "      <td>11</td>\n",
       "      <td>5</td>\n",
       "      <td>0</td>\n",
       "      <td>NaN</td>\n",
       "      <td>NaN</td>\n",
       "      <td>NaN</td>\n",
       "      <td>1.047767</td>\n",
       "      <td>0.0</td>\n",
       "      <td>0.0</td>\n",
       "      <td>0.0</td>\n",
       "      <td>12.491667</td>\n",
       "    </tr>\n",
       "    <tr>\n",
       "      <th>...</th>\n",
       "      <td>...</td>\n",
       "      <td>...</td>\n",
       "      <td>...</td>\n",
       "      <td>...</td>\n",
       "      <td>...</td>\n",
       "      <td>...</td>\n",
       "      <td>...</td>\n",
       "      <td>...</td>\n",
       "      <td>...</td>\n",
       "      <td>...</td>\n",
       "      <td>...</td>\n",
       "      <td>...</td>\n",
       "    </tr>\n",
       "    <tr>\n",
       "      <th>3180</th>\n",
       "      <td>12</td>\n",
       "      <td>12</td>\n",
       "      <td>7</td>\n",
       "      <td>0</td>\n",
       "      <td>NaN</td>\n",
       "      <td>NaN</td>\n",
       "      <td>NaN</td>\n",
       "      <td>1.010783</td>\n",
       "      <td>0.0</td>\n",
       "      <td>0.0</td>\n",
       "      <td>0.0</td>\n",
       "      <td>97.266670</td>\n",
       "    </tr>\n",
       "    <tr>\n",
       "      <th>3181</th>\n",
       "      <td>12</td>\n",
       "      <td>13</td>\n",
       "      <td>7</td>\n",
       "      <td>0</td>\n",
       "      <td>NaN</td>\n",
       "      <td>NaN</td>\n",
       "      <td>NaN</td>\n",
       "      <td>1.441833</td>\n",
       "      <td>0.0</td>\n",
       "      <td>0.0</td>\n",
       "      <td>0.0</td>\n",
       "      <td>99.479164</td>\n",
       "    </tr>\n",
       "    <tr>\n",
       "      <th>3182</th>\n",
       "      <td>12</td>\n",
       "      <td>14</td>\n",
       "      <td>7</td>\n",
       "      <td>0</td>\n",
       "      <td>NaN</td>\n",
       "      <td>NaN</td>\n",
       "      <td>NaN</td>\n",
       "      <td>1.680767</td>\n",
       "      <td>0.0</td>\n",
       "      <td>0.0</td>\n",
       "      <td>0.0</td>\n",
       "      <td>29.512500</td>\n",
       "    </tr>\n",
       "    <tr>\n",
       "      <th>3173</th>\n",
       "      <td>12</td>\n",
       "      <td>5</td>\n",
       "      <td>7</td>\n",
       "      <td>0</td>\n",
       "      <td>NaN</td>\n",
       "      <td>NaN</td>\n",
       "      <td>NaN</td>\n",
       "      <td>1.390017</td>\n",
       "      <td>0.0</td>\n",
       "      <td>0.0</td>\n",
       "      <td>0.0</td>\n",
       "      <td>0.000000</td>\n",
       "    </tr>\n",
       "    <tr>\n",
       "      <th>3672</th>\n",
       "      <td>12</td>\n",
       "      <td>24</td>\n",
       "      <td>6</td>\n",
       "      <td>0</td>\n",
       "      <td>NaN</td>\n",
       "      <td>NaN</td>\n",
       "      <td>NaN</td>\n",
       "      <td>0.915967</td>\n",
       "      <td>0.0</td>\n",
       "      <td>0.0</td>\n",
       "      <td>0.0</td>\n",
       "      <td>0.000000</td>\n",
       "    </tr>\n",
       "  </tbody>\n",
       "</table>\n",
       "<p>8760 rows × 12 columns</p>\n",
       "</div>"
      ],
      "text/plain": [
       "      month  hour  day_type  daylight_savings_status  \\\n",
       "4379      1    11         1                        0   \n",
       "4136      1     8         5                        0   \n",
       "4137      1     9         5                        0   \n",
       "4138      1    10         5                        0   \n",
       "4139      1    11         5                        0   \n",
       "...     ...   ...       ...                      ...   \n",
       "3180     12    12         7                        0   \n",
       "3181     12    13         7                        0   \n",
       "3182     12    14         7                        0   \n",
       "3173     12     5         7                        0   \n",
       "3672     12    24         6                        0   \n",
       "\n",
       "      indoor_dry_bulb_temperature  average_unmet_cooling_setpoint_difference  \\\n",
       "4379                          NaN                                        NaN   \n",
       "4136                          NaN                                        NaN   \n",
       "4137                          NaN                                        NaN   \n",
       "4138                          NaN                                        NaN   \n",
       "4139                          NaN                                        NaN   \n",
       "...                           ...                                        ...   \n",
       "3180                          NaN                                        NaN   \n",
       "3181                          NaN                                        NaN   \n",
       "3182                          NaN                                        NaN   \n",
       "3173                          NaN                                        NaN   \n",
       "3672                          NaN                                        NaN   \n",
       "\n",
       "      indoor_relative_humidity  non_shiftable_load  dhw_demand  \\\n",
       "4379                       NaN            0.320517         0.0   \n",
       "4136                       NaN            1.450733         0.0   \n",
       "4137                       NaN            1.026167         0.0   \n",
       "4138                       NaN            1.153450         0.0   \n",
       "4139                       NaN            1.047767         0.0   \n",
       "...                        ...                 ...         ...   \n",
       "3180                       NaN            1.010783         0.0   \n",
       "3181                       NaN            1.441833         0.0   \n",
       "3182                       NaN            1.680767         0.0   \n",
       "3173                       NaN            1.390017         0.0   \n",
       "3672                       NaN            0.915967         0.0   \n",
       "\n",
       "      cooling_demand  heating_demand  solar_generation  \n",
       "4379             0.0             0.0        471.129180  \n",
       "4136             0.0             0.0         23.150000  \n",
       "4137             0.0             0.0         30.058332  \n",
       "4138             0.0             0.0         83.033330  \n",
       "4139             0.0             0.0         12.491667  \n",
       "...              ...             ...               ...  \n",
       "3180             0.0             0.0         97.266670  \n",
       "3181             0.0             0.0         99.479164  \n",
       "3182             0.0             0.0         29.512500  \n",
       "3173             0.0             0.0          0.000000  \n",
       "3672             0.0             0.0          0.000000  \n",
       "\n",
       "[8760 rows x 12 columns]"
      ]
     },
     "execution_count": 19,
     "metadata": {},
     "output_type": "execute_result"
    }
   ],
   "source": [
    "df.sort_values('month')"
   ]
  },
  {
   "cell_type": "code",
   "execution_count": 20,
   "id": "bf12eb14",
   "metadata": {
    "slideshow": {
     "slide_type": "slide"
    }
   },
   "outputs": [
    {
     "data": {
      "text/html": [
       "<div>\n",
       "<style scoped>\n",
       "    .dataframe tbody tr th:only-of-type {\n",
       "        vertical-align: middle;\n",
       "    }\n",
       "\n",
       "    .dataframe tbody tr th {\n",
       "        vertical-align: top;\n",
       "    }\n",
       "\n",
       "    .dataframe thead th {\n",
       "        text-align: right;\n",
       "    }\n",
       "</style>\n",
       "<table border=\"1\" class=\"dataframe\">\n",
       "  <thead>\n",
       "    <tr style=\"text-align: right;\">\n",
       "      <th></th>\n",
       "      <th>month</th>\n",
       "      <th>hour</th>\n",
       "      <th>day_type</th>\n",
       "      <th>daylight_savings_status</th>\n",
       "      <th>indoor_dry_bulb_temperature</th>\n",
       "      <th>average_unmet_cooling_setpoint_difference</th>\n",
       "      <th>indoor_relative_humidity</th>\n",
       "      <th>non_shiftable_load</th>\n",
       "      <th>dhw_demand</th>\n",
       "      <th>cooling_demand</th>\n",
       "      <th>heating_demand</th>\n",
       "      <th>solar_generation</th>\n",
       "    </tr>\n",
       "  </thead>\n",
       "  <tbody>\n",
       "    <tr>\n",
       "      <th>3122</th>\n",
       "      <td>12</td>\n",
       "      <td>2</td>\n",
       "      <td>5</td>\n",
       "      <td>0</td>\n",
       "      <td>NaN</td>\n",
       "      <td>NaN</td>\n",
       "      <td>NaN</td>\n",
       "      <td>1.082592</td>\n",
       "      <td>0.0</td>\n",
       "      <td>0.0</td>\n",
       "      <td>0.0</td>\n",
       "      <td>0.000000</td>\n",
       "    </tr>\n",
       "    <tr>\n",
       "      <th>3173</th>\n",
       "      <td>12</td>\n",
       "      <td>5</td>\n",
       "      <td>7</td>\n",
       "      <td>0</td>\n",
       "      <td>NaN</td>\n",
       "      <td>NaN</td>\n",
       "      <td>NaN</td>\n",
       "      <td>1.390017</td>\n",
       "      <td>0.0</td>\n",
       "      <td>0.0</td>\n",
       "      <td>0.0</td>\n",
       "      <td>0.000000</td>\n",
       "    </tr>\n",
       "    <tr>\n",
       "      <th>3182</th>\n",
       "      <td>12</td>\n",
       "      <td>14</td>\n",
       "      <td>7</td>\n",
       "      <td>0</td>\n",
       "      <td>NaN</td>\n",
       "      <td>NaN</td>\n",
       "      <td>NaN</td>\n",
       "      <td>1.680767</td>\n",
       "      <td>0.0</td>\n",
       "      <td>0.0</td>\n",
       "      <td>0.0</td>\n",
       "      <td>29.512500</td>\n",
       "    </tr>\n",
       "    <tr>\n",
       "      <th>3181</th>\n",
       "      <td>12</td>\n",
       "      <td>13</td>\n",
       "      <td>7</td>\n",
       "      <td>0</td>\n",
       "      <td>NaN</td>\n",
       "      <td>NaN</td>\n",
       "      <td>NaN</td>\n",
       "      <td>1.441833</td>\n",
       "      <td>0.0</td>\n",
       "      <td>0.0</td>\n",
       "      <td>0.0</td>\n",
       "      <td>99.479164</td>\n",
       "    </tr>\n",
       "    <tr>\n",
       "      <th>3180</th>\n",
       "      <td>12</td>\n",
       "      <td>12</td>\n",
       "      <td>7</td>\n",
       "      <td>0</td>\n",
       "      <td>NaN</td>\n",
       "      <td>NaN</td>\n",
       "      <td>NaN</td>\n",
       "      <td>1.010783</td>\n",
       "      <td>0.0</td>\n",
       "      <td>0.0</td>\n",
       "      <td>0.0</td>\n",
       "      <td>97.266670</td>\n",
       "    </tr>\n",
       "    <tr>\n",
       "      <th>...</th>\n",
       "      <td>...</td>\n",
       "      <td>...</td>\n",
       "      <td>...</td>\n",
       "      <td>...</td>\n",
       "      <td>...</td>\n",
       "      <td>...</td>\n",
       "      <td>...</td>\n",
       "      <td>...</td>\n",
       "      <td>...</td>\n",
       "      <td>...</td>\n",
       "      <td>...</td>\n",
       "      <td>...</td>\n",
       "    </tr>\n",
       "    <tr>\n",
       "      <th>4165</th>\n",
       "      <td>1</td>\n",
       "      <td>13</td>\n",
       "      <td>6</td>\n",
       "      <td>0</td>\n",
       "      <td>NaN</td>\n",
       "      <td>NaN</td>\n",
       "      <td>NaN</td>\n",
       "      <td>1.045583</td>\n",
       "      <td>0.0</td>\n",
       "      <td>0.0</td>\n",
       "      <td>0.0</td>\n",
       "      <td>151.337500</td>\n",
       "    </tr>\n",
       "    <tr>\n",
       "      <th>4164</th>\n",
       "      <td>1</td>\n",
       "      <td>12</td>\n",
       "      <td>6</td>\n",
       "      <td>0</td>\n",
       "      <td>NaN</td>\n",
       "      <td>NaN</td>\n",
       "      <td>NaN</td>\n",
       "      <td>0.850000</td>\n",
       "      <td>0.0</td>\n",
       "      <td>0.0</td>\n",
       "      <td>0.0</td>\n",
       "      <td>238.858340</td>\n",
       "    </tr>\n",
       "    <tr>\n",
       "      <th>4163</th>\n",
       "      <td>1</td>\n",
       "      <td>11</td>\n",
       "      <td>6</td>\n",
       "      <td>0</td>\n",
       "      <td>NaN</td>\n",
       "      <td>NaN</td>\n",
       "      <td>NaN</td>\n",
       "      <td>1.747783</td>\n",
       "      <td>0.0</td>\n",
       "      <td>0.0</td>\n",
       "      <td>0.0</td>\n",
       "      <td>445.437500</td>\n",
       "    </tr>\n",
       "    <tr>\n",
       "      <th>4162</th>\n",
       "      <td>1</td>\n",
       "      <td>10</td>\n",
       "      <td>6</td>\n",
       "      <td>0</td>\n",
       "      <td>NaN</td>\n",
       "      <td>NaN</td>\n",
       "      <td>NaN</td>\n",
       "      <td>3.039550</td>\n",
       "      <td>0.0</td>\n",
       "      <td>0.0</td>\n",
       "      <td>0.0</td>\n",
       "      <td>329.704160</td>\n",
       "    </tr>\n",
       "    <tr>\n",
       "      <th>4380</th>\n",
       "      <td>1</td>\n",
       "      <td>12</td>\n",
       "      <td>1</td>\n",
       "      <td>0</td>\n",
       "      <td>NaN</td>\n",
       "      <td>NaN</td>\n",
       "      <td>NaN</td>\n",
       "      <td>0.320667</td>\n",
       "      <td>0.0</td>\n",
       "      <td>0.0</td>\n",
       "      <td>0.0</td>\n",
       "      <td>532.041700</td>\n",
       "    </tr>\n",
       "  </tbody>\n",
       "</table>\n",
       "<p>8760 rows × 12 columns</p>\n",
       "</div>"
      ],
      "text/plain": [
       "      month  hour  day_type  daylight_savings_status  \\\n",
       "3122     12     2         5                        0   \n",
       "3173     12     5         7                        0   \n",
       "3182     12    14         7                        0   \n",
       "3181     12    13         7                        0   \n",
       "3180     12    12         7                        0   \n",
       "...     ...   ...       ...                      ...   \n",
       "4165      1    13         6                        0   \n",
       "4164      1    12         6                        0   \n",
       "4163      1    11         6                        0   \n",
       "4162      1    10         6                        0   \n",
       "4380      1    12         1                        0   \n",
       "\n",
       "      indoor_dry_bulb_temperature  average_unmet_cooling_setpoint_difference  \\\n",
       "3122                          NaN                                        NaN   \n",
       "3173                          NaN                                        NaN   \n",
       "3182                          NaN                                        NaN   \n",
       "3181                          NaN                                        NaN   \n",
       "3180                          NaN                                        NaN   \n",
       "...                           ...                                        ...   \n",
       "4165                          NaN                                        NaN   \n",
       "4164                          NaN                                        NaN   \n",
       "4163                          NaN                                        NaN   \n",
       "4162                          NaN                                        NaN   \n",
       "4380                          NaN                                        NaN   \n",
       "\n",
       "      indoor_relative_humidity  non_shiftable_load  dhw_demand  \\\n",
       "3122                       NaN            1.082592         0.0   \n",
       "3173                       NaN            1.390017         0.0   \n",
       "3182                       NaN            1.680767         0.0   \n",
       "3181                       NaN            1.441833         0.0   \n",
       "3180                       NaN            1.010783         0.0   \n",
       "...                        ...                 ...         ...   \n",
       "4165                       NaN            1.045583         0.0   \n",
       "4164                       NaN            0.850000         0.0   \n",
       "4163                       NaN            1.747783         0.0   \n",
       "4162                       NaN            3.039550         0.0   \n",
       "4380                       NaN            0.320667         0.0   \n",
       "\n",
       "      cooling_demand  heating_demand  solar_generation  \n",
       "3122             0.0             0.0          0.000000  \n",
       "3173             0.0             0.0          0.000000  \n",
       "3182             0.0             0.0         29.512500  \n",
       "3181             0.0             0.0         99.479164  \n",
       "3180             0.0             0.0         97.266670  \n",
       "...              ...             ...               ...  \n",
       "4165             0.0             0.0        151.337500  \n",
       "4164             0.0             0.0        238.858340  \n",
       "4163             0.0             0.0        445.437500  \n",
       "4162             0.0             0.0        329.704160  \n",
       "4380             0.0             0.0        532.041700  \n",
       "\n",
       "[8760 rows x 12 columns]"
      ]
     },
     "execution_count": 20,
     "metadata": {},
     "output_type": "execute_result"
    }
   ],
   "source": [
    "df.sort_values('month', ascending=False)"
   ]
  },
  {
   "cell_type": "markdown",
   "id": "b0ed5f47-9757-4558-a640-2090dece2dea",
   "metadata": {
    "slideshow": {
     "slide_type": "slide"
    }
   },
   "source": [
    "<ol style=\"color: #2c3e50; font-family: 'Arial', sans-serif; line-height: 1.8; padding: 10px;\">\n",
    "    <strong style=\"color: #8e44ad; background-color: #f4e7fa; padding: 12px; border-radius: 8px; display: block; margin-bottom: 10px;\">Filter pandas dataframe by columns values</strong>\n",
    "    </li>\n",
    "</ol>"
   ]
  },
  {
   "cell_type": "code",
   "execution_count": 21,
   "id": "c640abe7",
   "metadata": {
    "slideshow": {
     "slide_type": "fragment"
    }
   },
   "outputs": [
    {
     "data": {
      "text/html": [
       "<div>\n",
       "<style scoped>\n",
       "    .dataframe tbody tr th:only-of-type {\n",
       "        vertical-align: middle;\n",
       "    }\n",
       "\n",
       "    .dataframe tbody tr th {\n",
       "        vertical-align: top;\n",
       "    }\n",
       "\n",
       "    .dataframe thead th {\n",
       "        text-align: right;\n",
       "    }\n",
       "</style>\n",
       "<table border=\"1\" class=\"dataframe\">\n",
       "  <thead>\n",
       "    <tr style=\"text-align: right;\">\n",
       "      <th></th>\n",
       "      <th>month</th>\n",
       "      <th>hour</th>\n",
       "      <th>day_type</th>\n",
       "      <th>daylight_savings_status</th>\n",
       "      <th>indoor_dry_bulb_temperature</th>\n",
       "      <th>average_unmet_cooling_setpoint_difference</th>\n",
       "      <th>indoor_relative_humidity</th>\n",
       "      <th>non_shiftable_load</th>\n",
       "      <th>dhw_demand</th>\n",
       "      <th>cooling_demand</th>\n",
       "      <th>heating_demand</th>\n",
       "      <th>solar_generation</th>\n",
       "    </tr>\n",
       "  </thead>\n",
       "  <tbody>\n",
       "    <tr>\n",
       "      <th>0</th>\n",
       "      <td>7</td>\n",
       "      <td>24</td>\n",
       "      <td>7</td>\n",
       "      <td>0</td>\n",
       "      <td>NaN</td>\n",
       "      <td>NaN</td>\n",
       "      <td>NaN</td>\n",
       "      <td>2.188750</td>\n",
       "      <td>0.0</td>\n",
       "      <td>0.0</td>\n",
       "      <td>0.0</td>\n",
       "      <td>0.0</td>\n",
       "    </tr>\n",
       "    <tr>\n",
       "      <th>1</th>\n",
       "      <td>8</td>\n",
       "      <td>1</td>\n",
       "      <td>1</td>\n",
       "      <td>0</td>\n",
       "      <td>NaN</td>\n",
       "      <td>NaN</td>\n",
       "      <td>NaN</td>\n",
       "      <td>1.370667</td>\n",
       "      <td>0.0</td>\n",
       "      <td>0.0</td>\n",
       "      <td>0.0</td>\n",
       "      <td>0.0</td>\n",
       "    </tr>\n",
       "    <tr>\n",
       "      <th>2</th>\n",
       "      <td>8</td>\n",
       "      <td>2</td>\n",
       "      <td>1</td>\n",
       "      <td>0</td>\n",
       "      <td>NaN</td>\n",
       "      <td>NaN</td>\n",
       "      <td>NaN</td>\n",
       "      <td>1.101250</td>\n",
       "      <td>0.0</td>\n",
       "      <td>0.0</td>\n",
       "      <td>0.0</td>\n",
       "      <td>0.0</td>\n",
       "    </tr>\n",
       "    <tr>\n",
       "      <th>3</th>\n",
       "      <td>8</td>\n",
       "      <td>3</td>\n",
       "      <td>1</td>\n",
       "      <td>0</td>\n",
       "      <td>NaN</td>\n",
       "      <td>NaN</td>\n",
       "      <td>NaN</td>\n",
       "      <td>0.543217</td>\n",
       "      <td>0.0</td>\n",
       "      <td>0.0</td>\n",
       "      <td>0.0</td>\n",
       "      <td>0.0</td>\n",
       "    </tr>\n",
       "    <tr>\n",
       "      <th>4</th>\n",
       "      <td>8</td>\n",
       "      <td>4</td>\n",
       "      <td>1</td>\n",
       "      <td>0</td>\n",
       "      <td>NaN</td>\n",
       "      <td>NaN</td>\n",
       "      <td>NaN</td>\n",
       "      <td>0.542833</td>\n",
       "      <td>0.0</td>\n",
       "      <td>0.0</td>\n",
       "      <td>0.0</td>\n",
       "      <td>0.0</td>\n",
       "    </tr>\n",
       "  </tbody>\n",
       "</table>\n",
       "</div>"
      ],
      "text/plain": [
       "   month  hour  day_type  daylight_savings_status  \\\n",
       "0      7    24         7                        0   \n",
       "1      8     1         1                        0   \n",
       "2      8     2         1                        0   \n",
       "3      8     3         1                        0   \n",
       "4      8     4         1                        0   \n",
       "\n",
       "   indoor_dry_bulb_temperature  average_unmet_cooling_setpoint_difference  \\\n",
       "0                          NaN                                        NaN   \n",
       "1                          NaN                                        NaN   \n",
       "2                          NaN                                        NaN   \n",
       "3                          NaN                                        NaN   \n",
       "4                          NaN                                        NaN   \n",
       "\n",
       "   indoor_relative_humidity  non_shiftable_load  dhw_demand  cooling_demand  \\\n",
       "0                       NaN            2.188750         0.0             0.0   \n",
       "1                       NaN            1.370667         0.0             0.0   \n",
       "2                       NaN            1.101250         0.0             0.0   \n",
       "3                       NaN            0.543217         0.0             0.0   \n",
       "4                       NaN            0.542833         0.0             0.0   \n",
       "\n",
       "   heating_demand  solar_generation  \n",
       "0             0.0               0.0  \n",
       "1             0.0               0.0  \n",
       "2             0.0               0.0  \n",
       "3             0.0               0.0  \n",
       "4             0.0               0.0  "
      ]
     },
     "execution_count": 21,
     "metadata": {},
     "output_type": "execute_result"
    }
   ],
   "source": [
    "df.head()"
   ]
  },
  {
   "cell_type": "code",
   "execution_count": 27,
   "id": "080ec1f0-2796-44e8-8d5c-ed365658d476",
   "metadata": {
    "slideshow": {
     "slide_type": "slide"
    }
   },
   "outputs": [],
   "source": [
    "booleans = []\n",
    "for lenght in df.hour:\n",
    "    if lenght >= 12:\n",
    "        booleans.append(True)\n",
    "    else:\n",
    "        booleans.append(False)"
   ]
  },
  {
   "cell_type": "code",
   "execution_count": 29,
   "id": "8dc8b98d-913b-4df6-9d1f-08b7c4752e49",
   "metadata": {
    "slideshow": {
     "slide_type": "fragment"
    }
   },
   "outputs": [
    {
     "data": {
      "text/plain": [
       "[True, False, False, False, False, False, False]"
      ]
     },
     "execution_count": 29,
     "metadata": {},
     "output_type": "execute_result"
    }
   ],
   "source": [
    "booleans[0:7]"
   ]
  },
  {
   "cell_type": "code",
   "execution_count": 30,
   "id": "59e3f456-c18c-4873-af11-7216b5ccc8af",
   "metadata": {
    "slideshow": {
     "slide_type": "fragment"
    }
   },
   "outputs": [
    {
     "data": {
      "text/plain": [
       "8760"
      ]
     },
     "execution_count": 30,
     "metadata": {},
     "output_type": "execute_result"
    }
   ],
   "source": [
    "len(booleans)"
   ]
  },
  {
   "cell_type": "code",
   "execution_count": 31,
   "id": "61f09dcc-3715-4edf-82ed-8886f442c1f9",
   "metadata": {
    "slideshow": {
     "slide_type": "slide"
    }
   },
   "outputs": [],
   "source": [
    "is_long = pd.Series(booleans)"
   ]
  },
  {
   "cell_type": "code",
   "execution_count": 32,
   "id": "4208db3e-1af1-4d75-8f2f-9dad0963daca",
   "metadata": {
    "slideshow": {
     "slide_type": "fragment"
    }
   },
   "outputs": [
    {
     "data": {
      "text/plain": [
       "0     True\n",
       "1    False\n",
       "2    False\n",
       "3    False\n",
       "4    False\n",
       "dtype: bool"
      ]
     },
     "execution_count": 32,
     "metadata": {},
     "output_type": "execute_result"
    }
   ],
   "source": [
    "is_long.head()"
   ]
  },
  {
   "cell_type": "code",
   "execution_count": 34,
   "id": "1e8bf6e2-892b-4566-9465-b1a2284f80bd",
   "metadata": {
    "slideshow": {
     "slide_type": "slide"
    }
   },
   "outputs": [
    {
     "data": {
      "text/html": [
       "<div>\n",
       "<style scoped>\n",
       "    .dataframe tbody tr th:only-of-type {\n",
       "        vertical-align: middle;\n",
       "    }\n",
       "\n",
       "    .dataframe tbody tr th {\n",
       "        vertical-align: top;\n",
       "    }\n",
       "\n",
       "    .dataframe thead th {\n",
       "        text-align: right;\n",
       "    }\n",
       "</style>\n",
       "<table border=\"1\" class=\"dataframe\">\n",
       "  <thead>\n",
       "    <tr style=\"text-align: right;\">\n",
       "      <th></th>\n",
       "      <th>month</th>\n",
       "      <th>hour</th>\n",
       "      <th>day_type</th>\n",
       "      <th>daylight_savings_status</th>\n",
       "      <th>indoor_dry_bulb_temperature</th>\n",
       "      <th>average_unmet_cooling_setpoint_difference</th>\n",
       "      <th>indoor_relative_humidity</th>\n",
       "      <th>non_shiftable_load</th>\n",
       "      <th>dhw_demand</th>\n",
       "      <th>cooling_demand</th>\n",
       "      <th>heating_demand</th>\n",
       "      <th>solar_generation</th>\n",
       "    </tr>\n",
       "  </thead>\n",
       "  <tbody>\n",
       "    <tr>\n",
       "      <th>0</th>\n",
       "      <td>7</td>\n",
       "      <td>24</td>\n",
       "      <td>7</td>\n",
       "      <td>0</td>\n",
       "      <td>NaN</td>\n",
       "      <td>NaN</td>\n",
       "      <td>NaN</td>\n",
       "      <td>2.188750</td>\n",
       "      <td>0.0</td>\n",
       "      <td>0.0</td>\n",
       "      <td>0.0</td>\n",
       "      <td>0.000000</td>\n",
       "    </tr>\n",
       "    <tr>\n",
       "      <th>12</th>\n",
       "      <td>8</td>\n",
       "      <td>12</td>\n",
       "      <td>1</td>\n",
       "      <td>0</td>\n",
       "      <td>NaN</td>\n",
       "      <td>NaN</td>\n",
       "      <td>NaN</td>\n",
       "      <td>3.526000</td>\n",
       "      <td>0.0</td>\n",
       "      <td>0.0</td>\n",
       "      <td>0.0</td>\n",
       "      <td>578.870850</td>\n",
       "    </tr>\n",
       "    <tr>\n",
       "      <th>13</th>\n",
       "      <td>8</td>\n",
       "      <td>13</td>\n",
       "      <td>1</td>\n",
       "      <td>0</td>\n",
       "      <td>NaN</td>\n",
       "      <td>NaN</td>\n",
       "      <td>NaN</td>\n",
       "      <td>3.872033</td>\n",
       "      <td>0.0</td>\n",
       "      <td>0.0</td>\n",
       "      <td>0.0</td>\n",
       "      <td>624.845800</td>\n",
       "    </tr>\n",
       "    <tr>\n",
       "      <th>14</th>\n",
       "      <td>8</td>\n",
       "      <td>14</td>\n",
       "      <td>1</td>\n",
       "      <td>0</td>\n",
       "      <td>NaN</td>\n",
       "      <td>NaN</td>\n",
       "      <td>NaN</td>\n",
       "      <td>3.449367</td>\n",
       "      <td>0.0</td>\n",
       "      <td>0.0</td>\n",
       "      <td>0.0</td>\n",
       "      <td>631.187500</td>\n",
       "    </tr>\n",
       "    <tr>\n",
       "      <th>15</th>\n",
       "      <td>8</td>\n",
       "      <td>15</td>\n",
       "      <td>1</td>\n",
       "      <td>0</td>\n",
       "      <td>NaN</td>\n",
       "      <td>NaN</td>\n",
       "      <td>NaN</td>\n",
       "      <td>3.336417</td>\n",
       "      <td>0.0</td>\n",
       "      <td>0.0</td>\n",
       "      <td>0.0</td>\n",
       "      <td>600.270800</td>\n",
       "    </tr>\n",
       "    <tr>\n",
       "      <th>...</th>\n",
       "      <td>...</td>\n",
       "      <td>...</td>\n",
       "      <td>...</td>\n",
       "      <td>...</td>\n",
       "      <td>...</td>\n",
       "      <td>...</td>\n",
       "      <td>...</td>\n",
       "      <td>...</td>\n",
       "      <td>...</td>\n",
       "      <td>...</td>\n",
       "      <td>...</td>\n",
       "      <td>...</td>\n",
       "    </tr>\n",
       "    <tr>\n",
       "      <th>8755</th>\n",
       "      <td>7</td>\n",
       "      <td>19</td>\n",
       "      <td>1</td>\n",
       "      <td>0</td>\n",
       "      <td>NaN</td>\n",
       "      <td>NaN</td>\n",
       "      <td>NaN</td>\n",
       "      <td>1.604967</td>\n",
       "      <td>0.0</td>\n",
       "      <td>0.0</td>\n",
       "      <td>0.0</td>\n",
       "      <td>25.570833</td>\n",
       "    </tr>\n",
       "    <tr>\n",
       "      <th>8756</th>\n",
       "      <td>7</td>\n",
       "      <td>20</td>\n",
       "      <td>1</td>\n",
       "      <td>0</td>\n",
       "      <td>NaN</td>\n",
       "      <td>NaN</td>\n",
       "      <td>NaN</td>\n",
       "      <td>0.803133</td>\n",
       "      <td>0.0</td>\n",
       "      <td>0.0</td>\n",
       "      <td>0.0</td>\n",
       "      <td>0.000000</td>\n",
       "    </tr>\n",
       "    <tr>\n",
       "      <th>8757</th>\n",
       "      <td>7</td>\n",
       "      <td>21</td>\n",
       "      <td>1</td>\n",
       "      <td>0</td>\n",
       "      <td>NaN</td>\n",
       "      <td>NaN</td>\n",
       "      <td>NaN</td>\n",
       "      <td>2.194633</td>\n",
       "      <td>0.0</td>\n",
       "      <td>0.0</td>\n",
       "      <td>0.0</td>\n",
       "      <td>0.000000</td>\n",
       "    </tr>\n",
       "    <tr>\n",
       "      <th>8758</th>\n",
       "      <td>7</td>\n",
       "      <td>22</td>\n",
       "      <td>1</td>\n",
       "      <td>0</td>\n",
       "      <td>NaN</td>\n",
       "      <td>NaN</td>\n",
       "      <td>NaN</td>\n",
       "      <td>1.456333</td>\n",
       "      <td>0.0</td>\n",
       "      <td>0.0</td>\n",
       "      <td>0.0</td>\n",
       "      <td>0.000000</td>\n",
       "    </tr>\n",
       "    <tr>\n",
       "      <th>8759</th>\n",
       "      <td>7</td>\n",
       "      <td>23</td>\n",
       "      <td>1</td>\n",
       "      <td>0</td>\n",
       "      <td>NaN</td>\n",
       "      <td>NaN</td>\n",
       "      <td>NaN</td>\n",
       "      <td>3.310950</td>\n",
       "      <td>0.0</td>\n",
       "      <td>0.0</td>\n",
       "      <td>0.0</td>\n",
       "      <td>0.000000</td>\n",
       "    </tr>\n",
       "  </tbody>\n",
       "</table>\n",
       "<p>4745 rows × 12 columns</p>\n",
       "</div>"
      ],
      "text/plain": [
       "      month  hour  day_type  daylight_savings_status  \\\n",
       "0         7    24         7                        0   \n",
       "12        8    12         1                        0   \n",
       "13        8    13         1                        0   \n",
       "14        8    14         1                        0   \n",
       "15        8    15         1                        0   \n",
       "...     ...   ...       ...                      ...   \n",
       "8755      7    19         1                        0   \n",
       "8756      7    20         1                        0   \n",
       "8757      7    21         1                        0   \n",
       "8758      7    22         1                        0   \n",
       "8759      7    23         1                        0   \n",
       "\n",
       "      indoor_dry_bulb_temperature  average_unmet_cooling_setpoint_difference  \\\n",
       "0                             NaN                                        NaN   \n",
       "12                            NaN                                        NaN   \n",
       "13                            NaN                                        NaN   \n",
       "14                            NaN                                        NaN   \n",
       "15                            NaN                                        NaN   \n",
       "...                           ...                                        ...   \n",
       "8755                          NaN                                        NaN   \n",
       "8756                          NaN                                        NaN   \n",
       "8757                          NaN                                        NaN   \n",
       "8758                          NaN                                        NaN   \n",
       "8759                          NaN                                        NaN   \n",
       "\n",
       "      indoor_relative_humidity  non_shiftable_load  dhw_demand  \\\n",
       "0                          NaN            2.188750         0.0   \n",
       "12                         NaN            3.526000         0.0   \n",
       "13                         NaN            3.872033         0.0   \n",
       "14                         NaN            3.449367         0.0   \n",
       "15                         NaN            3.336417         0.0   \n",
       "...                        ...                 ...         ...   \n",
       "8755                       NaN            1.604967         0.0   \n",
       "8756                       NaN            0.803133         0.0   \n",
       "8757                       NaN            2.194633         0.0   \n",
       "8758                       NaN            1.456333         0.0   \n",
       "8759                       NaN            3.310950         0.0   \n",
       "\n",
       "      cooling_demand  heating_demand  solar_generation  \n",
       "0                0.0             0.0          0.000000  \n",
       "12               0.0             0.0        578.870850  \n",
       "13               0.0             0.0        624.845800  \n",
       "14               0.0             0.0        631.187500  \n",
       "15               0.0             0.0        600.270800  \n",
       "...              ...             ...               ...  \n",
       "8755             0.0             0.0         25.570833  \n",
       "8756             0.0             0.0          0.000000  \n",
       "8757             0.0             0.0          0.000000  \n",
       "8758             0.0             0.0          0.000000  \n",
       "8759             0.0             0.0          0.000000  \n",
       "\n",
       "[4745 rows x 12 columns]"
      ]
     },
     "execution_count": 34,
     "metadata": {},
     "output_type": "execute_result"
    }
   ],
   "source": [
    "df[is_long]"
   ]
  },
  {
   "cell_type": "code",
   "execution_count": 35,
   "id": "bf862158-8673-4469-ae7f-66cea42a9a4c",
   "metadata": {
    "slideshow": {
     "slide_type": "slide"
    }
   },
   "outputs": [
    {
     "data": {
      "text/html": [
       "<div>\n",
       "<style scoped>\n",
       "    .dataframe tbody tr th:only-of-type {\n",
       "        vertical-align: middle;\n",
       "    }\n",
       "\n",
       "    .dataframe tbody tr th {\n",
       "        vertical-align: top;\n",
       "    }\n",
       "\n",
       "    .dataframe thead th {\n",
       "        text-align: right;\n",
       "    }\n",
       "</style>\n",
       "<table border=\"1\" class=\"dataframe\">\n",
       "  <thead>\n",
       "    <tr style=\"text-align: right;\">\n",
       "      <th></th>\n",
       "      <th>month</th>\n",
       "      <th>hour</th>\n",
       "      <th>day_type</th>\n",
       "      <th>daylight_savings_status</th>\n",
       "      <th>indoor_dry_bulb_temperature</th>\n",
       "      <th>average_unmet_cooling_setpoint_difference</th>\n",
       "      <th>indoor_relative_humidity</th>\n",
       "      <th>non_shiftable_load</th>\n",
       "      <th>dhw_demand</th>\n",
       "      <th>cooling_demand</th>\n",
       "      <th>heating_demand</th>\n",
       "      <th>solar_generation</th>\n",
       "    </tr>\n",
       "  </thead>\n",
       "  <tbody>\n",
       "    <tr>\n",
       "      <th>0</th>\n",
       "      <td>7</td>\n",
       "      <td>24</td>\n",
       "      <td>7</td>\n",
       "      <td>0</td>\n",
       "      <td>NaN</td>\n",
       "      <td>NaN</td>\n",
       "      <td>NaN</td>\n",
       "      <td>2.188750</td>\n",
       "      <td>0.0</td>\n",
       "      <td>0.0</td>\n",
       "      <td>0.0</td>\n",
       "      <td>0.000000</td>\n",
       "    </tr>\n",
       "    <tr>\n",
       "      <th>12</th>\n",
       "      <td>8</td>\n",
       "      <td>12</td>\n",
       "      <td>1</td>\n",
       "      <td>0</td>\n",
       "      <td>NaN</td>\n",
       "      <td>NaN</td>\n",
       "      <td>NaN</td>\n",
       "      <td>3.526000</td>\n",
       "      <td>0.0</td>\n",
       "      <td>0.0</td>\n",
       "      <td>0.0</td>\n",
       "      <td>578.870850</td>\n",
       "    </tr>\n",
       "    <tr>\n",
       "      <th>13</th>\n",
       "      <td>8</td>\n",
       "      <td>13</td>\n",
       "      <td>1</td>\n",
       "      <td>0</td>\n",
       "      <td>NaN</td>\n",
       "      <td>NaN</td>\n",
       "      <td>NaN</td>\n",
       "      <td>3.872033</td>\n",
       "      <td>0.0</td>\n",
       "      <td>0.0</td>\n",
       "      <td>0.0</td>\n",
       "      <td>624.845800</td>\n",
       "    </tr>\n",
       "    <tr>\n",
       "      <th>14</th>\n",
       "      <td>8</td>\n",
       "      <td>14</td>\n",
       "      <td>1</td>\n",
       "      <td>0</td>\n",
       "      <td>NaN</td>\n",
       "      <td>NaN</td>\n",
       "      <td>NaN</td>\n",
       "      <td>3.449367</td>\n",
       "      <td>0.0</td>\n",
       "      <td>0.0</td>\n",
       "      <td>0.0</td>\n",
       "      <td>631.187500</td>\n",
       "    </tr>\n",
       "    <tr>\n",
       "      <th>15</th>\n",
       "      <td>8</td>\n",
       "      <td>15</td>\n",
       "      <td>1</td>\n",
       "      <td>0</td>\n",
       "      <td>NaN</td>\n",
       "      <td>NaN</td>\n",
       "      <td>NaN</td>\n",
       "      <td>3.336417</td>\n",
       "      <td>0.0</td>\n",
       "      <td>0.0</td>\n",
       "      <td>0.0</td>\n",
       "      <td>600.270800</td>\n",
       "    </tr>\n",
       "    <tr>\n",
       "      <th>...</th>\n",
       "      <td>...</td>\n",
       "      <td>...</td>\n",
       "      <td>...</td>\n",
       "      <td>...</td>\n",
       "      <td>...</td>\n",
       "      <td>...</td>\n",
       "      <td>...</td>\n",
       "      <td>...</td>\n",
       "      <td>...</td>\n",
       "      <td>...</td>\n",
       "      <td>...</td>\n",
       "      <td>...</td>\n",
       "    </tr>\n",
       "    <tr>\n",
       "      <th>8755</th>\n",
       "      <td>7</td>\n",
       "      <td>19</td>\n",
       "      <td>1</td>\n",
       "      <td>0</td>\n",
       "      <td>NaN</td>\n",
       "      <td>NaN</td>\n",
       "      <td>NaN</td>\n",
       "      <td>1.604967</td>\n",
       "      <td>0.0</td>\n",
       "      <td>0.0</td>\n",
       "      <td>0.0</td>\n",
       "      <td>25.570833</td>\n",
       "    </tr>\n",
       "    <tr>\n",
       "      <th>8756</th>\n",
       "      <td>7</td>\n",
       "      <td>20</td>\n",
       "      <td>1</td>\n",
       "      <td>0</td>\n",
       "      <td>NaN</td>\n",
       "      <td>NaN</td>\n",
       "      <td>NaN</td>\n",
       "      <td>0.803133</td>\n",
       "      <td>0.0</td>\n",
       "      <td>0.0</td>\n",
       "      <td>0.0</td>\n",
       "      <td>0.000000</td>\n",
       "    </tr>\n",
       "    <tr>\n",
       "      <th>8757</th>\n",
       "      <td>7</td>\n",
       "      <td>21</td>\n",
       "      <td>1</td>\n",
       "      <td>0</td>\n",
       "      <td>NaN</td>\n",
       "      <td>NaN</td>\n",
       "      <td>NaN</td>\n",
       "      <td>2.194633</td>\n",
       "      <td>0.0</td>\n",
       "      <td>0.0</td>\n",
       "      <td>0.0</td>\n",
       "      <td>0.000000</td>\n",
       "    </tr>\n",
       "    <tr>\n",
       "      <th>8758</th>\n",
       "      <td>7</td>\n",
       "      <td>22</td>\n",
       "      <td>1</td>\n",
       "      <td>0</td>\n",
       "      <td>NaN</td>\n",
       "      <td>NaN</td>\n",
       "      <td>NaN</td>\n",
       "      <td>1.456333</td>\n",
       "      <td>0.0</td>\n",
       "      <td>0.0</td>\n",
       "      <td>0.0</td>\n",
       "      <td>0.000000</td>\n",
       "    </tr>\n",
       "    <tr>\n",
       "      <th>8759</th>\n",
       "      <td>7</td>\n",
       "      <td>23</td>\n",
       "      <td>1</td>\n",
       "      <td>0</td>\n",
       "      <td>NaN</td>\n",
       "      <td>NaN</td>\n",
       "      <td>NaN</td>\n",
       "      <td>3.310950</td>\n",
       "      <td>0.0</td>\n",
       "      <td>0.0</td>\n",
       "      <td>0.0</td>\n",
       "      <td>0.000000</td>\n",
       "    </tr>\n",
       "  </tbody>\n",
       "</table>\n",
       "<p>4745 rows × 12 columns</p>\n",
       "</div>"
      ],
      "text/plain": [
       "      month  hour  day_type  daylight_savings_status  \\\n",
       "0         7    24         7                        0   \n",
       "12        8    12         1                        0   \n",
       "13        8    13         1                        0   \n",
       "14        8    14         1                        0   \n",
       "15        8    15         1                        0   \n",
       "...     ...   ...       ...                      ...   \n",
       "8755      7    19         1                        0   \n",
       "8756      7    20         1                        0   \n",
       "8757      7    21         1                        0   \n",
       "8758      7    22         1                        0   \n",
       "8759      7    23         1                        0   \n",
       "\n",
       "      indoor_dry_bulb_temperature  average_unmet_cooling_setpoint_difference  \\\n",
       "0                             NaN                                        NaN   \n",
       "12                            NaN                                        NaN   \n",
       "13                            NaN                                        NaN   \n",
       "14                            NaN                                        NaN   \n",
       "15                            NaN                                        NaN   \n",
       "...                           ...                                        ...   \n",
       "8755                          NaN                                        NaN   \n",
       "8756                          NaN                                        NaN   \n",
       "8757                          NaN                                        NaN   \n",
       "8758                          NaN                                        NaN   \n",
       "8759                          NaN                                        NaN   \n",
       "\n",
       "      indoor_relative_humidity  non_shiftable_load  dhw_demand  \\\n",
       "0                          NaN            2.188750         0.0   \n",
       "12                         NaN            3.526000         0.0   \n",
       "13                         NaN            3.872033         0.0   \n",
       "14                         NaN            3.449367         0.0   \n",
       "15                         NaN            3.336417         0.0   \n",
       "...                        ...                 ...         ...   \n",
       "8755                       NaN            1.604967         0.0   \n",
       "8756                       NaN            0.803133         0.0   \n",
       "8757                       NaN            2.194633         0.0   \n",
       "8758                       NaN            1.456333         0.0   \n",
       "8759                       NaN            3.310950         0.0   \n",
       "\n",
       "      cooling_demand  heating_demand  solar_generation  \n",
       "0                0.0             0.0          0.000000  \n",
       "12               0.0             0.0        578.870850  \n",
       "13               0.0             0.0        624.845800  \n",
       "14               0.0             0.0        631.187500  \n",
       "15               0.0             0.0        600.270800  \n",
       "...              ...             ...               ...  \n",
       "8755             0.0             0.0         25.570833  \n",
       "8756             0.0             0.0          0.000000  \n",
       "8757             0.0             0.0          0.000000  \n",
       "8758             0.0             0.0          0.000000  \n",
       "8759             0.0             0.0          0.000000  \n",
       "\n",
       "[4745 rows x 12 columns]"
      ]
     },
     "execution_count": 35,
     "metadata": {},
     "output_type": "execute_result"
    }
   ],
   "source": [
    "df[df.hour >= 12]"
   ]
  },
  {
   "cell_type": "markdown",
   "id": "d7216b22-6ffe-4c5a-a541-93332080fc88",
   "metadata": {
    "slideshow": {
     "slide_type": "slide"
    }
   },
   "source": [
    "<ol style=\"color: #2c3e50; font-family: 'Arial', sans-serif; line-height: 1.8; padding: 10px;\">\n",
    "    <strong style=\"color: #8e44ad; background-color: #f4e7fa; padding: 12px; border-radius: 8px; display: block; margin-bottom: 10px;\"> Multiple filters on pandas dataframe</strong>\n",
    "    </li>\n",
    "</ol>"
   ]
  },
  {
   "cell_type": "code",
   "execution_count": 36,
   "id": "438143ae-6199-435a-9ab5-cffdabc5ef3c",
   "metadata": {
    "slideshow": {
     "slide_type": "fragment"
    }
   },
   "outputs": [
    {
     "data": {
      "text/html": [
       "<div>\n",
       "<style scoped>\n",
       "    .dataframe tbody tr th:only-of-type {\n",
       "        vertical-align: middle;\n",
       "    }\n",
       "\n",
       "    .dataframe tbody tr th {\n",
       "        vertical-align: top;\n",
       "    }\n",
       "\n",
       "    .dataframe thead th {\n",
       "        text-align: right;\n",
       "    }\n",
       "</style>\n",
       "<table border=\"1\" class=\"dataframe\">\n",
       "  <thead>\n",
       "    <tr style=\"text-align: right;\">\n",
       "      <th></th>\n",
       "      <th>month</th>\n",
       "      <th>hour</th>\n",
       "      <th>day_type</th>\n",
       "      <th>daylight_savings_status</th>\n",
       "      <th>indoor_dry_bulb_temperature</th>\n",
       "      <th>average_unmet_cooling_setpoint_difference</th>\n",
       "      <th>indoor_relative_humidity</th>\n",
       "      <th>non_shiftable_load</th>\n",
       "      <th>dhw_demand</th>\n",
       "      <th>cooling_demand</th>\n",
       "      <th>heating_demand</th>\n",
       "      <th>solar_generation</th>\n",
       "    </tr>\n",
       "  </thead>\n",
       "  <tbody>\n",
       "    <tr>\n",
       "      <th>12</th>\n",
       "      <td>8</td>\n",
       "      <td>12</td>\n",
       "      <td>1</td>\n",
       "      <td>0</td>\n",
       "      <td>NaN</td>\n",
       "      <td>NaN</td>\n",
       "      <td>NaN</td>\n",
       "      <td>3.526000</td>\n",
       "      <td>0.0</td>\n",
       "      <td>0.0</td>\n",
       "      <td>0.0</td>\n",
       "      <td>578.87085</td>\n",
       "    </tr>\n",
       "    <tr>\n",
       "      <th>36</th>\n",
       "      <td>8</td>\n",
       "      <td>12</td>\n",
       "      <td>2</td>\n",
       "      <td>0</td>\n",
       "      <td>NaN</td>\n",
       "      <td>NaN</td>\n",
       "      <td>NaN</td>\n",
       "      <td>1.876250</td>\n",
       "      <td>0.0</td>\n",
       "      <td>0.0</td>\n",
       "      <td>0.0</td>\n",
       "      <td>569.83330</td>\n",
       "    </tr>\n",
       "    <tr>\n",
       "      <th>60</th>\n",
       "      <td>8</td>\n",
       "      <td>12</td>\n",
       "      <td>3</td>\n",
       "      <td>0</td>\n",
       "      <td>NaN</td>\n",
       "      <td>NaN</td>\n",
       "      <td>NaN</td>\n",
       "      <td>1.353100</td>\n",
       "      <td>0.0</td>\n",
       "      <td>0.0</td>\n",
       "      <td>0.0</td>\n",
       "      <td>582.46250</td>\n",
       "    </tr>\n",
       "    <tr>\n",
       "      <th>84</th>\n",
       "      <td>8</td>\n",
       "      <td>12</td>\n",
       "      <td>4</td>\n",
       "      <td>0</td>\n",
       "      <td>NaN</td>\n",
       "      <td>NaN</td>\n",
       "      <td>NaN</td>\n",
       "      <td>1.829167</td>\n",
       "      <td>0.0</td>\n",
       "      <td>0.0</td>\n",
       "      <td>0.0</td>\n",
       "      <td>570.97920</td>\n",
       "    </tr>\n",
       "    <tr>\n",
       "      <th>108</th>\n",
       "      <td>8</td>\n",
       "      <td>12</td>\n",
       "      <td>5</td>\n",
       "      <td>0</td>\n",
       "      <td>NaN</td>\n",
       "      <td>NaN</td>\n",
       "      <td>NaN</td>\n",
       "      <td>4.105050</td>\n",
       "      <td>0.0</td>\n",
       "      <td>0.0</td>\n",
       "      <td>0.0</td>\n",
       "      <td>580.66250</td>\n",
       "    </tr>\n",
       "    <tr>\n",
       "      <th>...</th>\n",
       "      <td>...</td>\n",
       "      <td>...</td>\n",
       "      <td>...</td>\n",
       "      <td>...</td>\n",
       "      <td>...</td>\n",
       "      <td>...</td>\n",
       "      <td>...</td>\n",
       "      <td>...</td>\n",
       "      <td>...</td>\n",
       "      <td>...</td>\n",
       "      <td>...</td>\n",
       "      <td>...</td>\n",
       "    </tr>\n",
       "    <tr>\n",
       "      <th>8652</th>\n",
       "      <td>7</td>\n",
       "      <td>12</td>\n",
       "      <td>4</td>\n",
       "      <td>0</td>\n",
       "      <td>NaN</td>\n",
       "      <td>NaN</td>\n",
       "      <td>NaN</td>\n",
       "      <td>3.902717</td>\n",
       "      <td>0.0</td>\n",
       "      <td>0.0</td>\n",
       "      <td>0.0</td>\n",
       "      <td>601.72500</td>\n",
       "    </tr>\n",
       "    <tr>\n",
       "      <th>8676</th>\n",
       "      <td>7</td>\n",
       "      <td>12</td>\n",
       "      <td>5</td>\n",
       "      <td>0</td>\n",
       "      <td>NaN</td>\n",
       "      <td>NaN</td>\n",
       "      <td>NaN</td>\n",
       "      <td>3.896717</td>\n",
       "      <td>0.0</td>\n",
       "      <td>0.0</td>\n",
       "      <td>0.0</td>\n",
       "      <td>615.80000</td>\n",
       "    </tr>\n",
       "    <tr>\n",
       "      <th>8700</th>\n",
       "      <td>7</td>\n",
       "      <td>12</td>\n",
       "      <td>6</td>\n",
       "      <td>0</td>\n",
       "      <td>NaN</td>\n",
       "      <td>NaN</td>\n",
       "      <td>NaN</td>\n",
       "      <td>0.771717</td>\n",
       "      <td>0.0</td>\n",
       "      <td>0.0</td>\n",
       "      <td>0.0</td>\n",
       "      <td>610.81250</td>\n",
       "    </tr>\n",
       "    <tr>\n",
       "      <th>8724</th>\n",
       "      <td>7</td>\n",
       "      <td>12</td>\n",
       "      <td>7</td>\n",
       "      <td>0</td>\n",
       "      <td>NaN</td>\n",
       "      <td>NaN</td>\n",
       "      <td>NaN</td>\n",
       "      <td>0.502750</td>\n",
       "      <td>0.0</td>\n",
       "      <td>0.0</td>\n",
       "      <td>0.0</td>\n",
       "      <td>587.19586</td>\n",
       "    </tr>\n",
       "    <tr>\n",
       "      <th>8748</th>\n",
       "      <td>7</td>\n",
       "      <td>12</td>\n",
       "      <td>1</td>\n",
       "      <td>0</td>\n",
       "      <td>NaN</td>\n",
       "      <td>NaN</td>\n",
       "      <td>NaN</td>\n",
       "      <td>3.256333</td>\n",
       "      <td>0.0</td>\n",
       "      <td>0.0</td>\n",
       "      <td>0.0</td>\n",
       "      <td>552.83330</td>\n",
       "    </tr>\n",
       "  </tbody>\n",
       "</table>\n",
       "<p>245 rows × 12 columns</p>\n",
       "</div>"
      ],
      "text/plain": [
       "      month  hour  day_type  daylight_savings_status  \\\n",
       "12        8    12         1                        0   \n",
       "36        8    12         2                        0   \n",
       "60        8    12         3                        0   \n",
       "84        8    12         4                        0   \n",
       "108       8    12         5                        0   \n",
       "...     ...   ...       ...                      ...   \n",
       "8652      7    12         4                        0   \n",
       "8676      7    12         5                        0   \n",
       "8700      7    12         6                        0   \n",
       "8724      7    12         7                        0   \n",
       "8748      7    12         1                        0   \n",
       "\n",
       "      indoor_dry_bulb_temperature  average_unmet_cooling_setpoint_difference  \\\n",
       "12                            NaN                                        NaN   \n",
       "36                            NaN                                        NaN   \n",
       "60                            NaN                                        NaN   \n",
       "84                            NaN                                        NaN   \n",
       "108                           NaN                                        NaN   \n",
       "...                           ...                                        ...   \n",
       "8652                          NaN                                        NaN   \n",
       "8676                          NaN                                        NaN   \n",
       "8700                          NaN                                        NaN   \n",
       "8724                          NaN                                        NaN   \n",
       "8748                          NaN                                        NaN   \n",
       "\n",
       "      indoor_relative_humidity  non_shiftable_load  dhw_demand  \\\n",
       "12                         NaN            3.526000         0.0   \n",
       "36                         NaN            1.876250         0.0   \n",
       "60                         NaN            1.353100         0.0   \n",
       "84                         NaN            1.829167         0.0   \n",
       "108                        NaN            4.105050         0.0   \n",
       "...                        ...                 ...         ...   \n",
       "8652                       NaN            3.902717         0.0   \n",
       "8676                       NaN            3.896717         0.0   \n",
       "8700                       NaN            0.771717         0.0   \n",
       "8724                       NaN            0.502750         0.0   \n",
       "8748                       NaN            3.256333         0.0   \n",
       "\n",
       "      cooling_demand  heating_demand  solar_generation  \n",
       "12               0.0             0.0         578.87085  \n",
       "36               0.0             0.0         569.83330  \n",
       "60               0.0             0.0         582.46250  \n",
       "84               0.0             0.0         570.97920  \n",
       "108              0.0             0.0         580.66250  \n",
       "...              ...             ...               ...  \n",
       "8652             0.0             0.0         601.72500  \n",
       "8676             0.0             0.0         615.80000  \n",
       "8700             0.0             0.0         610.81250  \n",
       "8724             0.0             0.0         587.19586  \n",
       "8748             0.0             0.0         552.83330  \n",
       "\n",
       "[245 rows x 12 columns]"
      ]
     },
     "execution_count": 36,
     "metadata": {},
     "output_type": "execute_result"
    }
   ],
   "source": [
    "df[(df.month >= 5) & (df.hour == 12)]"
   ]
  },
  {
   "cell_type": "code",
   "execution_count": 37,
   "id": "9a5777df-c946-4f04-bb6d-e7c8fa1483c2",
   "metadata": {
    "slideshow": {
     "slide_type": "slide"
    }
   },
   "outputs": [
    {
     "data": {
      "text/html": [
       "<div>\n",
       "<style scoped>\n",
       "    .dataframe tbody tr th:only-of-type {\n",
       "        vertical-align: middle;\n",
       "    }\n",
       "\n",
       "    .dataframe tbody tr th {\n",
       "        vertical-align: top;\n",
       "    }\n",
       "\n",
       "    .dataframe thead th {\n",
       "        text-align: right;\n",
       "    }\n",
       "</style>\n",
       "<table border=\"1\" class=\"dataframe\">\n",
       "  <thead>\n",
       "    <tr style=\"text-align: right;\">\n",
       "      <th></th>\n",
       "      <th>month</th>\n",
       "      <th>hour</th>\n",
       "      <th>day_type</th>\n",
       "      <th>daylight_savings_status</th>\n",
       "      <th>indoor_dry_bulb_temperature</th>\n",
       "      <th>average_unmet_cooling_setpoint_difference</th>\n",
       "      <th>indoor_relative_humidity</th>\n",
       "      <th>non_shiftable_load</th>\n",
       "      <th>dhw_demand</th>\n",
       "      <th>cooling_demand</th>\n",
       "      <th>heating_demand</th>\n",
       "      <th>solar_generation</th>\n",
       "    </tr>\n",
       "  </thead>\n",
       "  <tbody>\n",
       "    <tr>\n",
       "      <th>0</th>\n",
       "      <td>7</td>\n",
       "      <td>24</td>\n",
       "      <td>7</td>\n",
       "      <td>0</td>\n",
       "      <td>NaN</td>\n",
       "      <td>NaN</td>\n",
       "      <td>NaN</td>\n",
       "      <td>2.188750</td>\n",
       "      <td>0.0</td>\n",
       "      <td>0.0</td>\n",
       "      <td>0.0</td>\n",
       "      <td>0.000000</td>\n",
       "    </tr>\n",
       "    <tr>\n",
       "      <th>1</th>\n",
       "      <td>8</td>\n",
       "      <td>1</td>\n",
       "      <td>1</td>\n",
       "      <td>0</td>\n",
       "      <td>NaN</td>\n",
       "      <td>NaN</td>\n",
       "      <td>NaN</td>\n",
       "      <td>1.370667</td>\n",
       "      <td>0.0</td>\n",
       "      <td>0.0</td>\n",
       "      <td>0.0</td>\n",
       "      <td>0.000000</td>\n",
       "    </tr>\n",
       "    <tr>\n",
       "      <th>2</th>\n",
       "      <td>8</td>\n",
       "      <td>2</td>\n",
       "      <td>1</td>\n",
       "      <td>0</td>\n",
       "      <td>NaN</td>\n",
       "      <td>NaN</td>\n",
       "      <td>NaN</td>\n",
       "      <td>1.101250</td>\n",
       "      <td>0.0</td>\n",
       "      <td>0.0</td>\n",
       "      <td>0.0</td>\n",
       "      <td>0.000000</td>\n",
       "    </tr>\n",
       "    <tr>\n",
       "      <th>3</th>\n",
       "      <td>8</td>\n",
       "      <td>3</td>\n",
       "      <td>1</td>\n",
       "      <td>0</td>\n",
       "      <td>NaN</td>\n",
       "      <td>NaN</td>\n",
       "      <td>NaN</td>\n",
       "      <td>0.543217</td>\n",
       "      <td>0.0</td>\n",
       "      <td>0.0</td>\n",
       "      <td>0.0</td>\n",
       "      <td>0.000000</td>\n",
       "    </tr>\n",
       "    <tr>\n",
       "      <th>4</th>\n",
       "      <td>8</td>\n",
       "      <td>4</td>\n",
       "      <td>1</td>\n",
       "      <td>0</td>\n",
       "      <td>NaN</td>\n",
       "      <td>NaN</td>\n",
       "      <td>NaN</td>\n",
       "      <td>0.542833</td>\n",
       "      <td>0.0</td>\n",
       "      <td>0.0</td>\n",
       "      <td>0.0</td>\n",
       "      <td>0.000000</td>\n",
       "    </tr>\n",
       "    <tr>\n",
       "      <th>...</th>\n",
       "      <td>...</td>\n",
       "      <td>...</td>\n",
       "      <td>...</td>\n",
       "      <td>...</td>\n",
       "      <td>...</td>\n",
       "      <td>...</td>\n",
       "      <td>...</td>\n",
       "      <td>...</td>\n",
       "      <td>...</td>\n",
       "      <td>...</td>\n",
       "      <td>...</td>\n",
       "      <td>...</td>\n",
       "    </tr>\n",
       "    <tr>\n",
       "      <th>8755</th>\n",
       "      <td>7</td>\n",
       "      <td>19</td>\n",
       "      <td>1</td>\n",
       "      <td>0</td>\n",
       "      <td>NaN</td>\n",
       "      <td>NaN</td>\n",
       "      <td>NaN</td>\n",
       "      <td>1.604967</td>\n",
       "      <td>0.0</td>\n",
       "      <td>0.0</td>\n",
       "      <td>0.0</td>\n",
       "      <td>25.570833</td>\n",
       "    </tr>\n",
       "    <tr>\n",
       "      <th>8756</th>\n",
       "      <td>7</td>\n",
       "      <td>20</td>\n",
       "      <td>1</td>\n",
       "      <td>0</td>\n",
       "      <td>NaN</td>\n",
       "      <td>NaN</td>\n",
       "      <td>NaN</td>\n",
       "      <td>0.803133</td>\n",
       "      <td>0.0</td>\n",
       "      <td>0.0</td>\n",
       "      <td>0.0</td>\n",
       "      <td>0.000000</td>\n",
       "    </tr>\n",
       "    <tr>\n",
       "      <th>8757</th>\n",
       "      <td>7</td>\n",
       "      <td>21</td>\n",
       "      <td>1</td>\n",
       "      <td>0</td>\n",
       "      <td>NaN</td>\n",
       "      <td>NaN</td>\n",
       "      <td>NaN</td>\n",
       "      <td>2.194633</td>\n",
       "      <td>0.0</td>\n",
       "      <td>0.0</td>\n",
       "      <td>0.0</td>\n",
       "      <td>0.000000</td>\n",
       "    </tr>\n",
       "    <tr>\n",
       "      <th>8758</th>\n",
       "      <td>7</td>\n",
       "      <td>22</td>\n",
       "      <td>1</td>\n",
       "      <td>0</td>\n",
       "      <td>NaN</td>\n",
       "      <td>NaN</td>\n",
       "      <td>NaN</td>\n",
       "      <td>1.456333</td>\n",
       "      <td>0.0</td>\n",
       "      <td>0.0</td>\n",
       "      <td>0.0</td>\n",
       "      <td>0.000000</td>\n",
       "    </tr>\n",
       "    <tr>\n",
       "      <th>8759</th>\n",
       "      <td>7</td>\n",
       "      <td>23</td>\n",
       "      <td>1</td>\n",
       "      <td>0</td>\n",
       "      <td>NaN</td>\n",
       "      <td>NaN</td>\n",
       "      <td>NaN</td>\n",
       "      <td>3.310950</td>\n",
       "      <td>0.0</td>\n",
       "      <td>0.0</td>\n",
       "      <td>0.0</td>\n",
       "      <td>0.000000</td>\n",
       "    </tr>\n",
       "  </tbody>\n",
       "</table>\n",
       "<p>4597 rows × 12 columns</p>\n",
       "</div>"
      ],
      "text/plain": [
       "      month  hour  day_type  daylight_savings_status  \\\n",
       "0         7    24         7                        0   \n",
       "1         8     1         1                        0   \n",
       "2         8     2         1                        0   \n",
       "3         8     3         1                        0   \n",
       "4         8     4         1                        0   \n",
       "...     ...   ...       ...                      ...   \n",
       "8755      7    19         1                        0   \n",
       "8756      7    20         1                        0   \n",
       "8757      7    21         1                        0   \n",
       "8758      7    22         1                        0   \n",
       "8759      7    23         1                        0   \n",
       "\n",
       "      indoor_dry_bulb_temperature  average_unmet_cooling_setpoint_difference  \\\n",
       "0                             NaN                                        NaN   \n",
       "1                             NaN                                        NaN   \n",
       "2                             NaN                                        NaN   \n",
       "3                             NaN                                        NaN   \n",
       "4                             NaN                                        NaN   \n",
       "...                           ...                                        ...   \n",
       "8755                          NaN                                        NaN   \n",
       "8756                          NaN                                        NaN   \n",
       "8757                          NaN                                        NaN   \n",
       "8758                          NaN                                        NaN   \n",
       "8759                          NaN                                        NaN   \n",
       "\n",
       "      indoor_relative_humidity  non_shiftable_load  dhw_demand  \\\n",
       "0                          NaN            2.188750         0.0   \n",
       "1                          NaN            1.370667         0.0   \n",
       "2                          NaN            1.101250         0.0   \n",
       "3                          NaN            0.543217         0.0   \n",
       "4                          NaN            0.542833         0.0   \n",
       "...                        ...                 ...         ...   \n",
       "8755                       NaN            1.604967         0.0   \n",
       "8756                       NaN            0.803133         0.0   \n",
       "8757                       NaN            2.194633         0.0   \n",
       "8758                       NaN            1.456333         0.0   \n",
       "8759                       NaN            3.310950         0.0   \n",
       "\n",
       "      cooling_demand  heating_demand  solar_generation  \n",
       "0                0.0             0.0          0.000000  \n",
       "1                0.0             0.0          0.000000  \n",
       "2                0.0             0.0          0.000000  \n",
       "3                0.0             0.0          0.000000  \n",
       "4                0.0             0.0          0.000000  \n",
       "...              ...             ...               ...  \n",
       "8755             0.0             0.0         25.570833  \n",
       "8756             0.0             0.0          0.000000  \n",
       "8757             0.0             0.0          0.000000  \n",
       "8758             0.0             0.0          0.000000  \n",
       "8759             0.0             0.0          0.000000  \n",
       "\n",
       "[4597 rows x 12 columns]"
      ]
     },
     "execution_count": 37,
     "metadata": {},
     "output_type": "execute_result"
    }
   ],
   "source": [
    "df[(df.month >= 7)  | (df.hour == 3)]"
   ]
  },
  {
   "cell_type": "markdown",
   "id": "bb278950-4678-44cc-8d41-e41268d79219",
   "metadata": {
    "slideshow": {
     "slide_type": "slide"
    }
   },
   "source": [
    "<ol style=\"color: #2c3e50; font-family: 'Arial', sans-serif; line-height: 1.8; padding: 10px;\">\n",
    "    <strong style=\"color: #8e44ad; background-color: #f4e7fa; padding: 12px; border-radius: 8px; display: block; margin-bottom: 10px;\"> Use string(str) methods in pandas</strong>\n",
    "    </li>\n",
    "</ol>"
   ]
  },
  {
   "cell_type": "code",
   "execution_count": 154,
   "id": "8e231744-aa9b-4171-9d20-15f27c345153",
   "metadata": {
    "slideshow": {
     "slide_type": "fragment"
    }
   },
   "outputs": [
    {
     "data": {
      "text/plain": [
       "'HELLO'"
      ]
     },
     "execution_count": 154,
     "metadata": {},
     "output_type": "execute_result"
    }
   ],
   "source": [
    "'hello'.upper()"
   ]
  },
  {
   "cell_type": "code",
   "execution_count": 12,
   "id": "4195a7e9-38a8-4570-98d0-29af1e77965c",
   "metadata": {
    "slideshow": {
     "slide_type": "fragment"
    }
   },
   "outputs": [],
   "source": [
    "df = pd.read_csv(r'C:\\Users\\HP\\Downloads\\Compressed\\imdb_1000.csv')"
   ]
  },
  {
   "cell_type": "code",
   "execution_count": 13,
   "id": "e73e95db-6997-44de-a90d-b91c8fa45544",
   "metadata": {
    "slideshow": {
     "slide_type": "slide"
    }
   },
   "outputs": [
    {
     "data": {
      "text/html": [
       "<div>\n",
       "<style scoped>\n",
       "    .dataframe tbody tr th:only-of-type {\n",
       "        vertical-align: middle;\n",
       "    }\n",
       "\n",
       "    .dataframe tbody tr th {\n",
       "        vertical-align: top;\n",
       "    }\n",
       "\n",
       "    .dataframe thead th {\n",
       "        text-align: right;\n",
       "    }\n",
       "</style>\n",
       "<table border=\"1\" class=\"dataframe\">\n",
       "  <thead>\n",
       "    <tr style=\"text-align: right;\">\n",
       "      <th></th>\n",
       "      <th>star_rating</th>\n",
       "      <th>title</th>\n",
       "      <th>content_rating</th>\n",
       "      <th>genre</th>\n",
       "      <th>duration</th>\n",
       "      <th>actors_list</th>\n",
       "    </tr>\n",
       "  </thead>\n",
       "  <tbody>\n",
       "    <tr>\n",
       "      <th>0</th>\n",
       "      <td>9.3</td>\n",
       "      <td>The Shawshank Redemption</td>\n",
       "      <td>R</td>\n",
       "      <td>Crime</td>\n",
       "      <td>142</td>\n",
       "      <td>[u'Tim Robbins', u'Morgan Freeman', u'Bob Gunt...</td>\n",
       "    </tr>\n",
       "    <tr>\n",
       "      <th>1</th>\n",
       "      <td>9.2</td>\n",
       "      <td>The Godfather</td>\n",
       "      <td>R</td>\n",
       "      <td>Crime</td>\n",
       "      <td>175</td>\n",
       "      <td>[u'Marlon Brando', u'Al Pacino', u'James Caan']</td>\n",
       "    </tr>\n",
       "    <tr>\n",
       "      <th>2</th>\n",
       "      <td>9.1</td>\n",
       "      <td>The Godfather: Part II</td>\n",
       "      <td>R</td>\n",
       "      <td>Crime</td>\n",
       "      <td>200</td>\n",
       "      <td>[u'Al Pacino', u'Robert De Niro', u'Robert Duv...</td>\n",
       "    </tr>\n",
       "    <tr>\n",
       "      <th>3</th>\n",
       "      <td>9.0</td>\n",
       "      <td>The Dark Knight</td>\n",
       "      <td>PG-13</td>\n",
       "      <td>Action</td>\n",
       "      <td>152</td>\n",
       "      <td>[u'Christian Bale', u'Heath Ledger', u'Aaron E...</td>\n",
       "    </tr>\n",
       "    <tr>\n",
       "      <th>4</th>\n",
       "      <td>8.9</td>\n",
       "      <td>Pulp Fiction</td>\n",
       "      <td>R</td>\n",
       "      <td>Crime</td>\n",
       "      <td>154</td>\n",
       "      <td>[u'John Travolta', u'Uma Thurman', u'Samuel L....</td>\n",
       "    </tr>\n",
       "  </tbody>\n",
       "</table>\n",
       "</div>"
      ],
      "text/plain": [
       "   star_rating                     title content_rating   genre  duration  \\\n",
       "0          9.3  The Shawshank Redemption              R   Crime       142   \n",
       "1          9.2             The Godfather              R   Crime       175   \n",
       "2          9.1    The Godfather: Part II              R   Crime       200   \n",
       "3          9.0           The Dark Knight          PG-13  Action       152   \n",
       "4          8.9              Pulp Fiction              R   Crime       154   \n",
       "\n",
       "                                         actors_list  \n",
       "0  [u'Tim Robbins', u'Morgan Freeman', u'Bob Gunt...  \n",
       "1    [u'Marlon Brando', u'Al Pacino', u'James Caan']  \n",
       "2  [u'Al Pacino', u'Robert De Niro', u'Robert Duv...  \n",
       "3  [u'Christian Bale', u'Heath Ledger', u'Aaron E...  \n",
       "4  [u'John Travolta', u'Uma Thurman', u'Samuel L....  "
      ]
     },
     "execution_count": 13,
     "metadata": {},
     "output_type": "execute_result"
    }
   ],
   "source": [
    "df.head()"
   ]
  },
  {
   "cell_type": "code",
   "execution_count": 14,
   "id": "fa4fcf91-c7bd-4f81-a0f9-fe3092eec016",
   "metadata": {
    "slideshow": {
     "slide_type": "slide"
    }
   },
   "outputs": [
    {
     "data": {
      "text/plain": [
       "0          CRIME\n",
       "1          CRIME\n",
       "2          CRIME\n",
       "3         ACTION\n",
       "4          CRIME\n",
       "         ...    \n",
       "974       COMEDY\n",
       "975    ADVENTURE\n",
       "976       ACTION\n",
       "977       HORROR\n",
       "978        CRIME\n",
       "Name: genre, Length: 979, dtype: object"
      ]
     },
     "execution_count": 14,
     "metadata": {},
     "output_type": "execute_result"
    }
   ],
   "source": [
    "df.genre.str.upper()"
   ]
  },
  {
   "cell_type": "code",
   "execution_count": 15,
   "id": "9649a48e-d4ab-47f4-8b79-6f7f24ce8c38",
   "metadata": {},
   "outputs": [
    {
     "data": {
      "text/plain": [
       "0       True\n",
       "1       True\n",
       "2       True\n",
       "3      False\n",
       "4       True\n",
       "       ...  \n",
       "974     True\n",
       "975    False\n",
       "976    False\n",
       "977    False\n",
       "978     True\n",
       "Name: genre, Length: 979, dtype: bool"
      ]
     },
     "execution_count": 15,
     "metadata": {},
     "output_type": "execute_result"
    }
   ],
   "source": [
    "df.genre.str.contains('C')"
   ]
  },
  {
   "cell_type": "code",
   "execution_count": 16,
   "id": "afcfd879-e72f-4c4b-b718-bbde8ac2ccc8",
   "metadata": {
    "slideshow": {
     "slide_type": "slide"
    }
   },
   "outputs": [
    {
     "data": {
      "text/html": [
       "<div>\n",
       "<style scoped>\n",
       "    .dataframe tbody tr th:only-of-type {\n",
       "        vertical-align: middle;\n",
       "    }\n",
       "\n",
       "    .dataframe tbody tr th {\n",
       "        vertical-align: top;\n",
       "    }\n",
       "\n",
       "    .dataframe thead th {\n",
       "        text-align: right;\n",
       "    }\n",
       "</style>\n",
       "<table border=\"1\" class=\"dataframe\">\n",
       "  <thead>\n",
       "    <tr style=\"text-align: right;\">\n",
       "      <th></th>\n",
       "      <th>star_rating</th>\n",
       "      <th>title</th>\n",
       "      <th>content_rating</th>\n",
       "      <th>genre</th>\n",
       "      <th>duration</th>\n",
       "      <th>actors_list</th>\n",
       "    </tr>\n",
       "  </thead>\n",
       "  <tbody>\n",
       "    <tr>\n",
       "      <th>0</th>\n",
       "      <td>9.3</td>\n",
       "      <td>The Shawshank Redemption</td>\n",
       "      <td>R</td>\n",
       "      <td>Crime</td>\n",
       "      <td>142</td>\n",
       "      <td>[u'Tim Robbins', u'Morgan Freeman', u'Bob Gunt...</td>\n",
       "    </tr>\n",
       "    <tr>\n",
       "      <th>1</th>\n",
       "      <td>9.2</td>\n",
       "      <td>The Godfather</td>\n",
       "      <td>R</td>\n",
       "      <td>Crime</td>\n",
       "      <td>175</td>\n",
       "      <td>[u'Marlon Brando', u'Al Pacino', u'James Caan']</td>\n",
       "    </tr>\n",
       "    <tr>\n",
       "      <th>2</th>\n",
       "      <td>9.1</td>\n",
       "      <td>The Godfather: Part II</td>\n",
       "      <td>R</td>\n",
       "      <td>Crime</td>\n",
       "      <td>200</td>\n",
       "      <td>[u'Al Pacino', u'Robert De Niro', u'Robert Duv...</td>\n",
       "    </tr>\n",
       "    <tr>\n",
       "      <th>4</th>\n",
       "      <td>8.9</td>\n",
       "      <td>Pulp Fiction</td>\n",
       "      <td>R</td>\n",
       "      <td>Crime</td>\n",
       "      <td>154</td>\n",
       "      <td>[u'John Travolta', u'Uma Thurman', u'Samuel L....</td>\n",
       "    </tr>\n",
       "    <tr>\n",
       "      <th>21</th>\n",
       "      <td>8.7</td>\n",
       "      <td>City of God</td>\n",
       "      <td>R</td>\n",
       "      <td>Crime</td>\n",
       "      <td>130</td>\n",
       "      <td>[u'Alexandre Rodrigues', u'Matheus Nachtergael...</td>\n",
       "    </tr>\n",
       "    <tr>\n",
       "      <th>...</th>\n",
       "      <td>...</td>\n",
       "      <td>...</td>\n",
       "      <td>...</td>\n",
       "      <td>...</td>\n",
       "      <td>...</td>\n",
       "      <td>...</td>\n",
       "    </tr>\n",
       "    <tr>\n",
       "      <th>962</th>\n",
       "      <td>7.4</td>\n",
       "      <td>Driving Miss Daisy</td>\n",
       "      <td>PG</td>\n",
       "      <td>Comedy</td>\n",
       "      <td>99</td>\n",
       "      <td>[u'Morgan Freeman', u'Jessica Tandy', u'Dan Ay...</td>\n",
       "    </tr>\n",
       "    <tr>\n",
       "      <th>969</th>\n",
       "      <td>7.4</td>\n",
       "      <td>Law Abiding Citizen</td>\n",
       "      <td>R</td>\n",
       "      <td>Crime</td>\n",
       "      <td>109</td>\n",
       "      <td>[u'Gerard Butler', u'Jamie Foxx', u'Leslie Bibb']</td>\n",
       "    </tr>\n",
       "    <tr>\n",
       "      <th>971</th>\n",
       "      <td>7.4</td>\n",
       "      <td>Death at a Funeral</td>\n",
       "      <td>R</td>\n",
       "      <td>Comedy</td>\n",
       "      <td>90</td>\n",
       "      <td>[u'Matthew Macfadyen', u'Peter Dinklage', u'Ew...</td>\n",
       "    </tr>\n",
       "    <tr>\n",
       "      <th>974</th>\n",
       "      <td>7.4</td>\n",
       "      <td>Tootsie</td>\n",
       "      <td>PG</td>\n",
       "      <td>Comedy</td>\n",
       "      <td>116</td>\n",
       "      <td>[u'Dustin Hoffman', u'Jessica Lange', u'Teri G...</td>\n",
       "    </tr>\n",
       "    <tr>\n",
       "      <th>978</th>\n",
       "      <td>7.4</td>\n",
       "      <td>Wall Street</td>\n",
       "      <td>R</td>\n",
       "      <td>Crime</td>\n",
       "      <td>126</td>\n",
       "      <td>[u'Charlie Sheen', u'Michael Douglas', u'Tamar...</td>\n",
       "    </tr>\n",
       "  </tbody>\n",
       "</table>\n",
       "<p>280 rows × 6 columns</p>\n",
       "</div>"
      ],
      "text/plain": [
       "     star_rating                     title content_rating   genre  duration  \\\n",
       "0            9.3  The Shawshank Redemption              R   Crime       142   \n",
       "1            9.2             The Godfather              R   Crime       175   \n",
       "2            9.1    The Godfather: Part II              R   Crime       200   \n",
       "4            8.9              Pulp Fiction              R   Crime       154   \n",
       "21           8.7               City of God              R   Crime       130   \n",
       "..           ...                       ...            ...     ...       ...   \n",
       "962          7.4        Driving Miss Daisy             PG  Comedy        99   \n",
       "969          7.4       Law Abiding Citizen              R   Crime       109   \n",
       "971          7.4        Death at a Funeral              R  Comedy        90   \n",
       "974          7.4                   Tootsie             PG  Comedy       116   \n",
       "978          7.4               Wall Street              R   Crime       126   \n",
       "\n",
       "                                           actors_list  \n",
       "0    [u'Tim Robbins', u'Morgan Freeman', u'Bob Gunt...  \n",
       "1      [u'Marlon Brando', u'Al Pacino', u'James Caan']  \n",
       "2    [u'Al Pacino', u'Robert De Niro', u'Robert Duv...  \n",
       "4    [u'John Travolta', u'Uma Thurman', u'Samuel L....  \n",
       "21   [u'Alexandre Rodrigues', u'Matheus Nachtergael...  \n",
       "..                                                 ...  \n",
       "962  [u'Morgan Freeman', u'Jessica Tandy', u'Dan Ay...  \n",
       "969  [u'Gerard Butler', u'Jamie Foxx', u'Leslie Bibb']  \n",
       "971  [u'Matthew Macfadyen', u'Peter Dinklage', u'Ew...  \n",
       "974  [u'Dustin Hoffman', u'Jessica Lange', u'Teri G...  \n",
       "978  [u'Charlie Sheen', u'Michael Douglas', u'Tamar...  \n",
       "\n",
       "[280 rows x 6 columns]"
      ]
     },
     "execution_count": 16,
     "metadata": {},
     "output_type": "execute_result"
    }
   ],
   "source": [
    "df[df.genre.str.contains('C')]"
   ]
  },
  {
   "cell_type": "markdown",
   "id": "b7a1061d-48e3-40ef-a16e-e56a7b5b70d0",
   "metadata": {
    "slideshow": {
     "slide_type": "slide"
    }
   },
   "source": [
    "<ol style=\"color: #2c3e50; font-family: 'Arial', sans-serif; line-height: 1.8; padding: 10px;\">\n",
    "    <strong style=\"color: #8e44ad; background-color: #f4e7fa; padding: 12px; border-radius: 8px; display: block; margin-bottom: 10px;\"> Change the data type of pandas series</strong>\n",
    "    </li>\n",
    "</ol>"
   ]
  },
  {
   "cell_type": "code",
   "execution_count": null,
   "id": "3329ec87",
   "metadata": {
    "slideshow": {
     "slide_type": "fragment"
    }
   },
   "outputs": [],
   "source": [
    "df  = pd.read_csv(r'C:\\Users\\HP\\OneDrive\\Seminar\\Building_2.csv')"
   ]
  },
  {
   "cell_type": "code",
   "execution_count": 117,
   "id": "b37cb425",
   "metadata": {
    "slideshow": {
     "slide_type": "fragment"
    }
   },
   "outputs": [
    {
     "data": {
      "text/html": [
       "<div>\n",
       "<style scoped>\n",
       "    .dataframe tbody tr th:only-of-type {\n",
       "        vertical-align: middle;\n",
       "    }\n",
       "\n",
       "    .dataframe tbody tr th {\n",
       "        vertical-align: top;\n",
       "    }\n",
       "\n",
       "    .dataframe thead th {\n",
       "        text-align: right;\n",
       "    }\n",
       "</style>\n",
       "<table border=\"1\" class=\"dataframe\">\n",
       "  <thead>\n",
       "    <tr style=\"text-align: right;\">\n",
       "      <th></th>\n",
       "      <th>month</th>\n",
       "      <th>hour</th>\n",
       "      <th>day_type</th>\n",
       "      <th>daylight_savings_status</th>\n",
       "      <th>indoor_dry_bulb_temperature</th>\n",
       "      <th>average_unmet_cooling_setpoint_difference</th>\n",
       "      <th>indoor_relative_humidity</th>\n",
       "      <th>non_shiftable_load</th>\n",
       "      <th>dhw_demand</th>\n",
       "      <th>cooling_demand</th>\n",
       "      <th>heating_demand</th>\n",
       "      <th>solar_generation</th>\n",
       "    </tr>\n",
       "  </thead>\n",
       "  <tbody>\n",
       "    <tr>\n",
       "      <th>0</th>\n",
       "      <td>7</td>\n",
       "      <td>24</td>\n",
       "      <td>7</td>\n",
       "      <td>0</td>\n",
       "      <td>NaN</td>\n",
       "      <td>NaN</td>\n",
       "      <td>NaN</td>\n",
       "      <td>2.188750</td>\n",
       "      <td>0.0</td>\n",
       "      <td>0.0</td>\n",
       "      <td>0.0</td>\n",
       "      <td>0.0</td>\n",
       "    </tr>\n",
       "    <tr>\n",
       "      <th>1</th>\n",
       "      <td>8</td>\n",
       "      <td>1</td>\n",
       "      <td>1</td>\n",
       "      <td>0</td>\n",
       "      <td>NaN</td>\n",
       "      <td>NaN</td>\n",
       "      <td>NaN</td>\n",
       "      <td>1.370667</td>\n",
       "      <td>0.0</td>\n",
       "      <td>0.0</td>\n",
       "      <td>0.0</td>\n",
       "      <td>0.0</td>\n",
       "    </tr>\n",
       "    <tr>\n",
       "      <th>2</th>\n",
       "      <td>8</td>\n",
       "      <td>2</td>\n",
       "      <td>1</td>\n",
       "      <td>0</td>\n",
       "      <td>NaN</td>\n",
       "      <td>NaN</td>\n",
       "      <td>NaN</td>\n",
       "      <td>1.101250</td>\n",
       "      <td>0.0</td>\n",
       "      <td>0.0</td>\n",
       "      <td>0.0</td>\n",
       "      <td>0.0</td>\n",
       "    </tr>\n",
       "    <tr>\n",
       "      <th>3</th>\n",
       "      <td>8</td>\n",
       "      <td>3</td>\n",
       "      <td>1</td>\n",
       "      <td>0</td>\n",
       "      <td>NaN</td>\n",
       "      <td>NaN</td>\n",
       "      <td>NaN</td>\n",
       "      <td>0.543217</td>\n",
       "      <td>0.0</td>\n",
       "      <td>0.0</td>\n",
       "      <td>0.0</td>\n",
       "      <td>0.0</td>\n",
       "    </tr>\n",
       "    <tr>\n",
       "      <th>4</th>\n",
       "      <td>8</td>\n",
       "      <td>4</td>\n",
       "      <td>1</td>\n",
       "      <td>0</td>\n",
       "      <td>NaN</td>\n",
       "      <td>NaN</td>\n",
       "      <td>NaN</td>\n",
       "      <td>0.542833</td>\n",
       "      <td>0.0</td>\n",
       "      <td>0.0</td>\n",
       "      <td>0.0</td>\n",
       "      <td>0.0</td>\n",
       "    </tr>\n",
       "  </tbody>\n",
       "</table>\n",
       "</div>"
      ],
      "text/plain": [
       "   month  hour  day_type  daylight_savings_status  \\\n",
       "0      7    24         7                        0   \n",
       "1      8     1         1                        0   \n",
       "2      8     2         1                        0   \n",
       "3      8     3         1                        0   \n",
       "4      8     4         1                        0   \n",
       "\n",
       "   indoor_dry_bulb_temperature  average_unmet_cooling_setpoint_difference  \\\n",
       "0                          NaN                                        NaN   \n",
       "1                          NaN                                        NaN   \n",
       "2                          NaN                                        NaN   \n",
       "3                          NaN                                        NaN   \n",
       "4                          NaN                                        NaN   \n",
       "\n",
       "   indoor_relative_humidity  non_shiftable_load  dhw_demand  cooling_demand  \\\n",
       "0                       NaN            2.188750         0.0             0.0   \n",
       "1                       NaN            1.370667         0.0             0.0   \n",
       "2                       NaN            1.101250         0.0             0.0   \n",
       "3                       NaN            0.543217         0.0             0.0   \n",
       "4                       NaN            0.542833         0.0             0.0   \n",
       "\n",
       "   heating_demand  solar_generation  \n",
       "0             0.0               0.0  \n",
       "1             0.0               0.0  \n",
       "2             0.0               0.0  \n",
       "3             0.0               0.0  \n",
       "4             0.0               0.0  "
      ]
     },
     "execution_count": 117,
     "metadata": {},
     "output_type": "execute_result"
    }
   ],
   "source": [
    "df.head()"
   ]
  },
  {
   "cell_type": "code",
   "execution_count": 118,
   "id": "bb9fec61",
   "metadata": {
    "slideshow": {
     "slide_type": "slide"
    }
   },
   "outputs": [
    {
     "data": {
      "text/plain": [
       "month                                          int64\n",
       "hour                                           int64\n",
       "day_type                                       int64\n",
       "daylight_savings_status                        int64\n",
       "indoor_dry_bulb_temperature                  float64\n",
       "average_unmet_cooling_setpoint_difference    float64\n",
       "indoor_relative_humidity                     float64\n",
       "non_shiftable_load                           float64\n",
       "dhw_demand                                   float64\n",
       "cooling_demand                               float64\n",
       "heating_demand                               float64\n",
       "solar_generation                             float64\n",
       "dtype: object"
      ]
     },
     "execution_count": 118,
     "metadata": {},
     "output_type": "execute_result"
    }
   ],
   "source": [
    "df.dtypes"
   ]
  },
  {
   "cell_type": "code",
   "execution_count": 121,
   "id": "6d1c28f8",
   "metadata": {
    "slideshow": {
     "slide_type": "fragment"
    }
   },
   "outputs": [],
   "source": [
    "df['day_type'] = df.day_type.astype(float)"
   ]
  },
  {
   "cell_type": "code",
   "execution_count": 122,
   "id": "cad0c792",
   "metadata": {
    "slideshow": {
     "slide_type": "fragment"
    }
   },
   "outputs": [],
   "source": [
    "df['month'] = df.month.astype(float)"
   ]
  },
  {
   "cell_type": "code",
   "execution_count": 123,
   "id": "74ec3d66-bdcb-408f-97be-e3585f1873c0",
   "metadata": {
    "slideshow": {
     "slide_type": "slide"
    }
   },
   "outputs": [
    {
     "data": {
      "text/plain": [
       "month                                        float64\n",
       "hour                                           int64\n",
       "day_type                                     float64\n",
       "daylight_savings_status                        int64\n",
       "indoor_dry_bulb_temperature                  float64\n",
       "average_unmet_cooling_setpoint_difference    float64\n",
       "indoor_relative_humidity                     float64\n",
       "non_shiftable_load                           float64\n",
       "dhw_demand                                   float64\n",
       "cooling_demand                               float64\n",
       "heating_demand                               float64\n",
       "solar_generation                             float64\n",
       "dtype: object"
      ]
     },
     "execution_count": 123,
     "metadata": {},
     "output_type": "execute_result"
    }
   ],
   "source": [
    "df.dtypes"
   ]
  },
  {
   "cell_type": "code",
   "execution_count": 124,
   "id": "3954d48f-a440-47e4-b328-98aecce49651",
   "metadata": {
    "slideshow": {
     "slide_type": "slide"
    }
   },
   "outputs": [],
   "source": [
    "df['solar_generation'] = df.solar_generation.astype(str)"
   ]
  },
  {
   "cell_type": "code",
   "execution_count": 125,
   "id": "5a1b79ed-71dd-4e75-937f-8c07ee2cee78",
   "metadata": {
    "slideshow": {
     "slide_type": "fragment"
    }
   },
   "outputs": [
    {
     "data": {
      "text/plain": [
       "month                                        float64\n",
       "hour                                           int64\n",
       "day_type                                     float64\n",
       "daylight_savings_status                        int64\n",
       "indoor_dry_bulb_temperature                  float64\n",
       "average_unmet_cooling_setpoint_difference    float64\n",
       "indoor_relative_humidity                     float64\n",
       "non_shiftable_load                           float64\n",
       "dhw_demand                                   float64\n",
       "cooling_demand                               float64\n",
       "heating_demand                               float64\n",
       "solar_generation                              object\n",
       "dtype: object"
      ]
     },
     "execution_count": 125,
     "metadata": {},
     "output_type": "execute_result"
    }
   ],
   "source": [
    "df.dtypes"
   ]
  },
  {
   "cell_type": "markdown",
   "id": "17e36e94-e89a-4e2d-95c1-8350badfa7bd",
   "metadata": {
    "slideshow": {
     "slide_type": "slide"
    }
   },
   "source": [
    "<ol style=\"color: #2c3e50; font-family: 'Arial', sans-serif; line-height: 1.8; padding: 10px;\">\n",
    "    <strong style=\"color: #8e44ad; background-color: #f4e7fa; padding: 12px; border-radius: 8px; display: block; margin-bottom: 10px;\">Use groupby in pandas</strong>\n",
    "    </li>\n",
    "</ol>"
   ]
  },
  {
   "cell_type": "code",
   "execution_count": 92,
   "id": "05bd705d",
   "metadata": {
    "slideshow": {
     "slide_type": "fragment"
    }
   },
   "outputs": [
    {
     "data": {
      "text/html": [
       "<div>\n",
       "<style scoped>\n",
       "    .dataframe tbody tr th:only-of-type {\n",
       "        vertical-align: middle;\n",
       "    }\n",
       "\n",
       "    .dataframe tbody tr th {\n",
       "        vertical-align: top;\n",
       "    }\n",
       "\n",
       "    .dataframe thead th {\n",
       "        text-align: right;\n",
       "    }\n",
       "</style>\n",
       "<table border=\"1\" class=\"dataframe\">\n",
       "  <thead>\n",
       "    <tr style=\"text-align: right;\">\n",
       "      <th></th>\n",
       "      <th>month</th>\n",
       "      <th>hour</th>\n",
       "      <th>day type</th>\n",
       "      <th>daylight savings status</th>\n",
       "      <th>indoor temperature</th>\n",
       "      <th>average unmet cooling setpoint difference</th>\n",
       "      <th>indoor relative humidity</th>\n",
       "      <th>non shiftable load</th>\n",
       "      <th>dhw demand</th>\n",
       "      <th>cooling demand</th>\n",
       "      <th>heating demand</th>\n",
       "      <th>solar</th>\n",
       "      <th>month\\hour</th>\n",
       "    </tr>\n",
       "  </thead>\n",
       "  <tbody>\n",
       "    <tr>\n",
       "      <th>0</th>\n",
       "      <td>7</td>\n",
       "      <td>24</td>\n",
       "      <td>7</td>\n",
       "      <td>0</td>\n",
       "      <td>NaN</td>\n",
       "      <td>NaN</td>\n",
       "      <td>NaN</td>\n",
       "      <td>2.188750</td>\n",
       "      <td>0.0</td>\n",
       "      <td>0.0</td>\n",
       "      <td>0.0</td>\n",
       "      <td>0.0</td>\n",
       "      <td>31</td>\n",
       "    </tr>\n",
       "    <tr>\n",
       "      <th>1</th>\n",
       "      <td>8</td>\n",
       "      <td>1</td>\n",
       "      <td>1</td>\n",
       "      <td>0</td>\n",
       "      <td>NaN</td>\n",
       "      <td>NaN</td>\n",
       "      <td>NaN</td>\n",
       "      <td>1.370667</td>\n",
       "      <td>0.0</td>\n",
       "      <td>0.0</td>\n",
       "      <td>0.0</td>\n",
       "      <td>0.0</td>\n",
       "      <td>9</td>\n",
       "    </tr>\n",
       "    <tr>\n",
       "      <th>2</th>\n",
       "      <td>8</td>\n",
       "      <td>2</td>\n",
       "      <td>1</td>\n",
       "      <td>0</td>\n",
       "      <td>NaN</td>\n",
       "      <td>NaN</td>\n",
       "      <td>NaN</td>\n",
       "      <td>1.101250</td>\n",
       "      <td>0.0</td>\n",
       "      <td>0.0</td>\n",
       "      <td>0.0</td>\n",
       "      <td>0.0</td>\n",
       "      <td>10</td>\n",
       "    </tr>\n",
       "    <tr>\n",
       "      <th>3</th>\n",
       "      <td>8</td>\n",
       "      <td>3</td>\n",
       "      <td>1</td>\n",
       "      <td>0</td>\n",
       "      <td>NaN</td>\n",
       "      <td>NaN</td>\n",
       "      <td>NaN</td>\n",
       "      <td>0.543217</td>\n",
       "      <td>0.0</td>\n",
       "      <td>0.0</td>\n",
       "      <td>0.0</td>\n",
       "      <td>0.0</td>\n",
       "      <td>11</td>\n",
       "    </tr>\n",
       "    <tr>\n",
       "      <th>4</th>\n",
       "      <td>8</td>\n",
       "      <td>4</td>\n",
       "      <td>1</td>\n",
       "      <td>0</td>\n",
       "      <td>NaN</td>\n",
       "      <td>NaN</td>\n",
       "      <td>NaN</td>\n",
       "      <td>0.542833</td>\n",
       "      <td>0.0</td>\n",
       "      <td>0.0</td>\n",
       "      <td>0.0</td>\n",
       "      <td>0.0</td>\n",
       "      <td>12</td>\n",
       "    </tr>\n",
       "  </tbody>\n",
       "</table>\n",
       "</div>"
      ],
      "text/plain": [
       "   month  hour  day type  daylight savings status  indoor temperature  \\\n",
       "0      7    24         7                        0                 NaN   \n",
       "1      8     1         1                        0                 NaN   \n",
       "2      8     2         1                        0                 NaN   \n",
       "3      8     3         1                        0                 NaN   \n",
       "4      8     4         1                        0                 NaN   \n",
       "\n",
       "   average unmet cooling setpoint difference  indoor relative humidity  \\\n",
       "0                                        NaN                       NaN   \n",
       "1                                        NaN                       NaN   \n",
       "2                                        NaN                       NaN   \n",
       "3                                        NaN                       NaN   \n",
       "4                                        NaN                       NaN   \n",
       "\n",
       "   non shiftable load  dhw demand  cooling demand  heating demand  solar  \\\n",
       "0            2.188750         0.0             0.0             0.0    0.0   \n",
       "1            1.370667         0.0             0.0             0.0    0.0   \n",
       "2            1.101250         0.0             0.0             0.0    0.0   \n",
       "3            0.543217         0.0             0.0             0.0    0.0   \n",
       "4            0.542833         0.0             0.0             0.0    0.0   \n",
       "\n",
       "   month\\hour  \n",
       "0          31  \n",
       "1           9  \n",
       "2          10  \n",
       "3          11  \n",
       "4          12  "
      ]
     },
     "execution_count": 92,
     "metadata": {},
     "output_type": "execute_result"
    }
   ],
   "source": [
    "df.head()"
   ]
  },
  {
   "cell_type": "code",
   "execution_count": 93,
   "id": "f8b7ca10",
   "metadata": {
    "slideshow": {
     "slide_type": "slide"
    }
   },
   "outputs": [
    {
     "data": {
      "text/plain": [
       "6.526027397260274"
      ]
     },
     "execution_count": 93,
     "metadata": {},
     "output_type": "execute_result"
    }
   ],
   "source": [
    "df.month.mean()"
   ]
  },
  {
   "cell_type": "code",
   "execution_count": 94,
   "id": "43a3c0aa",
   "metadata": {
    "slideshow": {
     "slide_type": "fragment"
    }
   },
   "outputs": [
    {
     "data": {
      "text/html": [
       "<div>\n",
       "<style scoped>\n",
       "    .dataframe tbody tr th:only-of-type {\n",
       "        vertical-align: middle;\n",
       "    }\n",
       "\n",
       "    .dataframe tbody tr th {\n",
       "        vertical-align: top;\n",
       "    }\n",
       "\n",
       "    .dataframe thead th {\n",
       "        text-align: right;\n",
       "    }\n",
       "</style>\n",
       "<table border=\"1\" class=\"dataframe\">\n",
       "  <thead>\n",
       "    <tr style=\"text-align: right;\">\n",
       "      <th></th>\n",
       "      <th>hour</th>\n",
       "      <th>day type</th>\n",
       "      <th>daylight savings status</th>\n",
       "      <th>indoor temperature</th>\n",
       "      <th>average unmet cooling setpoint difference</th>\n",
       "      <th>indoor relative humidity</th>\n",
       "      <th>non shiftable load</th>\n",
       "      <th>dhw demand</th>\n",
       "      <th>cooling demand</th>\n",
       "      <th>heating demand</th>\n",
       "      <th>solar</th>\n",
       "      <th>month\\hour</th>\n",
       "    </tr>\n",
       "    <tr>\n",
       "      <th>month</th>\n",
       "      <th></th>\n",
       "      <th></th>\n",
       "      <th></th>\n",
       "      <th></th>\n",
       "      <th></th>\n",
       "      <th></th>\n",
       "      <th></th>\n",
       "      <th></th>\n",
       "      <th></th>\n",
       "      <th></th>\n",
       "      <th></th>\n",
       "      <th></th>\n",
       "    </tr>\n",
       "  </thead>\n",
       "  <tbody>\n",
       "    <tr>\n",
       "      <th>1</th>\n",
       "      <td>12.5</td>\n",
       "      <td>3.935484</td>\n",
       "      <td>0.0</td>\n",
       "      <td>NaN</td>\n",
       "      <td>NaN</td>\n",
       "      <td>NaN</td>\n",
       "      <td>1.171734</td>\n",
       "      <td>0.0</td>\n",
       "      <td>0.0</td>\n",
       "      <td>0.0</td>\n",
       "      <td>78.072027</td>\n",
       "      <td>13.5</td>\n",
       "    </tr>\n",
       "    <tr>\n",
       "      <th>2</th>\n",
       "      <td>12.5</td>\n",
       "      <td>4.000000</td>\n",
       "      <td>0.0</td>\n",
       "      <td>NaN</td>\n",
       "      <td>NaN</td>\n",
       "      <td>NaN</td>\n",
       "      <td>0.967457</td>\n",
       "      <td>0.0</td>\n",
       "      <td>0.0</td>\n",
       "      <td>0.0</td>\n",
       "      <td>95.804951</td>\n",
       "      <td>14.5</td>\n",
       "    </tr>\n",
       "    <tr>\n",
       "      <th>3</th>\n",
       "      <td>12.5</td>\n",
       "      <td>4.000000</td>\n",
       "      <td>0.0</td>\n",
       "      <td>NaN</td>\n",
       "      <td>NaN</td>\n",
       "      <td>NaN</td>\n",
       "      <td>0.837050</td>\n",
       "      <td>0.0</td>\n",
       "      <td>0.0</td>\n",
       "      <td>0.0</td>\n",
       "      <td>170.205933</td>\n",
       "      <td>15.5</td>\n",
       "    </tr>\n",
       "    <tr>\n",
       "      <th>4</th>\n",
       "      <td>12.5</td>\n",
       "      <td>4.166667</td>\n",
       "      <td>0.0</td>\n",
       "      <td>NaN</td>\n",
       "      <td>NaN</td>\n",
       "      <td>NaN</td>\n",
       "      <td>0.705432</td>\n",
       "      <td>0.0</td>\n",
       "      <td>0.0</td>\n",
       "      <td>0.0</td>\n",
       "      <td>201.905989</td>\n",
       "      <td>16.5</td>\n",
       "    </tr>\n",
       "    <tr>\n",
       "      <th>5</th>\n",
       "      <td>12.5</td>\n",
       "      <td>3.806452</td>\n",
       "      <td>0.0</td>\n",
       "      <td>NaN</td>\n",
       "      <td>NaN</td>\n",
       "      <td>NaN</td>\n",
       "      <td>0.810464</td>\n",
       "      <td>0.0</td>\n",
       "      <td>0.0</td>\n",
       "      <td>0.0</td>\n",
       "      <td>209.630065</td>\n",
       "      <td>17.5</td>\n",
       "    </tr>\n",
       "    <tr>\n",
       "      <th>6</th>\n",
       "      <td>12.5</td>\n",
       "      <td>4.033333</td>\n",
       "      <td>0.0</td>\n",
       "      <td>NaN</td>\n",
       "      <td>NaN</td>\n",
       "      <td>NaN</td>\n",
       "      <td>1.364259</td>\n",
       "      <td>0.0</td>\n",
       "      <td>0.0</td>\n",
       "      <td>0.0</td>\n",
       "      <td>240.640519</td>\n",
       "      <td>18.5</td>\n",
       "    </tr>\n",
       "    <tr>\n",
       "      <th>7</th>\n",
       "      <td>12.5</td>\n",
       "      <td>4.072581</td>\n",
       "      <td>0.0</td>\n",
       "      <td>NaN</td>\n",
       "      <td>NaN</td>\n",
       "      <td>NaN</td>\n",
       "      <td>1.462699</td>\n",
       "      <td>0.0</td>\n",
       "      <td>0.0</td>\n",
       "      <td>0.0</td>\n",
       "      <td>212.333529</td>\n",
       "      <td>19.5</td>\n",
       "    </tr>\n",
       "    <tr>\n",
       "      <th>8</th>\n",
       "      <td>12.5</td>\n",
       "      <td>3.806452</td>\n",
       "      <td>0.0</td>\n",
       "      <td>NaN</td>\n",
       "      <td>NaN</td>\n",
       "      <td>NaN</td>\n",
       "      <td>1.318138</td>\n",
       "      <td>0.0</td>\n",
       "      <td>0.0</td>\n",
       "      <td>0.0</td>\n",
       "      <td>185.894706</td>\n",
       "      <td>20.5</td>\n",
       "    </tr>\n",
       "    <tr>\n",
       "      <th>9</th>\n",
       "      <td>12.5</td>\n",
       "      <td>4.033333</td>\n",
       "      <td>0.0</td>\n",
       "      <td>NaN</td>\n",
       "      <td>NaN</td>\n",
       "      <td>NaN</td>\n",
       "      <td>1.011968</td>\n",
       "      <td>0.0</td>\n",
       "      <td>0.0</td>\n",
       "      <td>0.0</td>\n",
       "      <td>151.208337</td>\n",
       "      <td>21.5</td>\n",
       "    </tr>\n",
       "    <tr>\n",
       "      <th>10</th>\n",
       "      <td>12.5</td>\n",
       "      <td>4.064516</td>\n",
       "      <td>0.0</td>\n",
       "      <td>NaN</td>\n",
       "      <td>NaN</td>\n",
       "      <td>NaN</td>\n",
       "      <td>0.889798</td>\n",
       "      <td>0.0</td>\n",
       "      <td>0.0</td>\n",
       "      <td>0.0</td>\n",
       "      <td>123.501064</td>\n",
       "      <td>22.5</td>\n",
       "    </tr>\n",
       "    <tr>\n",
       "      <th>11</th>\n",
       "      <td>12.5</td>\n",
       "      <td>3.900000</td>\n",
       "      <td>0.0</td>\n",
       "      <td>NaN</td>\n",
       "      <td>NaN</td>\n",
       "      <td>NaN</td>\n",
       "      <td>0.790604</td>\n",
       "      <td>0.0</td>\n",
       "      <td>0.0</td>\n",
       "      <td>0.0</td>\n",
       "      <td>105.465663</td>\n",
       "      <td>23.5</td>\n",
       "    </tr>\n",
       "    <tr>\n",
       "      <th>12</th>\n",
       "      <td>12.5</td>\n",
       "      <td>4.096774</td>\n",
       "      <td>0.0</td>\n",
       "      <td>NaN</td>\n",
       "      <td>NaN</td>\n",
       "      <td>NaN</td>\n",
       "      <td>1.460977</td>\n",
       "      <td>0.0</td>\n",
       "      <td>0.0</td>\n",
       "      <td>0.0</td>\n",
       "      <td>79.506247</td>\n",
       "      <td>24.5</td>\n",
       "    </tr>\n",
       "  </tbody>\n",
       "</table>\n",
       "</div>"
      ],
      "text/plain": [
       "       hour  day type  daylight savings status  indoor temperature  \\\n",
       "month                                                                \n",
       "1      12.5  3.935484                      0.0                 NaN   \n",
       "2      12.5  4.000000                      0.0                 NaN   \n",
       "3      12.5  4.000000                      0.0                 NaN   \n",
       "4      12.5  4.166667                      0.0                 NaN   \n",
       "5      12.5  3.806452                      0.0                 NaN   \n",
       "6      12.5  4.033333                      0.0                 NaN   \n",
       "7      12.5  4.072581                      0.0                 NaN   \n",
       "8      12.5  3.806452                      0.0                 NaN   \n",
       "9      12.5  4.033333                      0.0                 NaN   \n",
       "10     12.5  4.064516                      0.0                 NaN   \n",
       "11     12.5  3.900000                      0.0                 NaN   \n",
       "12     12.5  4.096774                      0.0                 NaN   \n",
       "\n",
       "       average unmet cooling setpoint difference  indoor relative humidity  \\\n",
       "month                                                                        \n",
       "1                                            NaN                       NaN   \n",
       "2                                            NaN                       NaN   \n",
       "3                                            NaN                       NaN   \n",
       "4                                            NaN                       NaN   \n",
       "5                                            NaN                       NaN   \n",
       "6                                            NaN                       NaN   \n",
       "7                                            NaN                       NaN   \n",
       "8                                            NaN                       NaN   \n",
       "9                                            NaN                       NaN   \n",
       "10                                           NaN                       NaN   \n",
       "11                                           NaN                       NaN   \n",
       "12                                           NaN                       NaN   \n",
       "\n",
       "       non shiftable load  dhw demand  cooling demand  heating demand  \\\n",
       "month                                                                   \n",
       "1                1.171734         0.0             0.0             0.0   \n",
       "2                0.967457         0.0             0.0             0.0   \n",
       "3                0.837050         0.0             0.0             0.0   \n",
       "4                0.705432         0.0             0.0             0.0   \n",
       "5                0.810464         0.0             0.0             0.0   \n",
       "6                1.364259         0.0             0.0             0.0   \n",
       "7                1.462699         0.0             0.0             0.0   \n",
       "8                1.318138         0.0             0.0             0.0   \n",
       "9                1.011968         0.0             0.0             0.0   \n",
       "10               0.889798         0.0             0.0             0.0   \n",
       "11               0.790604         0.0             0.0             0.0   \n",
       "12               1.460977         0.0             0.0             0.0   \n",
       "\n",
       "            solar  month\\hour  \n",
       "month                          \n",
       "1       78.072027        13.5  \n",
       "2       95.804951        14.5  \n",
       "3      170.205933        15.5  \n",
       "4      201.905989        16.5  \n",
       "5      209.630065        17.5  \n",
       "6      240.640519        18.5  \n",
       "7      212.333529        19.5  \n",
       "8      185.894706        20.5  \n",
       "9      151.208337        21.5  \n",
       "10     123.501064        22.5  \n",
       "11     105.465663        23.5  \n",
       "12      79.506247        24.5  "
      ]
     },
     "execution_count": 94,
     "metadata": {},
     "output_type": "execute_result"
    }
   ],
   "source": [
    "df.groupby('month').mean()#use for grouping the some catagory"
   ]
  },
  {
   "cell_type": "code",
   "execution_count": 95,
   "id": "64138df8-2d59-4153-aff5-afbce341126d",
   "metadata": {
    "slideshow": {
     "slide_type": "slide"
    }
   },
   "outputs": [
    {
     "data": {
      "text/plain": [
       "month\n",
       "1      78.072027\n",
       "2      95.804951\n",
       "3     170.205933\n",
       "4     201.905989\n",
       "5     209.630065\n",
       "6     240.640519\n",
       "7     212.333529\n",
       "8     185.894706\n",
       "9     151.208337\n",
       "10    123.501064\n",
       "11    105.465663\n",
       "12     79.506247\n",
       "Name: solar, dtype: float64"
      ]
     },
     "execution_count": 95,
     "metadata": {},
     "output_type": "execute_result"
    }
   ],
   "source": [
    "df.groupby('month').solar.mean()#use for grouping the some catagory"
   ]
  },
  {
   "cell_type": "markdown",
   "id": "7490c710-0745-4cb1-8d3e-c71fd36ad65c",
   "metadata": {
    "slideshow": {
     "slide_type": "slide"
    }
   },
   "source": [
    "<ol style=\"color: #2c3e50; font-family: 'Arial', sans-serif; line-height: 1.8; padding: 10px;\">\n",
    "    <strong style=\"color: #8e44ad; background-color: #f4e7fa; padding: 12px; border-radius: 8px; display: block; margin-bottom: 10px;\">Handle missing values in pandas</strong>\n",
    "    </li>\n",
    "</ol>"
   ]
  },
  {
   "cell_type": "code",
   "execution_count": 42,
   "id": "90f9f96a",
   "metadata": {
    "slideshow": {
     "slide_type": "fragment"
    }
   },
   "outputs": [
    {
     "data": {
      "text/html": [
       "<div>\n",
       "<style scoped>\n",
       "    .dataframe tbody tr th:only-of-type {\n",
       "        vertical-align: middle;\n",
       "    }\n",
       "\n",
       "    .dataframe tbody tr th {\n",
       "        vertical-align: top;\n",
       "    }\n",
       "\n",
       "    .dataframe thead th {\n",
       "        text-align: right;\n",
       "    }\n",
       "</style>\n",
       "<table border=\"1\" class=\"dataframe\">\n",
       "  <thead>\n",
       "    <tr style=\"text-align: right;\">\n",
       "      <th></th>\n",
       "      <th>month</th>\n",
       "      <th>hour</th>\n",
       "      <th>day_type</th>\n",
       "      <th>daylight_savings_status</th>\n",
       "      <th>indoor_dry_bulb_temperature</th>\n",
       "      <th>average_unmet_cooling_setpoint_difference</th>\n",
       "      <th>indoor_relative_humidity</th>\n",
       "      <th>non_shiftable_load</th>\n",
       "      <th>dhw_demand</th>\n",
       "      <th>cooling_demand</th>\n",
       "      <th>heating_demand</th>\n",
       "      <th>solar_generation</th>\n",
       "    </tr>\n",
       "  </thead>\n",
       "  <tbody>\n",
       "    <tr>\n",
       "      <th>0</th>\n",
       "      <td>7</td>\n",
       "      <td>24</td>\n",
       "      <td>7</td>\n",
       "      <td>0</td>\n",
       "      <td>NaN</td>\n",
       "      <td>NaN</td>\n",
       "      <td>NaN</td>\n",
       "      <td>2.188750</td>\n",
       "      <td>0.0</td>\n",
       "      <td>0.0</td>\n",
       "      <td>0.0</td>\n",
       "      <td>0.0</td>\n",
       "    </tr>\n",
       "    <tr>\n",
       "      <th>1</th>\n",
       "      <td>8</td>\n",
       "      <td>1</td>\n",
       "      <td>1</td>\n",
       "      <td>0</td>\n",
       "      <td>NaN</td>\n",
       "      <td>NaN</td>\n",
       "      <td>NaN</td>\n",
       "      <td>1.370667</td>\n",
       "      <td>0.0</td>\n",
       "      <td>0.0</td>\n",
       "      <td>0.0</td>\n",
       "      <td>0.0</td>\n",
       "    </tr>\n",
       "    <tr>\n",
       "      <th>2</th>\n",
       "      <td>8</td>\n",
       "      <td>2</td>\n",
       "      <td>1</td>\n",
       "      <td>0</td>\n",
       "      <td>NaN</td>\n",
       "      <td>NaN</td>\n",
       "      <td>NaN</td>\n",
       "      <td>1.101250</td>\n",
       "      <td>0.0</td>\n",
       "      <td>0.0</td>\n",
       "      <td>0.0</td>\n",
       "      <td>0.0</td>\n",
       "    </tr>\n",
       "    <tr>\n",
       "      <th>3</th>\n",
       "      <td>8</td>\n",
       "      <td>3</td>\n",
       "      <td>1</td>\n",
       "      <td>0</td>\n",
       "      <td>NaN</td>\n",
       "      <td>NaN</td>\n",
       "      <td>NaN</td>\n",
       "      <td>0.543217</td>\n",
       "      <td>0.0</td>\n",
       "      <td>0.0</td>\n",
       "      <td>0.0</td>\n",
       "      <td>0.0</td>\n",
       "    </tr>\n",
       "    <tr>\n",
       "      <th>4</th>\n",
       "      <td>8</td>\n",
       "      <td>4</td>\n",
       "      <td>1</td>\n",
       "      <td>0</td>\n",
       "      <td>NaN</td>\n",
       "      <td>NaN</td>\n",
       "      <td>NaN</td>\n",
       "      <td>0.542833</td>\n",
       "      <td>0.0</td>\n",
       "      <td>0.0</td>\n",
       "      <td>0.0</td>\n",
       "      <td>0.0</td>\n",
       "    </tr>\n",
       "  </tbody>\n",
       "</table>\n",
       "</div>"
      ],
      "text/plain": [
       "   month  hour  day_type  daylight_savings_status  \\\n",
       "0      7    24         7                        0   \n",
       "1      8     1         1                        0   \n",
       "2      8     2         1                        0   \n",
       "3      8     3         1                        0   \n",
       "4      8     4         1                        0   \n",
       "\n",
       "   indoor_dry_bulb_temperature  average_unmet_cooling_setpoint_difference  \\\n",
       "0                          NaN                                        NaN   \n",
       "1                          NaN                                        NaN   \n",
       "2                          NaN                                        NaN   \n",
       "3                          NaN                                        NaN   \n",
       "4                          NaN                                        NaN   \n",
       "\n",
       "   indoor_relative_humidity  non_shiftable_load  dhw_demand  cooling_demand  \\\n",
       "0                       NaN            2.188750         0.0             0.0   \n",
       "1                       NaN            1.370667         0.0             0.0   \n",
       "2                       NaN            1.101250         0.0             0.0   \n",
       "3                       NaN            0.543217         0.0             0.0   \n",
       "4                       NaN            0.542833         0.0             0.0   \n",
       "\n",
       "   heating_demand  solar_generation  \n",
       "0             0.0               0.0  \n",
       "1             0.0               0.0  \n",
       "2             0.0               0.0  \n",
       "3             0.0               0.0  \n",
       "4             0.0               0.0  "
      ]
     },
     "execution_count": 42,
     "metadata": {},
     "output_type": "execute_result"
    }
   ],
   "source": [
    "df.head()"
   ]
  },
  {
   "cell_type": "code",
   "execution_count": 43,
   "id": "e9dc6881",
   "metadata": {
    "slideshow": {
     "slide_type": "slide"
    }
   },
   "outputs": [
    {
     "data": {
      "text/html": [
       "<div>\n",
       "<style scoped>\n",
       "    .dataframe tbody tr th:only-of-type {\n",
       "        vertical-align: middle;\n",
       "    }\n",
       "\n",
       "    .dataframe tbody tr th {\n",
       "        vertical-align: top;\n",
       "    }\n",
       "\n",
       "    .dataframe thead th {\n",
       "        text-align: right;\n",
       "    }\n",
       "</style>\n",
       "<table border=\"1\" class=\"dataframe\">\n",
       "  <thead>\n",
       "    <tr style=\"text-align: right;\">\n",
       "      <th></th>\n",
       "      <th>month</th>\n",
       "      <th>hour</th>\n",
       "      <th>day_type</th>\n",
       "      <th>daylight_savings_status</th>\n",
       "      <th>indoor_dry_bulb_temperature</th>\n",
       "      <th>average_unmet_cooling_setpoint_difference</th>\n",
       "      <th>indoor_relative_humidity</th>\n",
       "      <th>non_shiftable_load</th>\n",
       "      <th>dhw_demand</th>\n",
       "      <th>cooling_demand</th>\n",
       "      <th>heating_demand</th>\n",
       "      <th>solar_generation</th>\n",
       "    </tr>\n",
       "  </thead>\n",
       "  <tbody>\n",
       "    <tr>\n",
       "      <th>8755</th>\n",
       "      <td>False</td>\n",
       "      <td>False</td>\n",
       "      <td>False</td>\n",
       "      <td>False</td>\n",
       "      <td>True</td>\n",
       "      <td>True</td>\n",
       "      <td>True</td>\n",
       "      <td>False</td>\n",
       "      <td>False</td>\n",
       "      <td>False</td>\n",
       "      <td>False</td>\n",
       "      <td>False</td>\n",
       "    </tr>\n",
       "    <tr>\n",
       "      <th>8756</th>\n",
       "      <td>False</td>\n",
       "      <td>False</td>\n",
       "      <td>False</td>\n",
       "      <td>False</td>\n",
       "      <td>True</td>\n",
       "      <td>True</td>\n",
       "      <td>True</td>\n",
       "      <td>False</td>\n",
       "      <td>False</td>\n",
       "      <td>False</td>\n",
       "      <td>False</td>\n",
       "      <td>False</td>\n",
       "    </tr>\n",
       "    <tr>\n",
       "      <th>8757</th>\n",
       "      <td>False</td>\n",
       "      <td>False</td>\n",
       "      <td>False</td>\n",
       "      <td>False</td>\n",
       "      <td>True</td>\n",
       "      <td>True</td>\n",
       "      <td>True</td>\n",
       "      <td>False</td>\n",
       "      <td>False</td>\n",
       "      <td>False</td>\n",
       "      <td>False</td>\n",
       "      <td>False</td>\n",
       "    </tr>\n",
       "    <tr>\n",
       "      <th>8758</th>\n",
       "      <td>False</td>\n",
       "      <td>False</td>\n",
       "      <td>False</td>\n",
       "      <td>False</td>\n",
       "      <td>True</td>\n",
       "      <td>True</td>\n",
       "      <td>True</td>\n",
       "      <td>False</td>\n",
       "      <td>False</td>\n",
       "      <td>False</td>\n",
       "      <td>False</td>\n",
       "      <td>False</td>\n",
       "    </tr>\n",
       "    <tr>\n",
       "      <th>8759</th>\n",
       "      <td>False</td>\n",
       "      <td>False</td>\n",
       "      <td>False</td>\n",
       "      <td>False</td>\n",
       "      <td>True</td>\n",
       "      <td>True</td>\n",
       "      <td>True</td>\n",
       "      <td>False</td>\n",
       "      <td>False</td>\n",
       "      <td>False</td>\n",
       "      <td>False</td>\n",
       "      <td>False</td>\n",
       "    </tr>\n",
       "  </tbody>\n",
       "</table>\n",
       "</div>"
      ],
      "text/plain": [
       "      month   hour  day_type  daylight_savings_status  \\\n",
       "8755  False  False     False                    False   \n",
       "8756  False  False     False                    False   \n",
       "8757  False  False     False                    False   \n",
       "8758  False  False     False                    False   \n",
       "8759  False  False     False                    False   \n",
       "\n",
       "      indoor_dry_bulb_temperature  average_unmet_cooling_setpoint_difference  \\\n",
       "8755                         True                                       True   \n",
       "8756                         True                                       True   \n",
       "8757                         True                                       True   \n",
       "8758                         True                                       True   \n",
       "8759                         True                                       True   \n",
       "\n",
       "      indoor_relative_humidity  non_shiftable_load  dhw_demand  \\\n",
       "8755                      True               False       False   \n",
       "8756                      True               False       False   \n",
       "8757                      True               False       False   \n",
       "8758                      True               False       False   \n",
       "8759                      True               False       False   \n",
       "\n",
       "      cooling_demand  heating_demand  solar_generation  \n",
       "8755           False           False             False  \n",
       "8756           False           False             False  \n",
       "8757           False           False             False  \n",
       "8758           False           False             False  \n",
       "8759           False           False             False  "
      ]
     },
     "execution_count": 43,
     "metadata": {},
     "output_type": "execute_result"
    }
   ],
   "source": [
    "df.isnull().tail()"
   ]
  },
  {
   "cell_type": "code",
   "execution_count": 44,
   "id": "86ad6224-938a-4a4b-9964-1cb7e5c791b6",
   "metadata": {
    "slideshow": {
     "slide_type": "slide"
    }
   },
   "outputs": [
    {
     "data": {
      "text/plain": [
       "month                                           0\n",
       "hour                                            0\n",
       "day_type                                        0\n",
       "daylight_savings_status                         0\n",
       "indoor_dry_bulb_temperature                  8760\n",
       "average_unmet_cooling_setpoint_difference    8760\n",
       "indoor_relative_humidity                     8760\n",
       "non_shiftable_load                              0\n",
       "dhw_demand                                      0\n",
       "cooling_demand                                  0\n",
       "heating_demand                                  0\n",
       "solar_generation                                0\n",
       "dtype: int64"
      ]
     },
     "execution_count": 44,
     "metadata": {},
     "output_type": "execute_result"
    }
   ],
   "source": [
    "df.isnull().sum(axis=0)# in the direction of column (down the column)"
   ]
  },
  {
   "cell_type": "code",
   "execution_count": 45,
   "id": "31317e77-98e1-4e45-8b5a-8b007702b7e3",
   "metadata": {
    "slideshow": {
     "slide_type": "slide"
    }
   },
   "outputs": [
    {
     "data": {
      "text/plain": [
       "0       3\n",
       "1       3\n",
       "2       3\n",
       "3       3\n",
       "4       3\n",
       "       ..\n",
       "8755    3\n",
       "8756    3\n",
       "8757    3\n",
       "8758    3\n",
       "8759    3\n",
       "Length: 8760, dtype: int64"
      ]
     },
     "execution_count": 45,
     "metadata": {},
     "output_type": "execute_result"
    }
   ],
   "source": [
    "df.isnull().sum(axis=1)"
   ]
  },
  {
   "cell_type": "code",
   "execution_count": 46,
   "id": "750b5b43-215d-4a23-83c9-9150306daa8b",
   "metadata": {
    "slideshow": {
     "slide_type": "slide"
    }
   },
   "outputs": [
    {
     "data": {
      "text/plain": [
       "(0, 12)"
      ]
     },
     "execution_count": 46,
     "metadata": {},
     "output_type": "execute_result"
    }
   ],
   "source": [
    "df.dropna(how='any').shape # it will drop the any row which has only one missing value"
   ]
  },
  {
   "cell_type": "code",
   "execution_count": 48,
   "id": "7fe7e828-7cc1-4b69-9367-0016d88e3e1b",
   "metadata": {
    "slideshow": {
     "slide_type": "fragment"
    }
   },
   "outputs": [
    {
     "data": {
      "text/plain": [
       "(8760, 12)"
      ]
     },
     "execution_count": 48,
     "metadata": {},
     "output_type": "execute_result"
    }
   ],
   "source": [
    "df.dropna(how='all').shape# it drop if the whole row has missing value"
   ]
  },
  {
   "cell_type": "code",
   "execution_count": 49,
   "id": "bafd272c-1bba-4026-8baf-e7389006644d",
   "metadata": {
    "slideshow": {
     "slide_type": "fragment"
    }
   },
   "outputs": [
    {
     "data": {
      "text/plain": [
       "(8760, 12)"
      ]
     },
     "execution_count": 49,
     "metadata": {},
     "output_type": "execute_result"
    }
   ],
   "source": [
    "df.dropna(subset=(['month','cooling_demand']),how='any').shape\n",
    "# it will check the missing values in the selected col and drop it"
   ]
  },
  {
   "cell_type": "code",
   "execution_count": 52,
   "id": "8e84e152-21fe-4e38-8d20-6f43f00db408",
   "metadata": {
    "slideshow": {
     "slide_type": "slide"
    }
   },
   "outputs": [
    {
     "data": {
      "text/html": [
       "<div>\n",
       "<style scoped>\n",
       "    .dataframe tbody tr th:only-of-type {\n",
       "        vertical-align: middle;\n",
       "    }\n",
       "\n",
       "    .dataframe tbody tr th {\n",
       "        vertical-align: top;\n",
       "    }\n",
       "\n",
       "    .dataframe thead th {\n",
       "        text-align: right;\n",
       "    }\n",
       "</style>\n",
       "<table border=\"1\" class=\"dataframe\">\n",
       "  <thead>\n",
       "    <tr style=\"text-align: right;\">\n",
       "      <th></th>\n",
       "      <th>a</th>\n",
       "      <th>b</th>\n",
       "    </tr>\n",
       "  </thead>\n",
       "  <tbody>\n",
       "    <tr>\n",
       "      <th>2019-01-01</th>\n",
       "      <td>100.0</td>\n",
       "      <td>9.0</td>\n",
       "    </tr>\n",
       "    <tr>\n",
       "      <th>2019-02-01</th>\n",
       "      <td>120.0</td>\n",
       "      <td>9.0</td>\n",
       "    </tr>\n",
       "    <tr>\n",
       "      <th>2019-03-01</th>\n",
       "      <td>130.0</td>\n",
       "      <td>NaN</td>\n",
       "    </tr>\n",
       "    <tr>\n",
       "      <th>2019-04-01</th>\n",
       "      <td>NaN</td>\n",
       "      <td>7.5</td>\n",
       "    </tr>\n",
       "    <tr>\n",
       "      <th>2019-05-01</th>\n",
       "      <td>140.0</td>\n",
       "      <td>6.5</td>\n",
       "    </tr>\n",
       "  </tbody>\n",
       "</table>\n",
       "</div>"
      ],
      "text/plain": [
       "                a    b\n",
       "2019-01-01  100.0  9.0\n",
       "2019-02-01  120.0  9.0\n",
       "2019-03-01  130.0  NaN\n",
       "2019-04-01    NaN  7.5\n",
       "2019-05-01  140.0  6.5"
      ]
     },
     "execution_count": 52,
     "metadata": {},
     "output_type": "execute_result"
    }
   ],
   "source": [
    "#Fill missing values using interpolation\n",
    "import numpy as np\n",
    "df = pd.DataFrame({'a':[100, 120, 130, np.nan, 140], 'b':[9, 9, np.nan, 7.5, 6.5]})\n",
    "df.index = pd.to_datetime(['2019-01', '2019-02', '2019-03', '2019-04', '2019-05'])\n",
    "df"
   ]
  },
  {
   "cell_type": "code",
   "execution_count": 53,
   "id": "af5a882f-7a6b-4c05-933c-80c4f1cbd701",
   "metadata": {
    "slideshow": {
     "slide_type": "slide"
    }
   },
   "outputs": [
    {
     "data": {
      "text/html": [
       "<div>\n",
       "<style scoped>\n",
       "    .dataframe tbody tr th:only-of-type {\n",
       "        vertical-align: middle;\n",
       "    }\n",
       "\n",
       "    .dataframe tbody tr th {\n",
       "        vertical-align: top;\n",
       "    }\n",
       "\n",
       "    .dataframe thead th {\n",
       "        text-align: right;\n",
       "    }\n",
       "</style>\n",
       "<table border=\"1\" class=\"dataframe\">\n",
       "  <thead>\n",
       "    <tr style=\"text-align: right;\">\n",
       "      <th></th>\n",
       "      <th>a</th>\n",
       "      <th>b</th>\n",
       "    </tr>\n",
       "  </thead>\n",
       "  <tbody>\n",
       "    <tr>\n",
       "      <th>2019-01-01</th>\n",
       "      <td>100.0</td>\n",
       "      <td>9.00</td>\n",
       "    </tr>\n",
       "    <tr>\n",
       "      <th>2019-02-01</th>\n",
       "      <td>120.0</td>\n",
       "      <td>9.00</td>\n",
       "    </tr>\n",
       "    <tr>\n",
       "      <th>2019-03-01</th>\n",
       "      <td>130.0</td>\n",
       "      <td>8.25</td>\n",
       "    </tr>\n",
       "    <tr>\n",
       "      <th>2019-04-01</th>\n",
       "      <td>135.0</td>\n",
       "      <td>7.50</td>\n",
       "    </tr>\n",
       "    <tr>\n",
       "      <th>2019-05-01</th>\n",
       "      <td>140.0</td>\n",
       "      <td>6.50</td>\n",
       "    </tr>\n",
       "  </tbody>\n",
       "</table>\n",
       "</div>"
      ],
      "text/plain": [
       "                a     b\n",
       "2019-01-01  100.0  9.00\n",
       "2019-02-01  120.0  9.00\n",
       "2019-03-01  130.0  8.25\n",
       "2019-04-01  135.0  7.50\n",
       "2019-05-01  140.0  6.50"
      ]
     },
     "execution_count": 53,
     "metadata": {},
     "output_type": "execute_result"
    }
   ],
   "source": [
    "df.interpolate()"
   ]
  },
  {
   "cell_type": "markdown",
   "id": "3ebe6f06-ddb1-4da3-bdfb-47d750af1393",
   "metadata": {
    "slideshow": {
     "slide_type": "slide"
    }
   },
   "source": [
    "<ol style=\"color: #2c3e50; font-family: 'Arial', sans-serif; line-height: 1.8; padding: 10px;\">\n",
    "    <strong style=\"color: #8e44ad; background-color: #f4e7fa; padding: 12px; border-radius: 8px; display: block; margin-bottom: 10px;\"> How i work with date and time</strong>\n",
    "    </li>\n",
    "</ol>\n"
   ]
  },
  {
   "cell_type": "code",
   "execution_count": 81,
   "id": "e4c76d7c-a8bb-4891-8a47-e3c402461867",
   "metadata": {
    "slideshow": {
     "slide_type": "fragment"
    }
   },
   "outputs": [
    {
     "data": {
      "text/html": [
       "<div>\n",
       "<style scoped>\n",
       "    .dataframe tbody tr th:only-of-type {\n",
       "        vertical-align: middle;\n",
       "    }\n",
       "\n",
       "    .dataframe tbody tr th {\n",
       "        vertical-align: top;\n",
       "    }\n",
       "\n",
       "    .dataframe thead th {\n",
       "        text-align: right;\n",
       "    }\n",
       "</style>\n",
       "<table border=\"1\" class=\"dataframe\">\n",
       "  <thead>\n",
       "    <tr style=\"text-align: right;\">\n",
       "      <th></th>\n",
       "      <th>month</th>\n",
       "      <th>day</th>\n",
       "      <th>year</th>\n",
       "      <th>holiday</th>\n",
       "    </tr>\n",
       "  </thead>\n",
       "  <tbody>\n",
       "    <tr>\n",
       "      <th>0</th>\n",
       "      <td>12</td>\n",
       "      <td>25</td>\n",
       "      <td>2019</td>\n",
       "      <td>christmas</td>\n",
       "    </tr>\n",
       "    <tr>\n",
       "      <th>1</th>\n",
       "      <td>11</td>\n",
       "      <td>28</td>\n",
       "      <td>2019</td>\n",
       "      <td>thanksgiving</td>\n",
       "    </tr>\n",
       "  </tbody>\n",
       "</table>\n",
       "</div>"
      ],
      "text/plain": [
       "   month  day  year       holiday\n",
       "0     12   25  2019     christmas\n",
       "1     11   28  2019  thanksgiving"
      ]
     },
     "execution_count": 81,
     "metadata": {},
     "output_type": "execute_result"
    }
   ],
   "source": [
    "df = pd.DataFrame([[12, 25, 2019, 'christmas'], [11, 28, 2019, 'thanksgiving']],\n",
    "                  columns=['month', 'day', 'year', 'holiday'])\n",
    "df"
   ]
  },
  {
   "cell_type": "code",
   "execution_count": 82,
   "id": "5272bc5d-aa84-42e0-a756-a8ee8430541c",
   "metadata": {
    "slideshow": {
     "slide_type": "slide"
    }
   },
   "outputs": [
    {
     "data": {
      "text/html": [
       "<div>\n",
       "<style scoped>\n",
       "    .dataframe tbody tr th:only-of-type {\n",
       "        vertical-align: middle;\n",
       "    }\n",
       "\n",
       "    .dataframe tbody tr th {\n",
       "        vertical-align: top;\n",
       "    }\n",
       "\n",
       "    .dataframe thead th {\n",
       "        text-align: right;\n",
       "    }\n",
       "</style>\n",
       "<table border=\"1\" class=\"dataframe\">\n",
       "  <thead>\n",
       "    <tr style=\"text-align: right;\">\n",
       "      <th></th>\n",
       "      <th>month</th>\n",
       "      <th>day</th>\n",
       "      <th>year</th>\n",
       "      <th>holiday</th>\n",
       "      <th>date</th>\n",
       "    </tr>\n",
       "  </thead>\n",
       "  <tbody>\n",
       "    <tr>\n",
       "      <th>0</th>\n",
       "      <td>12</td>\n",
       "      <td>25</td>\n",
       "      <td>2019</td>\n",
       "      <td>christmas</td>\n",
       "      <td>2019-12-25</td>\n",
       "    </tr>\n",
       "    <tr>\n",
       "      <th>1</th>\n",
       "      <td>11</td>\n",
       "      <td>28</td>\n",
       "      <td>2019</td>\n",
       "      <td>thanksgiving</td>\n",
       "      <td>2019-11-28</td>\n",
       "    </tr>\n",
       "  </tbody>\n",
       "</table>\n",
       "</div>"
      ],
      "text/plain": [
       "   month  day  year       holiday       date\n",
       "0     12   25  2019     christmas 2019-12-25\n",
       "1     11   28  2019  thanksgiving 2019-11-28"
      ]
     },
     "execution_count": 82,
     "metadata": {},
     "output_type": "execute_result"
    }
   ],
   "source": [
    "df['date'] = pd.to_datetime(df[['month', 'day', 'year']])\n",
    "df"
   ]
  },
  {
   "cell_type": "code",
   "execution_count": 83,
   "id": "e26ab46c-7694-41c5-96bc-5dd9f9f1c9fe",
   "metadata": {
    "slideshow": {
     "slide_type": "fragment"
    }
   },
   "outputs": [
    {
     "data": {
      "text/plain": [
       "month               int64\n",
       "day                 int64\n",
       "year                int64\n",
       "holiday            object\n",
       "date       datetime64[ns]\n",
       "dtype: object"
      ]
     },
     "execution_count": 83,
     "metadata": {},
     "output_type": "execute_result"
    }
   ],
   "source": [
    "df.dtypes"
   ]
  },
  {
   "cell_type": "code",
   "execution_count": 98,
   "id": "1d30cb77-cd65-41c9-9fdf-9704e42d5646",
   "metadata": {
    "slideshow": {
     "slide_type": "slide"
    }
   },
   "outputs": [],
   "source": [
    "df = pd.read_csv(r'C:\\Users\\HP\\OneDrive\\Seminar\\AEP_hourly (1).csv')"
   ]
  },
  {
   "cell_type": "code",
   "execution_count": 99,
   "id": "922b1e4b-175e-44df-9c67-074089691a2a",
   "metadata": {
    "slideshow": {
     "slide_type": "fragment"
    }
   },
   "outputs": [
    {
     "data": {
      "text/html": [
       "<div>\n",
       "<style scoped>\n",
       "    .dataframe tbody tr th:only-of-type {\n",
       "        vertical-align: middle;\n",
       "    }\n",
       "\n",
       "    .dataframe tbody tr th {\n",
       "        vertical-align: top;\n",
       "    }\n",
       "\n",
       "    .dataframe thead th {\n",
       "        text-align: right;\n",
       "    }\n",
       "</style>\n",
       "<table border=\"1\" class=\"dataframe\">\n",
       "  <thead>\n",
       "    <tr style=\"text-align: right;\">\n",
       "      <th></th>\n",
       "      <th>Datetime</th>\n",
       "      <th>AEP_MW</th>\n",
       "    </tr>\n",
       "  </thead>\n",
       "  <tbody>\n",
       "    <tr>\n",
       "      <th>0</th>\n",
       "      <td>2004-12-31 01:00:00</td>\n",
       "      <td>13478.0</td>\n",
       "    </tr>\n",
       "    <tr>\n",
       "      <th>1</th>\n",
       "      <td>2004-12-31 02:00:00</td>\n",
       "      <td>12865.0</td>\n",
       "    </tr>\n",
       "    <tr>\n",
       "      <th>2</th>\n",
       "      <td>2004-12-31 03:00:00</td>\n",
       "      <td>12577.0</td>\n",
       "    </tr>\n",
       "    <tr>\n",
       "      <th>3</th>\n",
       "      <td>2004-12-31 04:00:00</td>\n",
       "      <td>12517.0</td>\n",
       "    </tr>\n",
       "    <tr>\n",
       "      <th>4</th>\n",
       "      <td>2004-12-31 05:00:00</td>\n",
       "      <td>12670.0</td>\n",
       "    </tr>\n",
       "  </tbody>\n",
       "</table>\n",
       "</div>"
      ],
      "text/plain": [
       "              Datetime   AEP_MW\n",
       "0  2004-12-31 01:00:00  13478.0\n",
       "1  2004-12-31 02:00:00  12865.0\n",
       "2  2004-12-31 03:00:00  12577.0\n",
       "3  2004-12-31 04:00:00  12517.0\n",
       "4  2004-12-31 05:00:00  12670.0"
      ]
     },
     "execution_count": 99,
     "metadata": {},
     "output_type": "execute_result"
    }
   ],
   "source": [
    "df.head()"
   ]
  },
  {
   "cell_type": "code",
   "execution_count": 100,
   "id": "6966dce7-fe5f-4e97-8dcf-884feaecfb58",
   "metadata": {
    "slideshow": {
     "slide_type": "slide"
    }
   },
   "outputs": [
    {
     "data": {
      "text/plain": [
       "Datetime     object\n",
       "AEP_MW      float64\n",
       "dtype: object"
      ]
     },
     "execution_count": 100,
     "metadata": {},
     "output_type": "execute_result"
    }
   ],
   "source": [
    "df.dtypes"
   ]
  },
  {
   "cell_type": "code",
   "execution_count": 101,
   "id": "0c3adb76-7bac-4988-ac96-6ba1f5e8017f",
   "metadata": {
    "slideshow": {
     "slide_type": "fragment"
    }
   },
   "outputs": [],
   "source": [
    "df['Time'] = pd.to_datetime(df.Datetime)"
   ]
  },
  {
   "cell_type": "code",
   "execution_count": 102,
   "id": "21205a58-bfc9-4cdf-a016-92e0dccec8a2",
   "metadata": {
    "slideshow": {
     "slide_type": "slide"
    }
   },
   "outputs": [
    {
     "data": {
      "text/html": [
       "<div>\n",
       "<style scoped>\n",
       "    .dataframe tbody tr th:only-of-type {\n",
       "        vertical-align: middle;\n",
       "    }\n",
       "\n",
       "    .dataframe tbody tr th {\n",
       "        vertical-align: top;\n",
       "    }\n",
       "\n",
       "    .dataframe thead th {\n",
       "        text-align: right;\n",
       "    }\n",
       "</style>\n",
       "<table border=\"1\" class=\"dataframe\">\n",
       "  <thead>\n",
       "    <tr style=\"text-align: right;\">\n",
       "      <th></th>\n",
       "      <th>Datetime</th>\n",
       "      <th>AEP_MW</th>\n",
       "      <th>Time</th>\n",
       "    </tr>\n",
       "  </thead>\n",
       "  <tbody>\n",
       "    <tr>\n",
       "      <th>0</th>\n",
       "      <td>2004-12-31 01:00:00</td>\n",
       "      <td>13478.0</td>\n",
       "      <td>2004-12-31 01:00:00</td>\n",
       "    </tr>\n",
       "    <tr>\n",
       "      <th>1</th>\n",
       "      <td>2004-12-31 02:00:00</td>\n",
       "      <td>12865.0</td>\n",
       "      <td>2004-12-31 02:00:00</td>\n",
       "    </tr>\n",
       "    <tr>\n",
       "      <th>2</th>\n",
       "      <td>2004-12-31 03:00:00</td>\n",
       "      <td>12577.0</td>\n",
       "      <td>2004-12-31 03:00:00</td>\n",
       "    </tr>\n",
       "    <tr>\n",
       "      <th>3</th>\n",
       "      <td>2004-12-31 04:00:00</td>\n",
       "      <td>12517.0</td>\n",
       "      <td>2004-12-31 04:00:00</td>\n",
       "    </tr>\n",
       "    <tr>\n",
       "      <th>4</th>\n",
       "      <td>2004-12-31 05:00:00</td>\n",
       "      <td>12670.0</td>\n",
       "      <td>2004-12-31 05:00:00</td>\n",
       "    </tr>\n",
       "  </tbody>\n",
       "</table>\n",
       "</div>"
      ],
      "text/plain": [
       "              Datetime   AEP_MW                Time\n",
       "0  2004-12-31 01:00:00  13478.0 2004-12-31 01:00:00\n",
       "1  2004-12-31 02:00:00  12865.0 2004-12-31 02:00:00\n",
       "2  2004-12-31 03:00:00  12577.0 2004-12-31 03:00:00\n",
       "3  2004-12-31 04:00:00  12517.0 2004-12-31 04:00:00\n",
       "4  2004-12-31 05:00:00  12670.0 2004-12-31 05:00:00"
      ]
     },
     "execution_count": 102,
     "metadata": {},
     "output_type": "execute_result"
    }
   ],
   "source": [
    "df.head()"
   ]
  },
  {
   "cell_type": "code",
   "execution_count": 103,
   "id": "ce94ce46",
   "metadata": {
    "slideshow": {
     "slide_type": "fragment"
    }
   },
   "outputs": [
    {
     "data": {
      "text/plain": [
       "Datetime            object\n",
       "AEP_MW             float64\n",
       "Time        datetime64[ns]\n",
       "dtype: object"
      ]
     },
     "execution_count": 103,
     "metadata": {},
     "output_type": "execute_result"
    }
   ],
   "source": [
    "df.dtypes"
   ]
  },
  {
   "cell_type": "code",
   "execution_count": null,
   "id": "38fa5577",
   "metadata": {
    "slideshow": {
     "slide_type": "slide"
    }
   },
   "outputs": [],
   "source": [
    "df.Time.dt.hour"
   ]
  },
  {
   "cell_type": "code",
   "execution_count": 104,
   "id": "38277322-27ba-488b-94ed-d1d4574f2e98",
   "metadata": {
    "slideshow": {
     "slide_type": "fragment"
    }
   },
   "outputs": [],
   "source": [
    "df['hour'] = df.Time.dt.hour"
   ]
  },
  {
   "cell_type": "code",
   "execution_count": 105,
   "id": "dac6a248",
   "metadata": {
    "slideshow": {
     "slide_type": "fragment"
    }
   },
   "outputs": [
    {
     "data": {
      "text/html": [
       "<div>\n",
       "<style scoped>\n",
       "    .dataframe tbody tr th:only-of-type {\n",
       "        vertical-align: middle;\n",
       "    }\n",
       "\n",
       "    .dataframe tbody tr th {\n",
       "        vertical-align: top;\n",
       "    }\n",
       "\n",
       "    .dataframe thead th {\n",
       "        text-align: right;\n",
       "    }\n",
       "</style>\n",
       "<table border=\"1\" class=\"dataframe\">\n",
       "  <thead>\n",
       "    <tr style=\"text-align: right;\">\n",
       "      <th></th>\n",
       "      <th>Datetime</th>\n",
       "      <th>AEP_MW</th>\n",
       "      <th>Time</th>\n",
       "      <th>hour</th>\n",
       "    </tr>\n",
       "  </thead>\n",
       "  <tbody>\n",
       "    <tr>\n",
       "      <th>0</th>\n",
       "      <td>2004-12-31 01:00:00</td>\n",
       "      <td>13478.0</td>\n",
       "      <td>2004-12-31 01:00:00</td>\n",
       "      <td>1</td>\n",
       "    </tr>\n",
       "    <tr>\n",
       "      <th>1</th>\n",
       "      <td>2004-12-31 02:00:00</td>\n",
       "      <td>12865.0</td>\n",
       "      <td>2004-12-31 02:00:00</td>\n",
       "      <td>2</td>\n",
       "    </tr>\n",
       "    <tr>\n",
       "      <th>2</th>\n",
       "      <td>2004-12-31 03:00:00</td>\n",
       "      <td>12577.0</td>\n",
       "      <td>2004-12-31 03:00:00</td>\n",
       "      <td>3</td>\n",
       "    </tr>\n",
       "    <tr>\n",
       "      <th>3</th>\n",
       "      <td>2004-12-31 04:00:00</td>\n",
       "      <td>12517.0</td>\n",
       "      <td>2004-12-31 04:00:00</td>\n",
       "      <td>4</td>\n",
       "    </tr>\n",
       "    <tr>\n",
       "      <th>4</th>\n",
       "      <td>2004-12-31 05:00:00</td>\n",
       "      <td>12670.0</td>\n",
       "      <td>2004-12-31 05:00:00</td>\n",
       "      <td>5</td>\n",
       "    </tr>\n",
       "  </tbody>\n",
       "</table>\n",
       "</div>"
      ],
      "text/plain": [
       "              Datetime   AEP_MW                Time  hour\n",
       "0  2004-12-31 01:00:00  13478.0 2004-12-31 01:00:00     1\n",
       "1  2004-12-31 02:00:00  12865.0 2004-12-31 02:00:00     2\n",
       "2  2004-12-31 03:00:00  12577.0 2004-12-31 03:00:00     3\n",
       "3  2004-12-31 04:00:00  12517.0 2004-12-31 04:00:00     4\n",
       "4  2004-12-31 05:00:00  12670.0 2004-12-31 05:00:00     5"
      ]
     },
     "execution_count": 105,
     "metadata": {},
     "output_type": "execute_result"
    }
   ],
   "source": [
    "df.head()"
   ]
  },
  {
   "cell_type": "code",
   "execution_count": null,
   "id": "10d53270",
   "metadata": {
    "slideshow": {
     "slide_type": "slide"
    }
   },
   "outputs": [],
   "source": [
    "df.Time.dt.day_of_week"
   ]
  },
  {
   "cell_type": "code",
   "execution_count": 106,
   "id": "d19a8298-c96b-43d6-8d01-233898f8f8e1",
   "metadata": {
    "slideshow": {
     "slide_type": "fragment"
    }
   },
   "outputs": [],
   "source": [
    "df['day_of_week'] = df.Time.dt.day_of_week"
   ]
  },
  {
   "cell_type": "code",
   "execution_count": 107,
   "id": "68a80ff5",
   "metadata": {
    "slideshow": {
     "slide_type": "fragment"
    }
   },
   "outputs": [
    {
     "data": {
      "text/html": [
       "<div>\n",
       "<style scoped>\n",
       "    .dataframe tbody tr th:only-of-type {\n",
       "        vertical-align: middle;\n",
       "    }\n",
       "\n",
       "    .dataframe tbody tr th {\n",
       "        vertical-align: top;\n",
       "    }\n",
       "\n",
       "    .dataframe thead th {\n",
       "        text-align: right;\n",
       "    }\n",
       "</style>\n",
       "<table border=\"1\" class=\"dataframe\">\n",
       "  <thead>\n",
       "    <tr style=\"text-align: right;\">\n",
       "      <th></th>\n",
       "      <th>Datetime</th>\n",
       "      <th>AEP_MW</th>\n",
       "      <th>Time</th>\n",
       "      <th>hour</th>\n",
       "      <th>day_of_week</th>\n",
       "    </tr>\n",
       "  </thead>\n",
       "  <tbody>\n",
       "    <tr>\n",
       "      <th>0</th>\n",
       "      <td>2004-12-31 01:00:00</td>\n",
       "      <td>13478.0</td>\n",
       "      <td>2004-12-31 01:00:00</td>\n",
       "      <td>1</td>\n",
       "      <td>4</td>\n",
       "    </tr>\n",
       "    <tr>\n",
       "      <th>1</th>\n",
       "      <td>2004-12-31 02:00:00</td>\n",
       "      <td>12865.0</td>\n",
       "      <td>2004-12-31 02:00:00</td>\n",
       "      <td>2</td>\n",
       "      <td>4</td>\n",
       "    </tr>\n",
       "    <tr>\n",
       "      <th>2</th>\n",
       "      <td>2004-12-31 03:00:00</td>\n",
       "      <td>12577.0</td>\n",
       "      <td>2004-12-31 03:00:00</td>\n",
       "      <td>3</td>\n",
       "      <td>4</td>\n",
       "    </tr>\n",
       "    <tr>\n",
       "      <th>3</th>\n",
       "      <td>2004-12-31 04:00:00</td>\n",
       "      <td>12517.0</td>\n",
       "      <td>2004-12-31 04:00:00</td>\n",
       "      <td>4</td>\n",
       "      <td>4</td>\n",
       "    </tr>\n",
       "    <tr>\n",
       "      <th>4</th>\n",
       "      <td>2004-12-31 05:00:00</td>\n",
       "      <td>12670.0</td>\n",
       "      <td>2004-12-31 05:00:00</td>\n",
       "      <td>5</td>\n",
       "      <td>4</td>\n",
       "    </tr>\n",
       "  </tbody>\n",
       "</table>\n",
       "</div>"
      ],
      "text/plain": [
       "              Datetime   AEP_MW                Time  hour  day_of_week\n",
       "0  2004-12-31 01:00:00  13478.0 2004-12-31 01:00:00     1            4\n",
       "1  2004-12-31 02:00:00  12865.0 2004-12-31 02:00:00     2            4\n",
       "2  2004-12-31 03:00:00  12577.0 2004-12-31 03:00:00     3            4\n",
       "3  2004-12-31 04:00:00  12517.0 2004-12-31 04:00:00     4            4\n",
       "4  2004-12-31 05:00:00  12670.0 2004-12-31 05:00:00     5            4"
      ]
     },
     "execution_count": 107,
     "metadata": {},
     "output_type": "execute_result"
    }
   ],
   "source": [
    "df.head()"
   ]
  },
  {
   "cell_type": "code",
   "execution_count": 66,
   "id": "871082c8-4979-4ac9-bd47-87e9b93b84f7",
   "metadata": {
    "slideshow": {
     "slide_type": "slide"
    }
   },
   "outputs": [
    {
     "data": {
      "text/plain": [
       "0         366\n",
       "1         366\n",
       "2         366\n",
       "3         366\n",
       "4         366\n",
       "         ... \n",
       "121268      1\n",
       "121269      1\n",
       "121270      1\n",
       "121271      1\n",
       "121272      2\n",
       "Name: Time, Length: 121273, dtype: int32"
      ]
     },
     "execution_count": 66,
     "metadata": {},
     "output_type": "execute_result"
    }
   ],
   "source": [
    "df.Time.dt.day_of_year"
   ]
  },
  {
   "cell_type": "code",
   "execution_count": 110,
   "id": "a392a05f",
   "metadata": {
    "slideshow": {
     "slide_type": "fragment"
    }
   },
   "outputs": [],
   "source": [
    "df['year'] = df.Time.dt.year"
   ]
  },
  {
   "cell_type": "code",
   "execution_count": 111,
   "id": "99d9d3cf",
   "metadata": {
    "slideshow": {
     "slide_type": "slide"
    }
   },
   "outputs": [
    {
     "data": {
      "text/html": [
       "<div>\n",
       "<style scoped>\n",
       "    .dataframe tbody tr th:only-of-type {\n",
       "        vertical-align: middle;\n",
       "    }\n",
       "\n",
       "    .dataframe tbody tr th {\n",
       "        vertical-align: top;\n",
       "    }\n",
       "\n",
       "    .dataframe thead th {\n",
       "        text-align: right;\n",
       "    }\n",
       "</style>\n",
       "<table border=\"1\" class=\"dataframe\">\n",
       "  <thead>\n",
       "    <tr style=\"text-align: right;\">\n",
       "      <th></th>\n",
       "      <th>Datetime</th>\n",
       "      <th>AEP_MW</th>\n",
       "      <th>Time</th>\n",
       "      <th>hour</th>\n",
       "      <th>day_of_week</th>\n",
       "      <th>year</th>\n",
       "    </tr>\n",
       "  </thead>\n",
       "  <tbody>\n",
       "    <tr>\n",
       "      <th>0</th>\n",
       "      <td>2004-12-31 01:00:00</td>\n",
       "      <td>13478.0</td>\n",
       "      <td>2004-12-31 01:00:00</td>\n",
       "      <td>1</td>\n",
       "      <td>4</td>\n",
       "      <td>2004</td>\n",
       "    </tr>\n",
       "    <tr>\n",
       "      <th>1</th>\n",
       "      <td>2004-12-31 02:00:00</td>\n",
       "      <td>12865.0</td>\n",
       "      <td>2004-12-31 02:00:00</td>\n",
       "      <td>2</td>\n",
       "      <td>4</td>\n",
       "      <td>2004</td>\n",
       "    </tr>\n",
       "    <tr>\n",
       "      <th>2</th>\n",
       "      <td>2004-12-31 03:00:00</td>\n",
       "      <td>12577.0</td>\n",
       "      <td>2004-12-31 03:00:00</td>\n",
       "      <td>3</td>\n",
       "      <td>4</td>\n",
       "      <td>2004</td>\n",
       "    </tr>\n",
       "    <tr>\n",
       "      <th>3</th>\n",
       "      <td>2004-12-31 04:00:00</td>\n",
       "      <td>12517.0</td>\n",
       "      <td>2004-12-31 04:00:00</td>\n",
       "      <td>4</td>\n",
       "      <td>4</td>\n",
       "      <td>2004</td>\n",
       "    </tr>\n",
       "    <tr>\n",
       "      <th>4</th>\n",
       "      <td>2004-12-31 05:00:00</td>\n",
       "      <td>12670.0</td>\n",
       "      <td>2004-12-31 05:00:00</td>\n",
       "      <td>5</td>\n",
       "      <td>4</td>\n",
       "      <td>2004</td>\n",
       "    </tr>\n",
       "  </tbody>\n",
       "</table>\n",
       "</div>"
      ],
      "text/plain": [
       "              Datetime   AEP_MW                Time  hour  day_of_week  year\n",
       "0  2004-12-31 01:00:00  13478.0 2004-12-31 01:00:00     1            4  2004\n",
       "1  2004-12-31 02:00:00  12865.0 2004-12-31 02:00:00     2            4  2004\n",
       "2  2004-12-31 03:00:00  12577.0 2004-12-31 03:00:00     3            4  2004\n",
       "3  2004-12-31 04:00:00  12517.0 2004-12-31 04:00:00     4            4  2004\n",
       "4  2004-12-31 05:00:00  12670.0 2004-12-31 05:00:00     5            4  2004"
      ]
     },
     "execution_count": 111,
     "metadata": {},
     "output_type": "execute_result"
    }
   ],
   "source": [
    "df.head()"
   ]
  },
  {
   "cell_type": "code",
   "execution_count": 112,
   "id": "dc13a2e3-06a3-4693-a3df-bce4623ce72f",
   "metadata": {
    "slideshow": {
     "slide_type": "slide"
    }
   },
   "outputs": [
    {
     "data": {
      "text/plain": [
       "Timestamp('2018-08-03 00:00:00')"
      ]
     },
     "execution_count": 112,
     "metadata": {},
     "output_type": "execute_result"
    }
   ],
   "source": [
    "df.Time.max()"
   ]
  },
  {
   "cell_type": "code",
   "execution_count": 113,
   "id": "a24f4501-d7ed-4b28-8297-9264b234636f",
   "metadata": {
    "slideshow": {
     "slide_type": "fragment"
    }
   },
   "outputs": [
    {
     "data": {
      "text/plain": [
       "Timedelta('5053 days 23:00:00')"
      ]
     },
     "execution_count": 113,
     "metadata": {},
     "output_type": "execute_result"
    }
   ],
   "source": [
    "df.Time.max() - df.Time.min() # do mathes with that"
   ]
  },
  {
   "cell_type": "markdown",
   "id": "48f20ceb-94cf-4b4f-9570-fffa1a7631e4",
   "metadata": {
    "slideshow": {
     "slide_type": "slide"
    }
   },
   "source": [
    "<ol style=\"color: #2c3e50; font-family: 'Arial', sans-serif; line-height: 1.8; padding: 10px;\">\n",
    "    <strong style=\"color: #8e44ad; background-color: #f4e7fa; padding: 12px; border-radius: 8px; display: block; margin-bottom: 10px;\">Check for equality</strong>\n",
    "    </li>\n",
    "</ol>\n"
   ]
  },
  {
   "cell_type": "code",
   "execution_count": 66,
   "id": "36fea0b8-8594-4e37-87f2-9496f958a080",
   "metadata": {
    "slideshow": {
     "slide_type": "fragment"
    }
   },
   "outputs": [
    {
     "data": {
      "text/html": [
       "<div>\n",
       "<style scoped>\n",
       "    .dataframe tbody tr th:only-of-type {\n",
       "        vertical-align: middle;\n",
       "    }\n",
       "\n",
       "    .dataframe tbody tr th {\n",
       "        vertical-align: top;\n",
       "    }\n",
       "\n",
       "    .dataframe thead th {\n",
       "        text-align: right;\n",
       "    }\n",
       "</style>\n",
       "<table border=\"1\" class=\"dataframe\">\n",
       "  <thead>\n",
       "    <tr style=\"text-align: right;\">\n",
       "      <th></th>\n",
       "      <th>a</th>\n",
       "      <th>b</th>\n",
       "    </tr>\n",
       "  </thead>\n",
       "  <tbody>\n",
       "    <tr>\n",
       "      <th>0</th>\n",
       "      <td>1.0</td>\n",
       "      <td>1.0</td>\n",
       "    </tr>\n",
       "    <tr>\n",
       "      <th>1</th>\n",
       "      <td>2.0</td>\n",
       "      <td>2.0</td>\n",
       "    </tr>\n",
       "    <tr>\n",
       "      <th>2</th>\n",
       "      <td>NaN</td>\n",
       "      <td>NaN</td>\n",
       "    </tr>\n",
       "  </tbody>\n",
       "</table>\n",
       "</div>"
      ],
      "text/plain": [
       "     a    b\n",
       "0  1.0  1.0\n",
       "1  2.0  2.0\n",
       "2  NaN  NaN"
      ]
     },
     "execution_count": 66,
     "metadata": {},
     "output_type": "execute_result"
    }
   ],
   "source": [
    "df = pd.DataFrame({'a':[1, 2, np.nan], 'b':[1, 2, np.nan]})\n",
    "df"
   ]
  },
  {
   "cell_type": "code",
   "execution_count": 68,
   "id": "97dd7271-c5ab-4fdb-baa9-4402effbc740",
   "metadata": {
    "slideshow": {
     "slide_type": "slide"
    }
   },
   "outputs": [
    {
     "data": {
      "text/plain": [
       "0     True\n",
       "1     True\n",
       "2    False\n",
       "dtype: bool"
      ]
     },
     "execution_count": 68,
     "metadata": {},
     "output_type": "execute_result"
    }
   ],
   "source": [
    "#This is not a reliable method for checking:\n",
    "df.a == df.b"
   ]
  },
  {
   "cell_type": "code",
   "execution_count": 69,
   "id": "268f3a99-5bcf-497a-a5ac-115e0c52c2e6",
   "metadata": {
    "slideshow": {
     "slide_type": "fragment"
    }
   },
   "outputs": [
    {
     "data": {
      "text/plain": [
       "True"
      ]
     },
     "execution_count": 69,
     "metadata": {},
     "output_type": "execute_result"
    }
   ],
   "source": [
    "#Instead, you can check for equality using the equals() method:\n",
    "df.a.equals(df.b)"
   ]
  },
  {
   "cell_type": "code",
   "execution_count": 70,
   "id": "0e9e9528-b070-4c7b-9c7c-bdd942c6e291",
   "metadata": {
    "slideshow": {
     "slide_type": "fragment"
    }
   },
   "outputs": [
    {
     "data": {
      "text/plain": [
       "True"
      ]
     },
     "execution_count": 70,
     "metadata": {},
     "output_type": "execute_result"
    }
   ],
   "source": [
    "df_new = df.copy()\n",
    "df_new.equals(df)"
   ]
  },
  {
   "cell_type": "code",
   "execution_count": 71,
   "id": "c9f05984-641a-4a9f-9c18-9a82815a7969",
   "metadata": {
    "slideshow": {
     "slide_type": "slide"
    }
   },
   "outputs": [
    {
     "data": {
      "text/html": [
       "<div>\n",
       "<style scoped>\n",
       "    .dataframe tbody tr th:only-of-type {\n",
       "        vertical-align: middle;\n",
       "    }\n",
       "\n",
       "    .dataframe tbody tr th {\n",
       "        vertical-align: top;\n",
       "    }\n",
       "\n",
       "    .dataframe thead th {\n",
       "        text-align: right;\n",
       "    }\n",
       "</style>\n",
       "<table border=\"1\" class=\"dataframe\">\n",
       "  <thead>\n",
       "    <tr style=\"text-align: right;\">\n",
       "      <th></th>\n",
       "      <th>c</th>\n",
       "      <th>d</th>\n",
       "      <th>e</th>\n",
       "    </tr>\n",
       "  </thead>\n",
       "  <tbody>\n",
       "    <tr>\n",
       "      <th>0</th>\n",
       "      <td>1</td>\n",
       "      <td>1.0</td>\n",
       "      <td>1.000000</td>\n",
       "    </tr>\n",
       "    <tr>\n",
       "      <th>1</th>\n",
       "      <td>2</td>\n",
       "      <td>2.0</td>\n",
       "      <td>2.000000</td>\n",
       "    </tr>\n",
       "    <tr>\n",
       "      <th>2</th>\n",
       "      <td>3</td>\n",
       "      <td>3.0</td>\n",
       "      <td>3.000005</td>\n",
       "    </tr>\n",
       "  </tbody>\n",
       "</table>\n",
       "</div>"
      ],
      "text/plain": [
       "   c    d         e\n",
       "0  1  1.0  1.000000\n",
       "1  2  2.0  2.000000\n",
       "2  3  3.0  3.000005"
      ]
     },
     "execution_count": 71,
     "metadata": {},
     "output_type": "execute_result"
    }
   ],
   "source": [
    "df = pd.DataFrame({'c':[1, 2, 3], 'd':[1.0, 2.0, 3.0], 'e':[1.0, 2.0, 3.000005]})\n",
    "df"
   ]
  },
  {
   "cell_type": "code",
   "execution_count": 74,
   "id": "da873f21-4f86-4c5a-93d4-1a441123f41e",
   "metadata": {
    "slideshow": {
     "slide_type": "fragment"
    }
   },
   "outputs": [
    {
     "data": {
      "text/plain": [
       "False"
      ]
     },
     "execution_count": 74,
     "metadata": {},
     "output_type": "execute_result"
    }
   ],
   "source": [
    "#It's important to note that the equals() method (shown in the first trick) requires identical data types in order to return True:\n",
    "#This returned False because \"c\" is integer and \"d\" is float.\n",
    "df.c.equals(df.d)"
   ]
  }
 ],
 "metadata": {
  "celltoolbar": "Slideshow",
  "kernelspec": {
   "display_name": "Python 3 (ipykernel)",
   "language": "python",
   "name": "python3"
  },
  "language_info": {
   "codemirror_mode": {
    "name": "ipython",
    "version": 3
   },
   "file_extension": ".py",
   "mimetype": "text/x-python",
   "name": "python",
   "nbconvert_exporter": "python",
   "pygments_lexer": "ipython3",
   "version": "3.9.18"
  }
 },
 "nbformat": 4,
 "nbformat_minor": 5
}
